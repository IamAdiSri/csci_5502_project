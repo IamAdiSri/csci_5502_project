{
 "cells": [
  {
   "cell_type": "code",
   "execution_count": 1,
   "metadata": {},
   "outputs": [
    {
     "name": "stdout",
     "output_type": "stream",
     "text": [
      "device='cuda'\n"
     ]
    }
   ],
   "source": [
    "import numpy as np\n",
    "import random\n",
    "import torch\n",
    "from src.dataloaders import Dataset, PairwiseDataset\n",
    "from src.models import MatrixFactorizationRMSEModel, MatrixFactorizationBPRModel\n",
    "from src.trainer import Trainer\n",
    "from src.metrics import hitratio, ndcg\n",
    "\n",
    "np.random.seed(42)\n",
    "random.seed(42)\n",
    "device = 'cuda' if torch.cuda.is_available() else 'cpu'\n",
    "# device = 'cpu'\n",
    "print(f\"{device=}\")"
   ]
  },
  {
   "cell_type": "code",
   "execution_count": 2,
   "metadata": {},
   "outputs": [],
   "source": [
    "class config:\n",
    "    data_dir = 'ml-100k'\n",
    "    neg_count = 10\n",
    "    epochs = 50\n",
    "    batch_size = 128\n",
    "    dim = 40\n",
    "    lr = 0.02"
   ]
  },
  {
   "cell_type": "code",
   "execution_count": 3,
   "metadata": {},
   "outputs": [],
   "source": [
    "dataset = Dataset(config.data_dir)\n",
    "# dataset = PairwiseDataset(config.data_dir)\n",
    "dataset.gen_adjacency()\n",
    "dataset.make_train_test()\n",
    "\n",
    "model = MatrixFactorizationRMSEModel(dataset.user_count, dataset.item_count, config.dim)\n",
    "# model = MatrixFactorizationBPRModel(dataset.user_count, dataset.item_count, config.dim)\n",
    "# optimizer = torch.optim.SGD(model.parameters(), lr=config.lr, weight_decay=0.1)\n",
    "optimizer = torch.optim.Adam(model.parameters(), lr=config.lr, weight_decay=0.1)\n",
    "\n",
    "metrics = {\n",
    "    \"HR@1\": (hitratio, {\"top_n\": 1}),\n",
    "    \"HR@5\": (hitratio, {\"top_n\": 5}),\n",
    "    \"HR@10\": (hitratio, {\"top_n\": 10}),\n",
    "    \"NDCG@1\": (ndcg, {\"top_n\": 1}),\n",
    "    \"NDCG@5\": (ndcg, {\"top_n\": 5}),\n",
    "    \"NDCG@10\": (ndcg, {\"top_n\": 10}),\n",
    "}\n",
    "\n",
    "trainer = Trainer(dataset, model, optimizer, metrics, \n",
    "                  epochs=config.epochs, batch_size=config.batch_size,\n",
    "                  device=device)"
   ]
  },
  {
   "cell_type": "code",
   "execution_count": 4,
   "metadata": {},
   "outputs": [
    {
     "name": "stderr",
     "output_type": "stream",
     "text": [
      "                                                                       \r"
     ]
    },
    {
     "name": "stdout",
     "output_type": "stream",
     "text": [
      "Epoch 0: Avg Loss/Batch 0.482849            \n"
     ]
    },
    {
     "name": "stderr",
     "output_type": "stream",
     "text": [
      "                                                   \r"
     ]
    },
    {
     "name": "stdout",
     "output_type": "stream",
     "text": [
      "HR@1: 0.012725344644750796\n",
      "HR@5: 0.08589607635206786\n",
      "HR@10: 0.1823966065747614\n",
      "NDCG@1: 0.012725344644750796\n",
      "NDCG@5: 0.047902182130257605\n",
      "NDCG@10: 0.078729489394622\n"
     ]
    },
    {
     "name": "stderr",
     "output_type": "stream",
     "text": [
      "                                                                       \r"
     ]
    },
    {
     "name": "stdout",
     "output_type": "stream",
     "text": [
      "Epoch 1: Avg Loss/Batch 0.443693            \n"
     ]
    },
    {
     "name": "stderr",
     "output_type": "stream",
     "text": [
      "                                                   \r"
     ]
    },
    {
     "name": "stdout",
     "output_type": "stream",
     "text": [
      "HR@1: 0.015906680805938492\n",
      "HR@5: 0.07529162248144221\n",
      "HR@10: 0.1474019088016967\n",
      "NDCG@1: 0.015906680805938492\n",
      "NDCG@5: 0.04440924843405658\n",
      "NDCG@10: 0.06723657894733304\n"
     ]
    },
    {
     "name": "stderr",
     "output_type": "stream",
     "text": [
      "                                                                       \r"
     ]
    },
    {
     "name": "stdout",
     "output_type": "stream",
     "text": [
      "Epoch 2: Avg Loss/Batch 0.443693            \n"
     ]
    },
    {
     "name": "stderr",
     "output_type": "stream",
     "text": [
      "                                                   \r"
     ]
    },
    {
     "name": "stdout",
     "output_type": "stream",
     "text": [
      "HR@1: 0.010604453870625663\n",
      "HR@5: 0.04665959703075292\n",
      "HR@10: 0.10816542948038176\n",
      "NDCG@1: 0.010604453870625663\n",
      "NDCG@5: 0.027012426597915442\n",
      "NDCG@10: 0.046440197805015355\n"
     ]
    },
    {
     "name": "stderr",
     "output_type": "stream",
     "text": [
      "                                                                       \r"
     ]
    },
    {
     "name": "stdout",
     "output_type": "stream",
     "text": [
      "Epoch 3: Avg Loss/Batch 0.443693            \n"
     ]
    },
    {
     "name": "stderr",
     "output_type": "stream",
     "text": [
      "                                                   \r"
     ]
    },
    {
     "name": "stdout",
     "output_type": "stream",
     "text": [
      "HR@1: 0.019088016967126194\n",
      "HR@5: 0.05514316012725345\n",
      "HR@10: 0.11664899257688228\n",
      "NDCG@1: 0.019088016967126194\n",
      "NDCG@5: 0.03647722872217011\n",
      "NDCG@10: 0.05616749360038396\n"
     ]
    },
    {
     "name": "stderr",
     "output_type": "stream",
     "text": [
      "                                                                       \r"
     ]
    },
    {
     "name": "stdout",
     "output_type": "stream",
     "text": [
      "Epoch 4: Avg Loss/Batch 0.443693            \n"
     ]
    },
    {
     "name": "stderr",
     "output_type": "stream",
     "text": [
      "                                                   \r"
     ]
    },
    {
     "name": "stdout",
     "output_type": "stream",
     "text": [
      "HR@1: 0.01166489925768823\n",
      "HR@5: 0.04984093319194061\n",
      "HR@10: 0.0975609756097561\n",
      "NDCG@1: 0.01166489925768823\n",
      "NDCG@5: 0.029827536638061022\n",
      "NDCG@10: 0.044748051361000483\n"
     ]
    },
    {
     "name": "stderr",
     "output_type": "stream",
     "text": [
      "                                                                       \r"
     ]
    },
    {
     "name": "stdout",
     "output_type": "stream",
     "text": [
      "Epoch 5: Avg Loss/Batch 0.443693            \n"
     ]
    },
    {
     "name": "stderr",
     "output_type": "stream",
     "text": [
      "                                                   \r"
     ]
    },
    {
     "name": "stdout",
     "output_type": "stream",
     "text": [
      "HR@1: 0.008483563096500531\n",
      "HR@5: 0.04665959703075292\n",
      "HR@10: 0.09331919406150584\n",
      "NDCG@1: 0.008483563096500531\n",
      "NDCG@5: 0.026986728068119643\n",
      "NDCG@10: 0.04193026783110648\n"
     ]
    },
    {
     "name": "stderr",
     "output_type": "stream",
     "text": [
      "                                                                       \r"
     ]
    },
    {
     "name": "stdout",
     "output_type": "stream",
     "text": [
      "Epoch 6: Avg Loss/Batch 0.443693            \n"
     ]
    },
    {
     "name": "stderr",
     "output_type": "stream",
     "text": [
      "                                                   \r"
     ]
    },
    {
     "name": "stdout",
     "output_type": "stream",
     "text": [
      "HR@1: 0.006362672322375398\n",
      "HR@5: 0.05090137857900318\n",
      "HR@10: 0.10392364793213149\n",
      "NDCG@1: 0.006362672322375398\n",
      "NDCG@5: 0.02783424164771332\n",
      "NDCG@10: 0.04476733473889774\n"
     ]
    },
    {
     "name": "stderr",
     "output_type": "stream",
     "text": [
      "                                                                       \r"
     ]
    },
    {
     "name": "stdout",
     "output_type": "stream",
     "text": [
      "Epoch 7: Avg Loss/Batch 0.443693            \n"
     ]
    },
    {
     "name": "stderr",
     "output_type": "stream",
     "text": [
      "                                                   \r"
     ]
    },
    {
     "name": "stdout",
     "output_type": "stream",
     "text": [
      "HR@1: 0.009544008483563097\n",
      "HR@5: 0.04772004241781548\n",
      "HR@10: 0.09650053022269353\n",
      "NDCG@1: 0.009544008483563097\n",
      "NDCG@5: 0.02866596298289514\n",
      "NDCG@10: 0.04402228010555428\n"
     ]
    },
    {
     "name": "stderr",
     "output_type": "stream",
     "text": [
      "                                                                       \r"
     ]
    },
    {
     "name": "stdout",
     "output_type": "stream",
     "text": [
      "Epoch 8: Avg Loss/Batch 0.443693            \n"
     ]
    },
    {
     "name": "stderr",
     "output_type": "stream",
     "text": [
      "                                                   \r"
     ]
    },
    {
     "name": "stdout",
     "output_type": "stream",
     "text": [
      "HR@1: 0.007423117709437964\n",
      "HR@5: 0.044538706256627786\n",
      "HR@10: 0.09437963944856839\n",
      "NDCG@1: 0.007423117709437964\n",
      "NDCG@5: 0.025756019243407424\n",
      "NDCG@10: 0.04175557929222965\n"
     ]
    },
    {
     "name": "stderr",
     "output_type": "stream",
     "text": [
      "                                                                       \r"
     ]
    },
    {
     "name": "stdout",
     "output_type": "stream",
     "text": [
      "Epoch 9: Avg Loss/Batch 0.443693            \n"
     ]
    },
    {
     "name": "stderr",
     "output_type": "stream",
     "text": [
      "                                                   \r"
     ]
    },
    {
     "name": "stdout",
     "output_type": "stream",
     "text": [
      "HR@1: 0.0042417815482502655\n",
      "HR@5: 0.043478260869565216\n",
      "HR@10: 0.08907741251325557\n",
      "NDCG@1: 0.0042417815482502655\n",
      "NDCG@5: 0.023803503596431495\n",
      "NDCG@10: 0.03824630026660365\n"
     ]
    },
    {
     "name": "stderr",
     "output_type": "stream",
     "text": [
      "                                                                        \r"
     ]
    },
    {
     "name": "stdout",
     "output_type": "stream",
     "text": [
      "Epoch 10: Avg Loss/Batch 0.443693            \n"
     ]
    },
    {
     "name": "stderr",
     "output_type": "stream",
     "text": [
      "                                                   \r"
     ]
    },
    {
     "name": "stdout",
     "output_type": "stream",
     "text": [
      "HR@1: 0.016967126193001062\n",
      "HR@5: 0.05620360551431601\n",
      "HR@10: 0.1102863202545069\n",
      "NDCG@1: 0.016967126193001062\n",
      "NDCG@5: 0.036722922614074296\n",
      "NDCG@10: 0.05382767193453573\n"
     ]
    },
    {
     "name": "stderr",
     "output_type": "stream",
     "text": [
      "                                                                        \r"
     ]
    },
    {
     "name": "stdout",
     "output_type": "stream",
     "text": [
      "Epoch 11: Avg Loss/Batch 0.443693            \n"
     ]
    },
    {
     "name": "stderr",
     "output_type": "stream",
     "text": [
      "                                                   \r"
     ]
    },
    {
     "name": "stdout",
     "output_type": "stream",
     "text": [
      "HR@1: 0.009544008483563097\n",
      "HR@5: 0.05408271474019088\n",
      "HR@10: 0.10392364793213149\n",
      "NDCG@1: 0.009544008483563097\n",
      "NDCG@5: 0.03026158313226044\n",
      "NDCG@10: 0.04610942787704149\n"
     ]
    },
    {
     "name": "stderr",
     "output_type": "stream",
     "text": [
      "                                                                        \r"
     ]
    },
    {
     "name": "stdout",
     "output_type": "stream",
     "text": [
      "Epoch 12: Avg Loss/Batch 0.443693            \n"
     ]
    },
    {
     "name": "stderr",
     "output_type": "stream",
     "text": [
      "                                                   \r"
     ]
    },
    {
     "name": "stdout",
     "output_type": "stream",
     "text": [
      "HR@1: 0.013785790031813362\n",
      "HR@5: 0.04559915164369035\n",
      "HR@10: 0.0975609756097561\n",
      "NDCG@1: 0.013785790031813362\n",
      "NDCG@5: 0.02861757355842613\n",
      "NDCG@10: 0.04522396210130697\n"
     ]
    },
    {
     "name": "stderr",
     "output_type": "stream",
     "text": [
      "                                                                        \r"
     ]
    },
    {
     "name": "stdout",
     "output_type": "stream",
     "text": [
      "Epoch 13: Avg Loss/Batch 0.443693            \n"
     ]
    },
    {
     "name": "stderr",
     "output_type": "stream",
     "text": [
      "                                                   \r"
     ]
    },
    {
     "name": "stdout",
     "output_type": "stream",
     "text": [
      "HR@1: 0.005302226935312832\n",
      "HR@5: 0.05620360551431601\n",
      "HR@10: 0.1007423117709438\n",
      "NDCG@1: 0.005302226935312832\n",
      "NDCG@5: 0.030669357582552643\n",
      "NDCG@10: 0.04515352569884035\n"
     ]
    },
    {
     "name": "stderr",
     "output_type": "stream",
     "text": [
      "                                                                        \r"
     ]
    },
    {
     "name": "stdout",
     "output_type": "stream",
     "text": [
      "Epoch 14: Avg Loss/Batch 0.443693            \n"
     ]
    },
    {
     "name": "stderr",
     "output_type": "stream",
     "text": [
      "                                                   \r"
     ]
    },
    {
     "name": "stdout",
     "output_type": "stream",
     "text": [
      "HR@1: 0.018027571580063628\n",
      "HR@5: 0.06256627783669141\n",
      "HR@10: 0.11983032873807\n",
      "NDCG@1: 0.018027571580063628\n",
      "NDCG@5: 0.03827146813535963\n",
      "NDCG@10: 0.056770931178710037\n"
     ]
    },
    {
     "name": "stderr",
     "output_type": "stream",
     "text": [
      "                                                                        \r"
     ]
    },
    {
     "name": "stdout",
     "output_type": "stream",
     "text": [
      "Epoch 15: Avg Loss/Batch 0.443693            \n"
     ]
    },
    {
     "name": "stderr",
     "output_type": "stream",
     "text": [
      "                                                   \r"
     ]
    },
    {
     "name": "stdout",
     "output_type": "stream",
     "text": [
      "HR@1: 0.006362672322375398\n",
      "HR@5: 0.04878048780487805\n",
      "HR@10: 0.0975609756097561\n",
      "NDCG@1: 0.006362672322375398\n",
      "NDCG@5: 0.027376218597946388\n",
      "NDCG@10: 0.042839042835877215\n"
     ]
    },
    {
     "name": "stderr",
     "output_type": "stream",
     "text": [
      "                                                                        \r"
     ]
    },
    {
     "name": "stdout",
     "output_type": "stream",
     "text": [
      "Epoch 16: Avg Loss/Batch 0.443693            \n"
     ]
    },
    {
     "name": "stderr",
     "output_type": "stream",
     "text": [
      "                                                   \r"
     ]
    },
    {
     "name": "stdout",
     "output_type": "stream",
     "text": [
      "HR@1: 0.007423117709437964\n",
      "HR@5: 0.05408271474019088\n",
      "HR@10: 0.1102863202545069\n",
      "NDCG@1: 0.007423117709437964\n",
      "NDCG@5: 0.03156583481667376\n",
      "NDCG@10: 0.049411355387102916\n"
     ]
    },
    {
     "name": "stderr",
     "output_type": "stream",
     "text": [
      "                                                                        \r"
     ]
    },
    {
     "name": "stdout",
     "output_type": "stream",
     "text": [
      "Epoch 17: Avg Loss/Batch 0.443693            \n"
     ]
    },
    {
     "name": "stderr",
     "output_type": "stream",
     "text": [
      "                                                   \r"
     ]
    },
    {
     "name": "stdout",
     "output_type": "stream",
     "text": [
      "HR@1: 0.010604453870625663\n",
      "HR@5: 0.03923647932131495\n",
      "HR@10: 0.09013785790031813\n",
      "NDCG@1: 0.010604453870625663\n",
      "NDCG@5: 0.025202560560639232\n",
      "NDCG@10: 0.041610010843402684\n"
     ]
    },
    {
     "name": "stderr",
     "output_type": "stream",
     "text": [
      "                                                                        \r"
     ]
    },
    {
     "name": "stdout",
     "output_type": "stream",
     "text": [
      "Epoch 18: Avg Loss/Batch 0.443693            \n"
     ]
    },
    {
     "name": "stderr",
     "output_type": "stream",
     "text": [
      "                                                   \r"
     ]
    },
    {
     "name": "stdout",
     "output_type": "stream",
     "text": [
      "HR@1: 0.008483563096500531\n",
      "HR@5: 0.04559915164369035\n",
      "HR@10: 0.09225874867444327\n",
      "NDCG@1: 0.008483563096500531\n",
      "NDCG@5: 0.025698871993671338\n",
      "NDCG@10: 0.04061931821866086\n"
     ]
    },
    {
     "name": "stderr",
     "output_type": "stream",
     "text": [
      "                                                                        \r"
     ]
    },
    {
     "name": "stdout",
     "output_type": "stream",
     "text": [
      "Epoch 19: Avg Loss/Batch 0.443693            \n"
     ]
    },
    {
     "name": "stderr",
     "output_type": "stream",
     "text": [
      "                                                   \r"
     ]
    },
    {
     "name": "stdout",
     "output_type": "stream",
     "text": [
      "HR@1: 0.005302226935312832\n",
      "HR@5: 0.042417815482502653\n",
      "HR@10: 0.08695652173913043\n",
      "NDCG@1: 0.005302226935312832\n",
      "NDCG@5: 0.023062811635990207\n",
      "NDCG@10: 0.03719671825114308\n"
     ]
    },
    {
     "name": "stderr",
     "output_type": "stream",
     "text": [
      "                                                                        \r"
     ]
    },
    {
     "name": "stdout",
     "output_type": "stream",
     "text": [
      "Epoch 20: Avg Loss/Batch 0.443693            \n"
     ]
    },
    {
     "name": "stderr",
     "output_type": "stream",
     "text": [
      "                                                   \r"
     ]
    },
    {
     "name": "stdout",
     "output_type": "stream",
     "text": [
      "HR@1: 0.01166489925768823\n",
      "HR@5: 0.05620360551431601\n",
      "HR@10: 0.10604453870625663\n",
      "NDCG@1: 0.01166489925768823\n",
      "NDCG@5: 0.03351834974770267\n",
      "NDCG@10: 0.04925570989543896\n"
     ]
    },
    {
     "name": "stderr",
     "output_type": "stream",
     "text": [
      "                                                                        \r"
     ]
    },
    {
     "name": "stdout",
     "output_type": "stream",
     "text": [
      "Epoch 21: Avg Loss/Batch 0.443693            \n"
     ]
    },
    {
     "name": "stderr",
     "output_type": "stream",
     "text": [
      "                                                   \r"
     ]
    },
    {
     "name": "stdout",
     "output_type": "stream",
     "text": [
      "HR@1: 0.009544008483563097\n",
      "HR@5: 0.03923647932131495\n",
      "HR@10: 0.09437963944856839\n",
      "NDCG@1: 0.009544008483563097\n",
      "NDCG@5: 0.024367034900855802\n",
      "NDCG@10: 0.04157526520193852\n"
     ]
    },
    {
     "name": "stderr",
     "output_type": "stream",
     "text": [
      "                                                                        \r"
     ]
    },
    {
     "name": "stdout",
     "output_type": "stream",
     "text": [
      "Epoch 22: Avg Loss/Batch 0.443693            \n"
     ]
    },
    {
     "name": "stderr",
     "output_type": "stream",
     "text": [
      "                                                   \r"
     ]
    },
    {
     "name": "stdout",
     "output_type": "stream",
     "text": [
      "HR@1: 0.010604453870625663\n",
      "HR@5: 0.03817603393425239\n",
      "HR@10: 0.08483563096500531\n",
      "NDCG@1: 0.010604453870625663\n",
      "NDCG@5: 0.024062306164662095\n",
      "NDCG@10: 0.03904524162219123\n"
     ]
    },
    {
     "name": "stderr",
     "output_type": "stream",
     "text": [
      "                                                                        \r"
     ]
    },
    {
     "name": "stdout",
     "output_type": "stream",
     "text": [
      "Epoch 23: Avg Loss/Batch 0.443693            \n"
     ]
    },
    {
     "name": "stderr",
     "output_type": "stream",
     "text": [
      "                                                   \r"
     ]
    },
    {
     "name": "stdout",
     "output_type": "stream",
     "text": [
      "HR@1: 0.012725344644750796\n",
      "HR@5: 0.04029692470837752\n",
      "HR@10: 0.09650053022269353\n",
      "NDCG@1: 0.012725344644750796\n",
      "NDCG@5: 0.025665536395124623\n",
      "NDCG@10: 0.043392239746988935\n"
     ]
    },
    {
     "name": "stderr",
     "output_type": "stream",
     "text": [
      "                                                                        \r"
     ]
    },
    {
     "name": "stdout",
     "output_type": "stream",
     "text": [
      "Epoch 24: Avg Loss/Batch 0.443693            \n"
     ]
    },
    {
     "name": "stderr",
     "output_type": "stream",
     "text": [
      "                                                   \r"
     ]
    },
    {
     "name": "stdout",
     "output_type": "stream",
     "text": [
      "HR@1: 0.014846235418875928\n",
      "HR@5: 0.05090137857900318\n",
      "HR@10: 0.09862142099681867\n",
      "NDCG@1: 0.014846235418875928\n",
      "NDCG@5: 0.03295421722556625\n",
      "NDCG@10: 0.04842443706974414\n"
     ]
    },
    {
     "name": "stderr",
     "output_type": "stream",
     "text": [
      "                                                                        \r"
     ]
    },
    {
     "name": "stdout",
     "output_type": "stream",
     "text": [
      "Epoch 25: Avg Loss/Batch 0.443693            \n"
     ]
    },
    {
     "name": "stderr",
     "output_type": "stream",
     "text": [
      "                                                   \r"
     ]
    },
    {
     "name": "stdout",
     "output_type": "stream",
     "text": [
      "HR@1: 0.01166489925768823\n",
      "HR@5: 0.04878048780487805\n",
      "HR@10: 0.0911983032873807\n",
      "NDCG@1: 0.01166489925768823\n",
      "NDCG@5: 0.03006370515071384\n",
      "NDCG@10: 0.04388482933856297\n"
     ]
    },
    {
     "name": "stderr",
     "output_type": "stream",
     "text": [
      "                                                                        \r"
     ]
    },
    {
     "name": "stdout",
     "output_type": "stream",
     "text": [
      "Epoch 26: Avg Loss/Batch 0.443693            \n"
     ]
    },
    {
     "name": "stderr",
     "output_type": "stream",
     "text": [
      "                                                   \r"
     ]
    },
    {
     "name": "stdout",
     "output_type": "stream",
     "text": [
      "HR@1: 0.018027571580063628\n",
      "HR@5: 0.06256627783669141\n",
      "HR@10: 0.11134676564156946\n",
      "NDCG@1: 0.018027571580063628\n",
      "NDCG@5: 0.03945573268519871\n",
      "NDCG@10: 0.05513468011812291\n"
     ]
    },
    {
     "name": "stderr",
     "output_type": "stream",
     "text": [
      "                                                                        \r"
     ]
    },
    {
     "name": "stdout",
     "output_type": "stream",
     "text": [
      "Epoch 27: Avg Loss/Batch 0.443693            \n"
     ]
    },
    {
     "name": "stderr",
     "output_type": "stream",
     "text": [
      "                                                   \r"
     ]
    },
    {
     "name": "stdout",
     "output_type": "stream",
     "text": [
      "HR@1: 0.006362672322375398\n",
      "HR@5: 0.04878048780487805\n",
      "HR@10: 0.08695652173913043\n",
      "NDCG@1: 0.006362672322375398\n",
      "NDCG@5: 0.028041480820080154\n",
      "NDCG@10: 0.03994563630507638\n"
     ]
    },
    {
     "name": "stderr",
     "output_type": "stream",
     "text": [
      "                                                                        \r"
     ]
    },
    {
     "name": "stdout",
     "output_type": "stream",
     "text": [
      "Epoch 28: Avg Loss/Batch 0.443693            \n"
     ]
    },
    {
     "name": "stderr",
     "output_type": "stream",
     "text": [
      "                                                   \r"
     ]
    },
    {
     "name": "stdout",
     "output_type": "stream",
     "text": [
      "HR@1: 0.009544008483563097\n",
      "HR@5: 0.044538706256627786\n",
      "HR@10: 0.0975609756097561\n",
      "NDCG@1: 0.009544008483563097\n",
      "NDCG@5: 0.027260611449926222\n",
      "NDCG@10: 0.04420275183052765\n"
     ]
    },
    {
     "name": "stderr",
     "output_type": "stream",
     "text": [
      "                                                                        \r"
     ]
    },
    {
     "name": "stdout",
     "output_type": "stream",
     "text": [
      "Epoch 29: Avg Loss/Batch 0.443693            \n"
     ]
    },
    {
     "name": "stderr",
     "output_type": "stream",
     "text": [
      "                                                   \r"
     ]
    },
    {
     "name": "stdout",
     "output_type": "stream",
     "text": [
      "HR@1: 0.01166489925768823\n",
      "HR@5: 0.060445387062566275\n",
      "HR@10: 0.11346765641569459\n",
      "NDCG@1: 0.01166489925768823\n",
      "NDCG@5: 0.03528803909121325\n",
      "NDCG@10: 0.05208451415738529\n"
     ]
    },
    {
     "name": "stderr",
     "output_type": "stream",
     "text": [
      "                                                                        \r"
     ]
    },
    {
     "name": "stdout",
     "output_type": "stream",
     "text": [
      "Epoch 30: Avg Loss/Batch 0.443693            \n"
     ]
    },
    {
     "name": "stderr",
     "output_type": "stream",
     "text": [
      "                                                   \r"
     ]
    },
    {
     "name": "stdout",
     "output_type": "stream",
     "text": [
      "HR@1: 0.012725344644750796\n",
      "HR@5: 0.04665959703075292\n",
      "HR@10: 0.09437963944856839\n",
      "NDCG@1: 0.012725344644750796\n",
      "NDCG@5: 0.02929350961992814\n",
      "NDCG@10: 0.04448933201373068\n"
     ]
    },
    {
     "name": "stderr",
     "output_type": "stream",
     "text": [
      "                                                                        \r"
     ]
    },
    {
     "name": "stdout",
     "output_type": "stream",
     "text": [
      "Epoch 31: Avg Loss/Batch 0.443693            \n"
     ]
    },
    {
     "name": "stderr",
     "output_type": "stream",
     "text": [
      "                                                   \r"
     ]
    },
    {
     "name": "stdout",
     "output_type": "stream",
     "text": [
      "HR@1: 0.012725344644750796\n",
      "HR@5: 0.05938494167550371\n",
      "HR@10: 0.1102863202545069\n",
      "NDCG@1: 0.012725344644750796\n",
      "NDCG@5: 0.03513033780343229\n",
      "NDCG@10: 0.0514865861848163\n"
     ]
    },
    {
     "name": "stderr",
     "output_type": "stream",
     "text": [
      "                                                                        \r"
     ]
    },
    {
     "name": "stdout",
     "output_type": "stream",
     "text": [
      "Epoch 32: Avg Loss/Batch 0.443693            \n"
     ]
    },
    {
     "name": "stderr",
     "output_type": "stream",
     "text": [
      "                                                   \r"
     ]
    },
    {
     "name": "stdout",
     "output_type": "stream",
     "text": [
      "HR@1: 0.013785790031813362\n",
      "HR@5: 0.044538706256627786\n",
      "HR@10: 0.09013785790031813\n",
      "NDCG@1: 0.013785790031813362\n",
      "NDCG@5: 0.029444342108889496\n",
      "NDCG@10: 0.04354303917181251\n"
     ]
    },
    {
     "name": "stderr",
     "output_type": "stream",
     "text": [
      "                                                                        \r"
     ]
    },
    {
     "name": "stdout",
     "output_type": "stream",
     "text": [
      "Epoch 33: Avg Loss/Batch 0.443693            \n"
     ]
    },
    {
     "name": "stderr",
     "output_type": "stream",
     "text": [
      "                                                   \r"
     ]
    },
    {
     "name": "stdout",
     "output_type": "stream",
     "text": [
      "HR@1: 0.008483563096500531\n",
      "HR@5: 0.04772004241781548\n",
      "HR@10: 0.10180275715800637\n",
      "NDCG@1: 0.008483563096500531\n",
      "NDCG@5: 0.027435827672294334\n",
      "NDCG@10: 0.04480262239704417\n"
     ]
    },
    {
     "name": "stderr",
     "output_type": "stream",
     "text": [
      "                                                                        \r"
     ]
    },
    {
     "name": "stdout",
     "output_type": "stream",
     "text": [
      "Epoch 34: Avg Loss/Batch 0.443693            \n"
     ]
    },
    {
     "name": "stderr",
     "output_type": "stream",
     "text": [
      "                                                   \r"
     ]
    },
    {
     "name": "stdout",
     "output_type": "stream",
     "text": [
      "HR@1: 0.01166489925768823\n",
      "HR@5: 0.05408271474019088\n",
      "HR@10: 0.11983032873807\n",
      "NDCG@1: 0.01166489925768823\n",
      "NDCG@5: 0.03263254706889681\n",
      "NDCG@10: 0.053719457438719316\n"
     ]
    },
    {
     "name": "stderr",
     "output_type": "stream",
     "text": [
      "                                                                        \r"
     ]
    },
    {
     "name": "stdout",
     "output_type": "stream",
     "text": [
      "Epoch 35: Avg Loss/Batch 0.443693            \n"
     ]
    },
    {
     "name": "stderr",
     "output_type": "stream",
     "text": [
      "                                                   \r"
     ]
    },
    {
     "name": "stdout",
     "output_type": "stream",
     "text": [
      "HR@1: 0.008483563096500531\n",
      "HR@5: 0.04029692470837752\n",
      "HR@10: 0.09331919406150584\n",
      "NDCG@1: 0.008483563096500531\n",
      "NDCG@5: 0.024007649875032604\n",
      "NDCG@10: 0.04105450406161621\n"
     ]
    },
    {
     "name": "stderr",
     "output_type": "stream",
     "text": [
      "                                                                        \r"
     ]
    },
    {
     "name": "stdout",
     "output_type": "stream",
     "text": [
      "Epoch 36: Avg Loss/Batch 0.443693            \n"
     ]
    },
    {
     "name": "stderr",
     "output_type": "stream",
     "text": [
      "                                                   \r"
     ]
    },
    {
     "name": "stdout",
     "output_type": "stream",
     "text": [
      "HR@1: 0.014846235418875928\n",
      "HR@5: 0.05408271474019088\n",
      "HR@10: 0.11240721102863202\n",
      "NDCG@1: 0.014846235418875928\n",
      "NDCG@5: 0.03420435771491377\n",
      "NDCG@10: 0.05257455435664521\n"
     ]
    },
    {
     "name": "stderr",
     "output_type": "stream",
     "text": [
      "                                                                        \r"
     ]
    },
    {
     "name": "stdout",
     "output_type": "stream",
     "text": [
      "Epoch 37: Avg Loss/Batch 0.443693            \n"
     ]
    },
    {
     "name": "stderr",
     "output_type": "stream",
     "text": [
      "                                                   \r"
     ]
    },
    {
     "name": "stdout",
     "output_type": "stream",
     "text": [
      "HR@1: 0.01166489925768823\n",
      "HR@5: 0.042417815482502653\n",
      "HR@10: 0.07953340402969247\n",
      "NDCG@1: 0.01166489925768823\n",
      "NDCG@5: 0.025986465985463465\n",
      "NDCG@10: 0.03787681418079415\n"
     ]
    },
    {
     "name": "stderr",
     "output_type": "stream",
     "text": [
      "                                                                        \r"
     ]
    },
    {
     "name": "stdout",
     "output_type": "stream",
     "text": [
      "Epoch 38: Avg Loss/Batch 0.443693            \n"
     ]
    },
    {
     "name": "stderr",
     "output_type": "stream",
     "text": [
      "                                                   \r"
     ]
    },
    {
     "name": "stdout",
     "output_type": "stream",
     "text": [
      "HR@1: 0.010604453870625663\n",
      "HR@5: 0.053022269353128315\n",
      "HR@10: 0.1007423117709438\n",
      "NDCG@1: 0.010604453870625663\n",
      "NDCG@5: 0.03138678513420931\n",
      "NDCG@10: 0.046379284645930864\n"
     ]
    },
    {
     "name": "stderr",
     "output_type": "stream",
     "text": [
      "                                                                        \r"
     ]
    },
    {
     "name": "stdout",
     "output_type": "stream",
     "text": [
      "Epoch 39: Avg Loss/Batch 0.443693            \n"
     ]
    },
    {
     "name": "stderr",
     "output_type": "stream",
     "text": [
      "                                                   \r"
     ]
    },
    {
     "name": "stdout",
     "output_type": "stream",
     "text": [
      "HR@1: 0.013785790031813362\n",
      "HR@5: 0.05090137857900318\n",
      "HR@10: 0.0975609756097561\n",
      "NDCG@1: 0.013785790031813362\n",
      "NDCG@5: 0.03211869156578282\n",
      "NDCG@10: 0.04685983235165465\n"
     ]
    },
    {
     "name": "stderr",
     "output_type": "stream",
     "text": [
      "                                                                        \r"
     ]
    },
    {
     "name": "stdout",
     "output_type": "stream",
     "text": [
      "Epoch 40: Avg Loss/Batch 0.443693            \n"
     ]
    },
    {
     "name": "stderr",
     "output_type": "stream",
     "text": [
      "                                                   \r"
     ]
    },
    {
     "name": "stdout",
     "output_type": "stream",
     "text": [
      "HR@1: 0.012725344644750796\n",
      "HR@5: 0.043478260869565216\n",
      "HR@10: 0.08589607635206786\n",
      "NDCG@1: 0.012725344644750796\n",
      "NDCG@5: 0.027525708586918007\n",
      "NDCG@10: 0.04080936714797035\n"
     ]
    },
    {
     "name": "stderr",
     "output_type": "stream",
     "text": [
      "                                                                        \r"
     ]
    },
    {
     "name": "stdout",
     "output_type": "stream",
     "text": [
      "Epoch 41: Avg Loss/Batch 0.443693            \n"
     ]
    },
    {
     "name": "stderr",
     "output_type": "stream",
     "text": [
      "                                                   \r"
     ]
    },
    {
     "name": "stdout",
     "output_type": "stream",
     "text": [
      "HR@1: 0.005302226935312832\n",
      "HR@5: 0.031813361611876985\n",
      "HR@10: 0.08271474019088017\n",
      "NDCG@1: 0.005302226935312832\n",
      "NDCG@5: 0.01810226075204055\n",
      "NDCG@10: 0.03446457345488602\n"
     ]
    },
    {
     "name": "stderr",
     "output_type": "stream",
     "text": [
      "                                                                        \r"
     ]
    },
    {
     "name": "stdout",
     "output_type": "stream",
     "text": [
      "Epoch 42: Avg Loss/Batch 0.443693            \n"
     ]
    },
    {
     "name": "stderr",
     "output_type": "stream",
     "text": [
      "                                                   \r"
     ]
    },
    {
     "name": "stdout",
     "output_type": "stream",
     "text": [
      "HR@1: 0.012725344644750796\n",
      "HR@5: 0.05514316012725345\n",
      "HR@10: 0.10604453870625663\n",
      "NDCG@1: 0.012725344644750796\n",
      "NDCG@5: 0.03227885467817566\n",
      "NDCG@10: 0.048335707097252684\n"
     ]
    },
    {
     "name": "stderr",
     "output_type": "stream",
     "text": [
      "                                                                        \r"
     ]
    },
    {
     "name": "stdout",
     "output_type": "stream",
     "text": [
      "Epoch 43: Avg Loss/Batch 0.443693            \n"
     ]
    },
    {
     "name": "stderr",
     "output_type": "stream",
     "text": [
      "                                                   \r"
     ]
    },
    {
     "name": "stdout",
     "output_type": "stream",
     "text": [
      "HR@1: 0.0042417815482502655\n",
      "HR@5: 0.04878048780487805\n",
      "HR@10: 0.10392364793213149\n",
      "NDCG@1: 0.0042417815482502655\n",
      "NDCG@5: 0.025133998905204315\n",
      "NDCG@10: 0.04271977249863316\n"
     ]
    },
    {
     "name": "stderr",
     "output_type": "stream",
     "text": [
      "                                                                        \r"
     ]
    },
    {
     "name": "stdout",
     "output_type": "stream",
     "text": [
      "Epoch 44: Avg Loss/Batch 0.443693            \n"
     ]
    },
    {
     "name": "stderr",
     "output_type": "stream",
     "text": [
      "                                                   \r"
     ]
    },
    {
     "name": "stdout",
     "output_type": "stream",
     "text": [
      "HR@1: 0.015906680805938492\n",
      "HR@5: 0.05938494167550371\n",
      "HR@10: 0.09225874867444327\n",
      "NDCG@1: 0.015906680805938492\n",
      "NDCG@5: 0.03655454677097807\n",
      "NDCG@10: 0.04722378666911381\n"
     ]
    },
    {
     "name": "stderr",
     "output_type": "stream",
     "text": [
      "                                                                        \r"
     ]
    },
    {
     "name": "stdout",
     "output_type": "stream",
     "text": [
      "Epoch 45: Avg Loss/Batch 0.443693            \n"
     ]
    },
    {
     "name": "stderr",
     "output_type": "stream",
     "text": [
      "                                                   \r"
     ]
    },
    {
     "name": "stdout",
     "output_type": "stream",
     "text": [
      "HR@1: 0.005302226935312832\n",
      "HR@5: 0.05726405090137858\n",
      "HR@10: 0.11134676564156946\n",
      "NDCG@1: 0.005302226935312832\n",
      "NDCG@5: 0.03247621598470628\n",
      "NDCG@10: 0.04994568026591505\n"
     ]
    },
    {
     "name": "stderr",
     "output_type": "stream",
     "text": [
      "                                                                        \r"
     ]
    },
    {
     "name": "stdout",
     "output_type": "stream",
     "text": [
      "Epoch 46: Avg Loss/Batch 0.443693            \n"
     ]
    },
    {
     "name": "stderr",
     "output_type": "stream",
     "text": [
      "                                                   \r"
     ]
    },
    {
     "name": "stdout",
     "output_type": "stream",
     "text": [
      "HR@1: 0.009544008483563097\n",
      "HR@5: 0.044538706256627786\n",
      "HR@10: 0.08271474019088017\n",
      "NDCG@1: 0.009544008483563097\n",
      "NDCG@5: 0.0264187905054346\n",
      "NDCG@10: 0.03864659842545753\n"
     ]
    },
    {
     "name": "stderr",
     "output_type": "stream",
     "text": [
      "                                                                        \r"
     ]
    },
    {
     "name": "stdout",
     "output_type": "stream",
     "text": [
      "Epoch 47: Avg Loss/Batch 0.443693            \n"
     ]
    },
    {
     "name": "stderr",
     "output_type": "stream",
     "text": [
      "                                                   \r"
     ]
    },
    {
     "name": "stdout",
     "output_type": "stream",
     "text": [
      "HR@1: 0.007423117709437964\n",
      "HR@5: 0.04984093319194061\n",
      "HR@10: 0.088016967126193\n",
      "NDCG@1: 0.007423117709437964\n",
      "NDCG@5: 0.027799017022719138\n",
      "NDCG@10: 0.03989756000465327\n"
     ]
    },
    {
     "name": "stderr",
     "output_type": "stream",
     "text": [
      "                                                                        \r"
     ]
    },
    {
     "name": "stdout",
     "output_type": "stream",
     "text": [
      "Epoch 48: Avg Loss/Batch 0.443693            \n"
     ]
    },
    {
     "name": "stderr",
     "output_type": "stream",
     "text": [
      "                                                   \r"
     ]
    },
    {
     "name": "stdout",
     "output_type": "stream",
     "text": [
      "HR@1: 0.006362672322375398\n",
      "HR@5: 0.043478260869565216\n",
      "HR@10: 0.08695652173913043\n",
      "NDCG@1: 0.006362672322375398\n",
      "NDCG@5: 0.024103825358417454\n",
      "NDCG@10: 0.037858508739738755\n"
     ]
    },
    {
     "name": "stderr",
     "output_type": "stream",
     "text": [
      "                                                                        \r"
     ]
    },
    {
     "name": "stdout",
     "output_type": "stream",
     "text": [
      "Epoch 49: Avg Loss/Batch 0.443693            \n"
     ]
    },
    {
     "name": "stderr",
     "output_type": "stream",
     "text": [
      "                                                   "
     ]
    },
    {
     "name": "stdout",
     "output_type": "stream",
     "text": [
      "HR@1: 0.003181336161187699\n",
      "HR@5: 0.04984093319194061\n",
      "HR@10: 0.09650053022269353\n",
      "NDCG@1: 0.003181336161187699\n",
      "NDCG@5: 0.025890483826004472\n",
      "NDCG@10: 0.04089193387087757\n"
     ]
    },
    {
     "name": "stderr",
     "output_type": "stream",
     "text": [
      "\r"
     ]
    }
   ],
   "source": [
    "trainer.train(evaluate=True)"
   ]
  },
  {
   "cell_type": "markdown",
   "metadata": {},
   "source": [
    "#### Epoch 49: Avg Loss/Batch 20.135686           \n",
    "lr=0.1, weight_decay=0.01, batch_size=256                                               \n",
    "                                                   \n",
    "- HR@1: 0.27465535524920465\n",
    "- HR@5: 0.6246023329798516\n",
    "- HR@10: 0.7762460233297985\n",
    "- NDCG@1: 0.27465535524920465\n",
    "- NDCG@5: 0.45567622373046285\n",
    "- NDCG@10: 0.5050744632837261\n",
    "\n",
    "#### Epoch 49: Avg Loss/Batch 2.268884            \n",
    "lr=0.1, weight_decay=0.001, batch_size=256                             \n",
    "\n",
    "- HR@1: 0.271474019088017\n",
    "- HR@5: 0.6521739130434783\n",
    "- HR@10: 0.8154825026511134\n",
    "- NDCG@1: 0.271474019088017\n",
    "- NDCG@5: 0.46938699909136805\n",
    "- NDCG@10: 0.5226068198556473\n",
    "\n",
    "#### Epoch 49: Avg Loss/Batch 1.926479            \n",
    "lr=0.1, weight_decay=0.001, batch_size=128                             \n",
    "\n",
    "- HR@1: 0.31919406150583246\n",
    "- HR@5: 0.7104984093319194\n",
    "- HR@10: 0.8504772004241782\n",
    "- NDCG@1: 0.31919406150583246\n",
    "- NDCG@5: 0.5225957334522389\n",
    "- NDCG@10: 0.5683831099482718\n",
    "\n",
    "#### Epoch 49: Avg Loss/Batch 1.937064            \n",
    "lr=0.1, weight_decay=0.001, batch_size=128                             \n",
    " \n",
    "- HR@1: 0.3297985153764581\n",
    "- HR@5: 0.6839872746553552\n",
    "- HR@10: 0.848356309650053\n",
    "- NDCG@1: 0.3297985153764581\n",
    "- NDCG@5: 0.5171409534856304\n",
    "- NDCG@10: 0.5709949698866551\n",
    "\n",
    "#### Epoch 99: Avg Loss/Batch 1.799917            \n",
    "lr=0.1, weight_decay=0.001, batch_size=128        \n",
    "                                                   \n",
    "- HR@1: 0.3244962884411453\n",
    "- HR@5: 0.7232237539766702\n",
    "- HR@10: 0.8642629904559915\n",
    "- NDCG@1: 0.3244962884411453\n",
    "- NDCG@5: 0.5335037960184896\n",
    "- NDCG@10: 0.5796056642923276\n",
    "\n",
    "#### Epoch 143: Avg Loss/Batch 1.769505            \n",
    "lr=0.1, weight_decay=0.001, batch_size=128                                                   \n",
    "\n",
    "- HR@1: 0.3372216330858961\n",
    "- HR@5: 0.7253446447507953\n",
    "- HR@10: 0.8685047720042418\n",
    "- NDCG@1: 0.3372216330858961\n",
    "- NDCG@5: 0.5399725224060331\n",
    "- NDCG@10: 0.5865801610610061"
   ]
  },
  {
   "cell_type": "code",
   "execution_count": null,
   "metadata": {},
   "outputs": [],
   "source": [
    "torch.save(trainer.model.state_dict(), \"saved_models/mf.pt\")\n",
    "# trainer.model.load_state_dict(torch.load(\"saved_models/mfbpr.pt\"))"
   ]
  }
 ],
 "metadata": {
  "kernelspec": {
   "display_name": "v39",
   "language": "python",
   "name": "python3"
  },
  "language_info": {
   "codemirror_mode": {
    "name": "ipython",
    "version": 3
   },
   "file_extension": ".py",
   "mimetype": "text/x-python",
   "name": "python",
   "nbconvert_exporter": "python",
   "pygments_lexer": "ipython3",
   "version": "3.9.7"
  }
 },
 "nbformat": 4,
 "nbformat_minor": 2
}
