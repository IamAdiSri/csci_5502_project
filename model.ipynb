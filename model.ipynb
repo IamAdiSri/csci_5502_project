{
 "cells": [
  {
   "cell_type": "code",
   "execution_count": 1,
   "metadata": {},
   "outputs": [
    {
     "name": "stdout",
     "output_type": "stream",
     "text": [
      "device='cuda'\n"
     ]
    }
   ],
   "source": [
    "import numpy as np\n",
    "import random\n",
    "import torch\n",
    "from src.data import Dataset\n",
    "from src.models import MatrixFactorizationModel\n",
    "from src.trainer import Trainer\n",
    "from src.evaluation import hitratio, ndcg\n",
    "\n",
    "np.random.seed(42)\n",
    "random.seed(42)\n",
    "device = 'cuda' if torch.cuda.is_available() else 'cpu'\n",
    "# device = 'cpu'\n",
    "print(f\"{device=}\")"
   ]
  },
  {
   "cell_type": "code",
   "execution_count": 2,
   "metadata": {},
   "outputs": [],
   "source": [
    "class config:\n",
    "    data_dir = 'ml-100k'\n",
    "    neg_count = 16\n",
    "    epochs = 50\n",
    "    batch_size = 256\n",
    "    dim = 40\n",
    "    lr = 0.01"
   ]
  },
  {
   "cell_type": "code",
   "execution_count": 3,
   "metadata": {},
   "outputs": [],
   "source": [
    "dataset = Dataset(config.data_dir)\n",
    "dataset.gen_adjacency()\n",
    "dataset.make_train_test()\n",
    "\n",
    "model = MatrixFactorizationModel(dataset.user_count, dataset.item_count, config.dim)\n",
    "optimizer = torch.optim.SGD(model.parameters(), lr=config.lr, weight_decay=0.01)\n",
    "\n",
    "metrics = {\n",
    "    \"HR@1\": (hitratio, {\"top_n\": 1}),\n",
    "    \"HR@5\": (hitratio, {\"top_n\": 5}),\n",
    "    \"HR@10\": (hitratio, {\"top_n\": 10}),\n",
    "    \"NDCG@1\": (ndcg, {\"top_n\": 1}),\n",
    "    \"NDCG@5\": (ndcg, {\"top_n\": 5}),\n",
    "    \"NDCG@10\": (ndcg, {\"top_n\": 10}),\n",
    "}\n",
    "\n",
    "trainer = Trainer(dataset, model, optimizer, metrics, \n",
    "                  epochs=config.epochs, batch_size=config.batch_size,\n",
    "                  device=device)"
   ]
  },
  {
   "cell_type": "code",
   "execution_count": 4,
   "metadata": {},
   "outputs": [
    {
     "data": {
      "text/plain": [
       "(1682, 943)"
      ]
     },
     "execution_count": 4,
     "metadata": {},
     "output_type": "execute_result"
    }
   ],
   "source": [
    "# lens = []\n",
    "# for u in dataset.user_item:\n",
    "#     lens.append(len(dataset.user_item[u]))\n",
    "\n",
    "# np.mean(lens)\n",
    "\n",
    "dataset.item_count, dataset.user_count"
   ]
  },
  {
   "cell_type": "code",
   "execution_count": 5,
   "metadata": {},
   "outputs": [
    {
     "name": "stderr",
     "output_type": "stream",
     "text": [
      "                                                                         \r"
     ]
    },
    {
     "name": "stdout",
     "output_type": "stream",
     "text": [
      "Epoch 0: Avg Loss/Batch 5.236966            \n"
     ]
    },
    {
     "name": "stderr",
     "output_type": "stream",
     "text": [
      "                                                   \r"
     ]
    },
    {
     "name": "stdout",
     "output_type": "stream",
     "text": [
      "HR@1: 0.013785790031813362\n",
      "HR@5: 0.05938494167550371\n",
      "HR@10: 0.10498409331919406\n",
      "NDCG@1: 0.013785790031813362\n",
      "NDCG@5: 0.03517357968736294\n",
      "NDCG@10: 0.04967662554833153\n"
     ]
    },
    {
     "name": "stderr",
     "output_type": "stream",
     "text": [
      "                                                                         \r"
     ]
    },
    {
     "name": "stdout",
     "output_type": "stream",
     "text": [
      "Epoch 1: Avg Loss/Batch 3.530673            \n"
     ]
    },
    {
     "name": "stderr",
     "output_type": "stream",
     "text": [
      "                                                   \r"
     ]
    },
    {
     "name": "stdout",
     "output_type": "stream",
     "text": [
      "HR@1: 0.013785790031813362\n",
      "HR@5: 0.05938494167550371\n",
      "HR@10: 0.10498409331919406\n",
      "NDCG@1: 0.013785790031813362\n",
      "NDCG@5: 0.03517357968736294\n",
      "NDCG@10: 0.04967662554833153\n"
     ]
    },
    {
     "name": "stderr",
     "output_type": "stream",
     "text": [
      "                                                                         \r"
     ]
    },
    {
     "name": "stdout",
     "output_type": "stream",
     "text": [
      "Epoch 2: Avg Loss/Batch 2.393242            \n"
     ]
    },
    {
     "name": "stderr",
     "output_type": "stream",
     "text": [
      "                                                   \r"
     ]
    },
    {
     "name": "stdout",
     "output_type": "stream",
     "text": [
      "HR@1: 0.013785790031813362\n",
      "HR@5: 0.05938494167550371\n",
      "HR@10: 0.10498409331919406\n",
      "NDCG@1: 0.013785790031813362\n",
      "NDCG@5: 0.03517357968736294\n",
      "NDCG@10: 0.04967662554833153\n"
     ]
    },
    {
     "name": "stderr",
     "output_type": "stream",
     "text": [
      "                                                                         \r"
     ]
    },
    {
     "name": "stdout",
     "output_type": "stream",
     "text": [
      "Epoch 3: Avg Loss/Batch 1.640817            \n"
     ]
    },
    {
     "name": "stderr",
     "output_type": "stream",
     "text": [
      "                                                   \r"
     ]
    },
    {
     "name": "stdout",
     "output_type": "stream",
     "text": [
      "HR@1: 0.013785790031813362\n",
      "HR@5: 0.05832449628844114\n",
      "HR@10: 0.10604453870625663\n",
      "NDCG@1: 0.013785790031813362\n",
      "NDCG@5: 0.03476334341245887\n",
      "NDCG@10: 0.04995066500346554\n"
     ]
    },
    {
     "name": "stderr",
     "output_type": "stream",
     "text": [
      "                                                                         \r"
     ]
    },
    {
     "name": "stdout",
     "output_type": "stream",
     "text": [
      "Epoch 4: Avg Loss/Batch 1.150875            \n"
     ]
    },
    {
     "name": "stderr",
     "output_type": "stream",
     "text": [
      "                                                   \r"
     ]
    },
    {
     "name": "stdout",
     "output_type": "stream",
     "text": [
      "HR@1: 0.013785790031813362\n",
      "HR@5: 0.05832449628844114\n",
      "HR@10: 0.10604453870625663\n",
      "NDCG@1: 0.013785790031813362\n",
      "NDCG@5: 0.03471687071803803\n",
      "NDCG@10: 0.04990419230904469\n"
     ]
    },
    {
     "name": "stderr",
     "output_type": "stream",
     "text": [
      "                                                                         \r"
     ]
    },
    {
     "name": "stdout",
     "output_type": "stream",
     "text": [
      "Epoch 5: Avg Loss/Batch 0.841272            \n"
     ]
    },
    {
     "name": "stderr",
     "output_type": "stream",
     "text": [
      "                                                   \r"
     ]
    },
    {
     "name": "stdout",
     "output_type": "stream",
     "text": [
      "HR@1: 0.013785790031813362\n",
      "HR@5: 0.05832449628844114\n",
      "HR@10: 0.10604453870625663\n",
      "NDCG@1: 0.013785790031813362\n",
      "NDCG@5: 0.03471687071803803\n",
      "NDCG@10: 0.04990419230904469\n"
     ]
    },
    {
     "name": "stderr",
     "output_type": "stream",
     "text": [
      "                                                                         \r"
     ]
    },
    {
     "name": "stdout",
     "output_type": "stream",
     "text": [
      "Epoch 6: Avg Loss/Batch 0.655111            \n"
     ]
    },
    {
     "name": "stderr",
     "output_type": "stream",
     "text": [
      "                                                   \r"
     ]
    },
    {
     "name": "stdout",
     "output_type": "stream",
     "text": [
      "HR@1: 0.013785790031813362\n",
      "HR@5: 0.05832449628844114\n",
      "HR@10: 0.10498409331919406\n",
      "NDCG@1: 0.013785790031813362\n",
      "NDCG@5: 0.03476334341245887\n",
      "NDCG@10: 0.049646746536294556\n"
     ]
    },
    {
     "name": "stderr",
     "output_type": "stream",
     "text": [
      "                                                                         \r"
     ]
    },
    {
     "name": "stdout",
     "output_type": "stream",
     "text": [
      "Epoch 7: Avg Loss/Batch 0.550467            \n"
     ]
    },
    {
     "name": "stderr",
     "output_type": "stream",
     "text": [
      "                                                   \r"
     ]
    },
    {
     "name": "stdout",
     "output_type": "stream",
     "text": [
      "HR@1: 0.013785790031813362\n",
      "HR@5: 0.05832449628844114\n",
      "HR@10: 0.10604453870625663\n",
      "NDCG@1: 0.013785790031813362\n",
      "NDCG@5: 0.03476334341245887\n",
      "NDCG@10: 0.0499532839979254\n"
     ]
    },
    {
     "name": "stderr",
     "output_type": "stream",
     "text": [
      "                                                                         \r"
     ]
    },
    {
     "name": "stdout",
     "output_type": "stream",
     "text": [
      "Epoch 8: Avg Loss/Batch 0.495683            \n"
     ]
    },
    {
     "name": "stderr",
     "output_type": "stream",
     "text": [
      "                                                   \r"
     ]
    },
    {
     "name": "stdout",
     "output_type": "stream",
     "text": [
      "HR@1: 0.013785790031813362\n",
      "HR@5: 0.05832449628844114\n",
      "HR@10: 0.10604453870625663\n",
      "NDCG@1: 0.013785790031813362\n",
      "NDCG@5: 0.034790384442244394\n",
      "NDCG@10: 0.04998032502771093\n"
     ]
    },
    {
     "name": "stderr",
     "output_type": "stream",
     "text": [
      "                                                                         \r"
     ]
    },
    {
     "name": "stdout",
     "output_type": "stream",
     "text": [
      "Epoch 9: Avg Loss/Batch 0.468612            \n"
     ]
    },
    {
     "name": "stderr",
     "output_type": "stream",
     "text": [
      "                                                   \r"
     ]
    },
    {
     "name": "stdout",
     "output_type": "stream",
     "text": [
      "HR@1: 0.013785790031813362\n",
      "HR@5: 0.05832449628844114\n",
      "HR@10: 0.10604453870625663\n",
      "NDCG@1: 0.013785790031813362\n",
      "NDCG@5: 0.034790384442244394\n",
      "NDCG@10: 0.04998032502771093\n"
     ]
    },
    {
     "name": "stderr",
     "output_type": "stream",
     "text": [
      "                                                                          \r"
     ]
    },
    {
     "name": "stdout",
     "output_type": "stream",
     "text": [
      "Epoch 10: Avg Loss/Batch 0.455723            \n"
     ]
    },
    {
     "name": "stderr",
     "output_type": "stream",
     "text": [
      "                                                   \r"
     ]
    },
    {
     "name": "stdout",
     "output_type": "stream",
     "text": [
      "HR@1: 0.013785790031813362\n",
      "HR@5: 0.05832449628844114\n",
      "HR@10: 0.10498409331919406\n",
      "NDCG@1: 0.013785790031813362\n",
      "NDCG@5: 0.034790384442244394\n",
      "NDCG@10: 0.04967378756608008\n"
     ]
    },
    {
     "name": "stderr",
     "output_type": "stream",
     "text": [
      "                                                                          \r"
     ]
    },
    {
     "name": "stdout",
     "output_type": "stream",
     "text": [
      "Epoch 11: Avg Loss/Batch 0.449709            \n"
     ]
    },
    {
     "name": "stderr",
     "output_type": "stream",
     "text": [
      "                                                   \r"
     ]
    },
    {
     "name": "stdout",
     "output_type": "stream",
     "text": [
      "HR@1: 0.013785790031813362\n",
      "HR@5: 0.05832449628844114\n",
      "HR@10: 0.10498409331919406\n",
      "NDCG@1: 0.013785790031813362\n",
      "NDCG@5: 0.034790384442244394\n",
      "NDCG@10: 0.04967378756608008\n"
     ]
    },
    {
     "name": "stderr",
     "output_type": "stream",
     "text": [
      "                                                                          \r"
     ]
    },
    {
     "name": "stdout",
     "output_type": "stream",
     "text": [
      "Epoch 12: Avg Loss/Batch 0.446931            \n"
     ]
    },
    {
     "name": "stderr",
     "output_type": "stream",
     "text": [
      "                                                   \r"
     ]
    },
    {
     "name": "stdout",
     "output_type": "stream",
     "text": [
      "HR@1: 0.013785790031813362\n",
      "HR@5: 0.05832449628844114\n",
      "HR@10: 0.10604453870625663\n",
      "NDCG@1: 0.013785790031813362\n",
      "NDCG@5: 0.034790384442244394\n",
      "NDCG@10: 0.05000665400826938\n"
     ]
    },
    {
     "name": "stderr",
     "output_type": "stream",
     "text": [
      "                                                                          \r"
     ]
    },
    {
     "name": "stdout",
     "output_type": "stream",
     "text": [
      "Epoch 13: Avg Loss/Batch 0.445655            \n"
     ]
    },
    {
     "name": "stderr",
     "output_type": "stream",
     "text": [
      "                                                   \r"
     ]
    },
    {
     "name": "stdout",
     "output_type": "stream",
     "text": [
      "HR@1: 0.013785790031813362\n",
      "HR@5: 0.05832449628844114\n",
      "HR@10: 0.10604453870625663\n",
      "NDCG@1: 0.013785790031813362\n",
      "NDCG@5: 0.034743911747823555\n",
      "NDCG@10: 0.04993330584666897\n"
     ]
    },
    {
     "name": "stderr",
     "output_type": "stream",
     "text": [
      "                                                                          \r"
     ]
    },
    {
     "name": "stdout",
     "output_type": "stream",
     "text": [
      "Epoch 14: Avg Loss/Batch 0.445071            \n"
     ]
    },
    {
     "name": "stderr",
     "output_type": "stream",
     "text": [
      "                                                   \r"
     ]
    },
    {
     "name": "stdout",
     "output_type": "stream",
     "text": [
      "HR@1: 0.013785790031813362\n",
      "HR@5: 0.05832449628844114\n",
      "HR@10: 0.10604453870625663\n",
      "NDCG@1: 0.013785790031813362\n",
      "NDCG@5: 0.034743911747823555\n",
      "NDCG@10: 0.04993330584666897\n"
     ]
    },
    {
     "name": "stderr",
     "output_type": "stream",
     "text": [
      "                                                                          \r"
     ]
    },
    {
     "name": "stdout",
     "output_type": "stream",
     "text": [
      "Epoch 15: Avg Loss/Batch 0.444805            \n"
     ]
    },
    {
     "name": "stderr",
     "output_type": "stream",
     "text": [
      "                                                   \r"
     ]
    },
    {
     "name": "stdout",
     "output_type": "stream",
     "text": [
      "HR@1: 0.013785790031813362\n",
      "HR@5: 0.05832449628844114\n",
      "HR@10: 0.10604453870625663\n",
      "NDCG@1: 0.013785790031813362\n",
      "NDCG@5: 0.03469743905340271\n",
      "NDCG@10: 0.04989952156088662\n"
     ]
    },
    {
     "name": "stderr",
     "output_type": "stream",
     "text": [
      "                                                                          \r"
     ]
    },
    {
     "name": "stdout",
     "output_type": "stream",
     "text": [
      "Epoch 16: Avg Loss/Batch 0.444685            \n"
     ]
    },
    {
     "name": "stderr",
     "output_type": "stream",
     "text": [
      "                                                   \r"
     ]
    },
    {
     "name": "stdout",
     "output_type": "stream",
     "text": [
      "HR@1: 0.013785790031813362\n",
      "HR@5: 0.05832449628844114\n",
      "HR@10: 0.10604453870625663\n",
      "NDCG@1: 0.013785790031813362\n",
      "NDCG@5: 0.03469743905340271\n",
      "NDCG@10: 0.04989952156088662\n"
     ]
    },
    {
     "name": "stderr",
     "output_type": "stream",
     "text": [
      "                                                                          \r"
     ]
    },
    {
     "name": "stdout",
     "output_type": "stream",
     "text": [
      "Epoch 17: Avg Loss/Batch 0.444632            \n"
     ]
    },
    {
     "name": "stderr",
     "output_type": "stream",
     "text": [
      "                                                   \r"
     ]
    },
    {
     "name": "stdout",
     "output_type": "stream",
     "text": [
      "HR@1: 0.013785790031813362\n",
      "HR@5: 0.05832449628844114\n",
      "HR@10: 0.10604453870625663\n",
      "NDCG@1: 0.013785790031813362\n",
      "NDCG@5: 0.03469743905340271\n",
      "NDCG@10: 0.049886833152248136\n"
     ]
    },
    {
     "name": "stderr",
     "output_type": "stream",
     "text": [
      "                                                                          \r"
     ]
    },
    {
     "name": "stdout",
     "output_type": "stream",
     "text": [
      "Epoch 18: Avg Loss/Batch 0.444610            \n"
     ]
    },
    {
     "name": "stderr",
     "output_type": "stream",
     "text": [
      "                                                   \r"
     ]
    },
    {
     "name": "stdout",
     "output_type": "stream",
     "text": [
      "HR@1: 0.013785790031813362\n",
      "HR@5: 0.05832449628844114\n",
      "HR@10: 0.10604453870625663\n",
      "NDCG@1: 0.013785790031813362\n",
      "NDCG@5: 0.0348362829066068\n",
      "NDCG@10: 0.05001298859681373\n"
     ]
    },
    {
     "name": "stderr",
     "output_type": "stream",
     "text": [
      "                                                                          \r"
     ]
    },
    {
     "name": "stdout",
     "output_type": "stream",
     "text": [
      "Epoch 19: Avg Loss/Batch 0.444601            \n"
     ]
    },
    {
     "name": "stderr",
     "output_type": "stream",
     "text": [
      "                                                  \r"
     ]
    },
    {
     "name": "stdout",
     "output_type": "stream",
     "text": [
      "HR@1: 0.013785790031813362\n",
      "HR@5: 0.05726405090137858\n",
      "HR@10: 0.10604453870625663\n",
      "NDCG@1: 0.013785790031813362\n",
      "NDCG@5: 0.034426046631702734\n",
      "NDCG@10: 0.0500111053965136\n"
     ]
    },
    {
     "name": "stderr",
     "output_type": "stream",
     "text": [
      "                                                                          \r"
     ]
    },
    {
     "name": "stdout",
     "output_type": "stream",
     "text": [
      "Epoch 20: Avg Loss/Batch 0.444598            \n"
     ]
    },
    {
     "name": "stderr",
     "output_type": "stream",
     "text": [
      "                                                   \r"
     ]
    },
    {
     "name": "stdout",
     "output_type": "stream",
     "text": [
      "HR@1: 0.013785790031813362\n",
      "HR@5: 0.05726405090137858\n",
      "HR@10: 0.10604453870625663\n",
      "NDCG@1: 0.013785790031813362\n",
      "NDCG@5: 0.034426046631702734\n",
      "NDCG@10: 0.04999841698787512\n"
     ]
    },
    {
     "name": "stderr",
     "output_type": "stream",
     "text": [
      "                                                                          \r"
     ]
    },
    {
     "name": "stdout",
     "output_type": "stream",
     "text": [
      "Epoch 21: Avg Loss/Batch 0.444597            \n"
     ]
    },
    {
     "name": "stderr",
     "output_type": "stream",
     "text": [
      "                                                   \r"
     ]
    },
    {
     "name": "stdout",
     "output_type": "stream",
     "text": [
      "HR@1: 0.013785790031813362\n",
      "HR@5: 0.05726405090137858\n",
      "HR@10: 0.10604453870625663\n",
      "NDCG@1: 0.013785790031813362\n",
      "NDCG@5: 0.034426046631702734\n",
      "NDCG@10: 0.04999841698787512\n"
     ]
    },
    {
     "name": "stderr",
     "output_type": "stream",
     "text": [
      "                                                                          \r"
     ]
    },
    {
     "name": "stdout",
     "output_type": "stream",
     "text": [
      "Epoch 22: Avg Loss/Batch 0.444597            \n"
     ]
    },
    {
     "name": "stderr",
     "output_type": "stream",
     "text": [
      "                                                   \r"
     ]
    },
    {
     "name": "stdout",
     "output_type": "stream",
     "text": [
      "HR@1: 0.013785790031813362\n",
      "HR@5: 0.05620360551431601\n",
      "HR@10: 0.10604453870625663\n",
      "NDCG@1: 0.013785790031813362\n",
      "NDCG@5: 0.03396933766237782\n",
      "NDCG@10: 0.04990675787831895\n"
     ]
    },
    {
     "name": "stderr",
     "output_type": "stream",
     "text": [
      "                                                                          \r"
     ]
    },
    {
     "name": "stdout",
     "output_type": "stream",
     "text": [
      "Epoch 23: Avg Loss/Batch 0.444598            \n"
     ]
    },
    {
     "name": "stderr",
     "output_type": "stream",
     "text": [
      "                                                   \r"
     ]
    },
    {
     "name": "stdout",
     "output_type": "stream",
     "text": [
      "HR@1: 0.013785790031813362\n",
      "HR@5: 0.05620360551431601\n",
      "HR@10: 0.10604453870625663\n",
      "NDCG@1: 0.013785790031813362\n",
      "NDCG@5: 0.03396933766237782\n",
      "NDCG@10: 0.04990675787831895\n"
     ]
    },
    {
     "name": "stderr",
     "output_type": "stream",
     "text": [
      "                                                                          \r"
     ]
    },
    {
     "name": "stdout",
     "output_type": "stream",
     "text": [
      "Epoch 24: Avg Loss/Batch 0.444598            \n"
     ]
    },
    {
     "name": "stderr",
     "output_type": "stream",
     "text": [
      "                                                   \r"
     ]
    },
    {
     "name": "stdout",
     "output_type": "stream",
     "text": [
      "HR@1: 0.013785790031813362\n",
      "HR@5: 0.05620360551431601\n",
      "HR@10: 0.10604453870625663\n",
      "NDCG@1: 0.013785790031813362\n",
      "NDCG@5: 0.03396933766237782\n",
      "NDCG@10: 0.04989406946968047\n"
     ]
    },
    {
     "name": "stderr",
     "output_type": "stream",
     "text": [
      "                                                                          \r"
     ]
    },
    {
     "name": "stdout",
     "output_type": "stream",
     "text": [
      "Epoch 25: Avg Loss/Batch 0.444599            \n"
     ]
    },
    {
     "name": "stderr",
     "output_type": "stream",
     "text": [
      "                                                   \r"
     ]
    },
    {
     "name": "stdout",
     "output_type": "stream",
     "text": [
      "HR@1: 0.013785790031813362\n",
      "HR@5: 0.05514316012725345\n",
      "HR@10: 0.1071049840933192\n",
      "NDCG@1: 0.013785790031813362\n",
      "NDCG@5: 0.033559101387473755\n",
      "NDCG@10: 0.05016810892481448\n"
     ]
    },
    {
     "name": "stderr",
     "output_type": "stream",
     "text": [
      "                                                                          \r"
     ]
    },
    {
     "name": "stdout",
     "output_type": "stream",
     "text": [
      "Epoch 26: Avg Loss/Batch 0.444599            \n"
     ]
    },
    {
     "name": "stderr",
     "output_type": "stream",
     "text": [
      "                                                   \r"
     ]
    },
    {
     "name": "stdout",
     "output_type": "stream",
     "text": [
      "HR@1: 0.013785790031813362\n",
      "HR@5: 0.05408271474019088\n",
      "HR@10: 0.1071049840933192\n",
      "NDCG@1: 0.013785790031813362\n",
      "NDCG@5: 0.033102392418148836\n",
      "NDCG@10: 0.0500891382238968\n"
     ]
    },
    {
     "name": "stderr",
     "output_type": "stream",
     "text": [
      "                                                                          \r"
     ]
    },
    {
     "name": "stdout",
     "output_type": "stream",
     "text": [
      "Epoch 27: Avg Loss/Batch 0.444600            \n"
     ]
    },
    {
     "name": "stderr",
     "output_type": "stream",
     "text": [
      "                                                   \r"
     ]
    },
    {
     "name": "stdout",
     "output_type": "stream",
     "text": [
      "HR@1: 0.013785790031813362\n",
      "HR@5: 0.053022269353128315\n",
      "HR@10: 0.10816542948038176\n",
      "NDCG@1: 0.013785790031813362\n",
      "NDCG@5: 0.03269215614324476\n",
      "NDCG@10: 0.05035048927039233\n"
     ]
    },
    {
     "name": "stderr",
     "output_type": "stream",
     "text": [
      "                                                                          \r"
     ]
    },
    {
     "name": "stdout",
     "output_type": "stream",
     "text": [
      "Epoch 28: Avg Loss/Batch 0.444600            \n"
     ]
    },
    {
     "name": "stderr",
     "output_type": "stream",
     "text": [
      "                                                   \r"
     ]
    },
    {
     "name": "stdout",
     "output_type": "stream",
     "text": [
      "HR@1: 0.013785790031813362\n",
      "HR@5: 0.053022269353128315\n",
      "HR@10: 0.1071049840933192\n",
      "NDCG@1: 0.013785790031813362\n",
      "NDCG@5: 0.03269215614324476\n",
      "NDCG@10: 0.05006932862603845\n"
     ]
    },
    {
     "name": "stderr",
     "output_type": "stream",
     "text": [
      "                                                                          \r"
     ]
    },
    {
     "name": "stdout",
     "output_type": "stream",
     "text": [
      "Epoch 29: Avg Loss/Batch 0.444600            \n"
     ]
    },
    {
     "name": "stderr",
     "output_type": "stream",
     "text": [
      "                                                   \r"
     ]
    },
    {
     "name": "stdout",
     "output_type": "stream",
     "text": [
      "HR@1: 0.013785790031813362\n",
      "HR@5: 0.053022269353128315\n",
      "HR@10: 0.10604453870625663\n",
      "NDCG@1: 0.013785790031813362\n",
      "NDCG@5: 0.03269215614324476\n",
      "NDCG@10: 0.049775479573046094\n"
     ]
    },
    {
     "name": "stderr",
     "output_type": "stream",
     "text": [
      "                                                                          \r"
     ]
    },
    {
     "name": "stdout",
     "output_type": "stream",
     "text": [
      "Epoch 30: Avg Loss/Batch 0.444600            \n"
     ]
    },
    {
     "name": "stderr",
     "output_type": "stream",
     "text": [
      "                                                   \r"
     ]
    },
    {
     "name": "stdout",
     "output_type": "stream",
     "text": [
      "HR@1: 0.013785790031813362\n",
      "HR@5: 0.053022269353128315\n",
      "HR@10: 0.10604453870625663\n",
      "NDCG@1: 0.013785790031813362\n",
      "NDCG@5: 0.032830999996448854\n",
      "NDCG@10: 0.04989006695353047\n"
     ]
    },
    {
     "name": "stderr",
     "output_type": "stream",
     "text": [
      "                                                                          \r"
     ]
    },
    {
     "name": "stdout",
     "output_type": "stream",
     "text": [
      "Epoch 31: Avg Loss/Batch 0.444600            \n"
     ]
    },
    {
     "name": "stderr",
     "output_type": "stream",
     "text": [
      "                                                   \r"
     ]
    },
    {
     "name": "stdout",
     "output_type": "stream",
     "text": [
      "HR@1: 0.013785790031813362\n",
      "HR@5: 0.053022269353128315\n",
      "HR@10: 0.10604453870625663\n",
      "NDCG@1: 0.013785790031813362\n",
      "NDCG@5: 0.032830999996448854\n",
      "NDCG@10: 0.04987475955043212\n"
     ]
    },
    {
     "name": "stderr",
     "output_type": "stream",
     "text": [
      "                                                                          \r"
     ]
    },
    {
     "name": "stdout",
     "output_type": "stream",
     "text": [
      "Epoch 32: Avg Loss/Batch 0.444600            \n"
     ]
    },
    {
     "name": "stderr",
     "output_type": "stream",
     "text": [
      "                                                   \r"
     ]
    },
    {
     "name": "stdout",
     "output_type": "stream",
     "text": [
      "HR@1: 0.013785790031813362\n",
      "HR@5: 0.053022269353128315\n",
      "HR@10: 0.10498409331919406\n",
      "NDCG@1: 0.013785790031813362\n",
      "NDCG@5: 0.032830999996448854\n",
      "NDCG@10: 0.04956822208880127\n"
     ]
    },
    {
     "name": "stderr",
     "output_type": "stream",
     "text": [
      "                                                                          \r"
     ]
    },
    {
     "name": "stdout",
     "output_type": "stream",
     "text": [
      "Epoch 33: Avg Loss/Batch 0.444601            \n"
     ]
    },
    {
     "name": "stderr",
     "output_type": "stream",
     "text": [
      "                                                   \r"
     ]
    },
    {
     "name": "stdout",
     "output_type": "stream",
     "text": [
      "HR@1: 0.013785790031813362\n",
      "HR@5: 0.053022269353128315\n",
      "HR@10: 0.10498409331919406\n",
      "NDCG@1: 0.013785790031813362\n",
      "NDCG@5: 0.032969843849652944\n",
      "NDCG@10: 0.049694377533366876\n"
     ]
    },
    {
     "name": "stderr",
     "output_type": "stream",
     "text": [
      "                                                                          \r"
     ]
    },
    {
     "name": "stdout",
     "output_type": "stream",
     "text": [
      "Epoch 34: Avg Loss/Batch 0.444601            \n"
     ]
    },
    {
     "name": "stderr",
     "output_type": "stream",
     "text": [
      "                                                   \r"
     ]
    },
    {
     "name": "stdout",
     "output_type": "stream",
     "text": [
      "HR@1: 0.013785790031813362\n",
      "HR@5: 0.053022269353128315\n",
      "HR@10: 0.10498409331919406\n",
      "NDCG@1: 0.013785790031813362\n",
      "NDCG@5: 0.032969843849652944\n",
      "NDCG@10: 0.049694377533366876\n"
     ]
    },
    {
     "name": "stderr",
     "output_type": "stream",
     "text": [
      "                                                                          \r"
     ]
    },
    {
     "name": "stdout",
     "output_type": "stream",
     "text": [
      "Epoch 35: Avg Loss/Batch 0.444601            \n"
     ]
    },
    {
     "name": "stderr",
     "output_type": "stream",
     "text": [
      "                                                   \r"
     ]
    },
    {
     "name": "stdout",
     "output_type": "stream",
     "text": [
      "HR@1: 0.013785790031813362\n",
      "HR@5: 0.053022269353128315\n",
      "HR@10: 0.10498409331919406\n",
      "NDCG@1: 0.013785790031813362\n",
      "NDCG@5: 0.032969843849652944\n",
      "NDCG@10: 0.049694377533366876\n"
     ]
    },
    {
     "name": "stderr",
     "output_type": "stream",
     "text": [
      "                                                                          \r"
     ]
    },
    {
     "name": "stdout",
     "output_type": "stream",
     "text": [
      "Epoch 36: Avg Loss/Batch 0.444601            \n"
     ]
    },
    {
     "name": "stderr",
     "output_type": "stream",
     "text": [
      "                                                   \r"
     ]
    },
    {
     "name": "stdout",
     "output_type": "stream",
     "text": [
      "HR@1: 0.013785790031813362\n",
      "HR@5: 0.051961823966065745\n",
      "HR@10: 0.10498409331919406\n",
      "NDCG@1: 0.013785790031813362\n",
      "NDCG@5: 0.03260608026916971\n",
      "NDCG@10: 0.04970835222129088\n"
     ]
    },
    {
     "name": "stderr",
     "output_type": "stream",
     "text": [
      "                                                                          \r"
     ]
    },
    {
     "name": "stdout",
     "output_type": "stream",
     "text": [
      "Epoch 37: Avg Loss/Batch 0.444601            \n"
     ]
    },
    {
     "name": "stderr",
     "output_type": "stream",
     "text": [
      "                                                   \r"
     ]
    },
    {
     "name": "stdout",
     "output_type": "stream",
     "text": [
      "HR@1: 0.013785790031813362\n",
      "HR@5: 0.051961823966065745\n",
      "HR@10: 0.10498409331919406\n",
      "NDCG@1: 0.013785790031813362\n",
      "NDCG@5: 0.0327449241223738\n",
      "NDCG@10: 0.04984719607449497\n"
     ]
    },
    {
     "name": "stderr",
     "output_type": "stream",
     "text": [
      "                                                                          \r"
     ]
    },
    {
     "name": "stdout",
     "output_type": "stream",
     "text": [
      "Epoch 38: Avg Loss/Batch 0.444601            \n"
     ]
    },
    {
     "name": "stderr",
     "output_type": "stream",
     "text": [
      "                                                  \r"
     ]
    },
    {
     "name": "stdout",
     "output_type": "stream",
     "text": [
      "HR@1: 0.012725344644750796\n",
      "HR@5: 0.051961823966065745\n",
      "HR@10: 0.10498409331919406\n",
      "NDCG@1: 0.012725344644750796\n",
      "NDCG@5: 0.03235354528204661\n",
      "NDCG@10: 0.049455817234167775\n"
     ]
    },
    {
     "name": "stderr",
     "output_type": "stream",
     "text": [
      "                                                                          \r"
     ]
    },
    {
     "name": "stdout",
     "output_type": "stream",
     "text": [
      "Epoch 39: Avg Loss/Batch 0.444601            \n"
     ]
    },
    {
     "name": "stderr",
     "output_type": "stream",
     "text": [
      "                                                   \r"
     ]
    },
    {
     "name": "stdout",
     "output_type": "stream",
     "text": [
      "HR@1: 0.012725344644750796\n",
      "HR@5: 0.051961823966065745\n",
      "HR@10: 0.10498409331919406\n",
      "NDCG@1: 0.012725344644750796\n",
      "NDCG@5: 0.03235354528204661\n",
      "NDCG@10: 0.049455817234167775\n"
     ]
    },
    {
     "name": "stderr",
     "output_type": "stream",
     "text": [
      "                                                                          \r"
     ]
    },
    {
     "name": "stdout",
     "output_type": "stream",
     "text": [
      "Epoch 40: Avg Loss/Batch 0.444601            \n"
     ]
    },
    {
     "name": "stderr",
     "output_type": "stream",
     "text": [
      "                                                   \r"
     ]
    },
    {
     "name": "stdout",
     "output_type": "stream",
     "text": [
      "HR@1: 0.012725344644750796\n",
      "HR@5: 0.051961823966065745\n",
      "HR@10: 0.10498409331919406\n",
      "NDCG@1: 0.012725344644750796\n",
      "NDCG@5: 0.03235354528204661\n",
      "NDCG@10: 0.049455817234167775\n"
     ]
    },
    {
     "name": "stderr",
     "output_type": "stream",
     "text": [
      "                                                                          \r"
     ]
    },
    {
     "name": "stdout",
     "output_type": "stream",
     "text": [
      "Epoch 41: Avg Loss/Batch 0.444601            \n"
     ]
    },
    {
     "name": "stderr",
     "output_type": "stream",
     "text": [
      "                                                   \r"
     ]
    },
    {
     "name": "stdout",
     "output_type": "stream",
     "text": [
      "HR@1: 0.012725344644750796\n",
      "HR@5: 0.051961823966065745\n",
      "HR@10: 0.10392364793213149\n",
      "NDCG@1: 0.012725344644750796\n",
      "NDCG@5: 0.03235354528204661\n",
      "NDCG@10: 0.0491176428415786\n"
     ]
    },
    {
     "name": "stderr",
     "output_type": "stream",
     "text": [
      "                                                                          \r"
     ]
    },
    {
     "name": "stdout",
     "output_type": "stream",
     "text": [
      "Epoch 42: Avg Loss/Batch 0.444601            \n"
     ]
    },
    {
     "name": "stderr",
     "output_type": "stream",
     "text": [
      "                                                   \r"
     ]
    },
    {
     "name": "stdout",
     "output_type": "stream",
     "text": [
      "HR@1: 0.012725344644750796\n",
      "HR@5: 0.051961823966065745\n",
      "HR@10: 0.10392364793213149\n",
      "NDCG@1: 0.012725344644750796\n",
      "NDCG@5: 0.03235354528204661\n",
      "NDCG@10: 0.04908069796022041\n"
     ]
    },
    {
     "name": "stderr",
     "output_type": "stream",
     "text": [
      "                                                                          \r"
     ]
    },
    {
     "name": "stdout",
     "output_type": "stream",
     "text": [
      "Epoch 43: Avg Loss/Batch 0.444601            \n"
     ]
    },
    {
     "name": "stderr",
     "output_type": "stream",
     "text": [
      "                                                   \r"
     ]
    },
    {
     "name": "stdout",
     "output_type": "stream",
     "text": [
      "HR@1: 0.013785790031813362\n",
      "HR@5: 0.051961823966065745\n",
      "HR@10: 0.10392364793213149\n",
      "NDCG@1: 0.013785790031813362\n",
      "NDCG@5: 0.0327449241223738\n",
      "NDCG@10: 0.049472076800547604\n"
     ]
    },
    {
     "name": "stderr",
     "output_type": "stream",
     "text": [
      "                                                                          \r"
     ]
    },
    {
     "name": "stdout",
     "output_type": "stream",
     "text": [
      "Epoch 44: Avg Loss/Batch 0.444601            \n"
     ]
    },
    {
     "name": "stderr",
     "output_type": "stream",
     "text": [
      "                                                   \r"
     ]
    },
    {
     "name": "stdout",
     "output_type": "stream",
     "text": [
      "HR@1: 0.013785790031813362\n",
      "HR@5: 0.051961823966065745\n",
      "HR@10: 0.10498409331919406\n",
      "NDCG@1: 0.013785790031813362\n",
      "NDCG@5: 0.032810254251371525\n",
      "NDCG@10: 0.04984394439117617\n"
     ]
    },
    {
     "name": "stderr",
     "output_type": "stream",
     "text": [
      "                                                                          \r"
     ]
    },
    {
     "name": "stdout",
     "output_type": "stream",
     "text": [
      "Epoch 45: Avg Loss/Batch 0.444601            \n"
     ]
    },
    {
     "name": "stderr",
     "output_type": "stream",
     "text": [
      "                                                   \r"
     ]
    },
    {
     "name": "stdout",
     "output_type": "stream",
     "text": [
      "HR@1: 0.013785790031813362\n",
      "HR@5: 0.053022269353128315\n",
      "HR@10: 0.10498409331919406\n",
      "NDCG@1: 0.013785790031813362\n",
      "NDCG@5: 0.0332204905262756\n",
      "NDCG@10: 0.04989539091999284\n"
     ]
    },
    {
     "name": "stderr",
     "output_type": "stream",
     "text": [
      "                                                                          \r"
     ]
    },
    {
     "name": "stdout",
     "output_type": "stream",
     "text": [
      "Epoch 46: Avg Loss/Batch 0.444601            \n"
     ]
    },
    {
     "name": "stderr",
     "output_type": "stream",
     "text": [
      "                                                   \r"
     ]
    },
    {
     "name": "stdout",
     "output_type": "stream",
     "text": [
      "HR@1: 0.013785790031813362\n",
      "HR@5: 0.053022269353128315\n",
      "HR@10: 0.10498409331919406\n",
      "NDCG@1: 0.013785790031813362\n",
      "NDCG@5: 0.0332204905262756\n",
      "NDCG@10: 0.049871134447273126\n"
     ]
    },
    {
     "name": "stderr",
     "output_type": "stream",
     "text": [
      "                                                                          \r"
     ]
    },
    {
     "name": "stdout",
     "output_type": "stream",
     "text": [
      "Epoch 47: Avg Loss/Batch 0.444601            \n"
     ]
    },
    {
     "name": "stderr",
     "output_type": "stream",
     "text": [
      "                                                  \r"
     ]
    },
    {
     "name": "stdout",
     "output_type": "stream",
     "text": [
      "HR@1: 0.013785790031813362\n",
      "HR@5: 0.053022269353128315\n",
      "HR@10: 0.10498409331919406\n",
      "NDCG@1: 0.013785790031813362\n",
      "NDCG@5: 0.0332204905262756\n",
      "NDCG@10: 0.049871134447273126\n"
     ]
    },
    {
     "name": "stderr",
     "output_type": "stream",
     "text": [
      "                                                                          \r"
     ]
    },
    {
     "name": "stdout",
     "output_type": "stream",
     "text": [
      "Epoch 48: Avg Loss/Batch 0.444601            \n"
     ]
    },
    {
     "name": "stderr",
     "output_type": "stream",
     "text": [
      "                                                  \r"
     ]
    },
    {
     "name": "stdout",
     "output_type": "stream",
     "text": [
      "HR@1: 0.013785790031813362\n",
      "HR@5: 0.053022269353128315\n",
      "HR@10: 0.10498409331919406\n",
      "NDCG@1: 0.013785790031813362\n",
      "NDCG@5: 0.0332204905262756\n",
      "NDCG@10: 0.049852185924953295\n"
     ]
    },
    {
     "name": "stderr",
     "output_type": "stream",
     "text": [
      "                                                                          \r"
     ]
    },
    {
     "name": "stdout",
     "output_type": "stream",
     "text": [
      "Epoch 49: Avg Loss/Batch 0.444601            \n"
     ]
    },
    {
     "name": "stderr",
     "output_type": "stream",
     "text": [
      "                                                   \r"
     ]
    },
    {
     "name": "stdout",
     "output_type": "stream",
     "text": [
      "HR@1: 0.013785790031813362\n",
      "HR@5: 0.053022269353128315\n",
      "HR@10: 0.10498409331919406\n",
      "NDCG@1: 0.013785790031813362\n",
      "NDCG@5: 0.0332204905262756\n",
      "NDCG@10: 0.049852185924953295\n"
     ]
    }
   ],
   "source": [
    "trainer.train(evaluate=True)"
   ]
  },
  {
   "cell_type": "code",
   "execution_count": null,
   "metadata": {},
   "outputs": [],
   "source": [
    "# torch.save(trainer.model.state_dict(), \"saved_models/mf.pt\")\n",
    "trainer.model.load_state_dict(torch.load(\"saved_models/mf.pt\"))"
   ]
  }
 ],
 "metadata": {
  "kernelspec": {
   "display_name": "v39",
   "language": "python",
   "name": "python3"
  },
  "language_info": {
   "codemirror_mode": {
    "name": "ipython",
    "version": 3
   },
   "file_extension": ".py",
   "mimetype": "text/x-python",
   "name": "python",
   "nbconvert_exporter": "python",
   "pygments_lexer": "ipython3",
   "version": "3.9.7"
  }
 },
 "nbformat": 4,
 "nbformat_minor": 2
}
