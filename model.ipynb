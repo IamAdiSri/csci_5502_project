{
 "cells": [
  {
   "cell_type": "code",
   "execution_count": 1,
   "metadata": {},
   "outputs": [
    {
     "name": "stdout",
     "output_type": "stream",
     "text": [
      "device='cuda'\n"
     ]
    }
   ],
   "source": [
    "import numpy as np\n",
    "import random\n",
    "import torch\n",
    "from src.data import Dataset, PairwiseDataset\n",
    "from src.models import MatrixFactorizationModel, MatrixFactorizationBPRModel\n",
    "from src.trainer import Trainer, BPRTrainer\n",
    "from src.evaluation import hitratio, ndcg\n",
    "\n",
    "np.random.seed(42)\n",
    "random.seed(42)\n",
    "device = 'cuda' if torch.cuda.is_available() else 'cpu'\n",
    "# device = 'cpu'\n",
    "print(f\"{device=}\")"
   ]
  },
  {
   "cell_type": "code",
   "execution_count": 7,
   "metadata": {},
   "outputs": [],
   "source": [
    "class config:\n",
    "    data_dir = 'ml-100k'\n",
    "    neg_count = 16\n",
    "    epochs = 50\n",
    "    batch_size = 128\n",
    "    dim = 40\n",
    "    lr = 0.1"
   ]
  },
  {
   "cell_type": "code",
   "execution_count": 8,
   "metadata": {},
   "outputs": [],
   "source": [
    "# dataset = Dataset(config.data_dir)\n",
    "dataset = PairwiseDataset(config.data_dir)\n",
    "dataset.gen_adjacency()\n",
    "dataset.make_train_test()\n",
    "\n",
    "# model = MatrixFactorizationModel(dataset.user_count, dataset.item_count, config.dim)\n",
    "model = MatrixFactorizationBPRModel(dataset.user_count, dataset.item_count, config.dim)\n",
    "optimizer = torch.optim.SGD(model.parameters(), lr=config.lr, weight_decay=0.001)\n",
    "\n",
    "metrics = {\n",
    "    \"HR@1\": (hitratio, {\"top_n\": 1}),\n",
    "    \"HR@5\": (hitratio, {\"top_n\": 5}),\n",
    "    \"HR@10\": (hitratio, {\"top_n\": 10}),\n",
    "    \"NDCG@1\": (ndcg, {\"top_n\": 1}),\n",
    "    \"NDCG@5\": (ndcg, {\"top_n\": 5}),\n",
    "    \"NDCG@10\": (ndcg, {\"top_n\": 10}),\n",
    "}\n",
    "\n",
    "# trainer = Trainer(dataset, model, optimizer, metrics, \n",
    "#                   epochs=config.epochs, batch_size=config.batch_size,\n",
    "#                   device=device)\n",
    "trainer = BPRTrainer(dataset, model, optimizer, metrics, \n",
    "                     epochs=config.epochs, batch_size=config.batch_size,\n",
    "                     device=device)"
   ]
  },
  {
   "cell_type": "code",
   "execution_count": 9,
   "metadata": {},
   "outputs": [
    {
     "name": "stderr",
     "output_type": "stream",
     "text": [
      "                                                                       \r"
     ]
    },
    {
     "name": "stdout",
     "output_type": "stream",
     "text": [
      "Epoch 0: Avg Loss/Batch 27.770695           \n"
     ]
    },
    {
     "name": "stderr",
     "output_type": "stream",
     "text": [
      "                                                   \r"
     ]
    },
    {
     "name": "stdout",
     "output_type": "stream",
     "text": [
      "HR@1: 0.021208907741251327\n",
      "HR@5: 0.07953340402969247\n",
      "HR@10: 0.1474019088016967\n",
      "NDCG@1: 0.021208907741251327\n",
      "NDCG@5: 0.049077059217569774\n",
      "NDCG@10: 0.07077449547767423\n"
     ]
    },
    {
     "name": "stderr",
     "output_type": "stream",
     "text": [
      "                                                                       \r"
     ]
    },
    {
     "name": "stdout",
     "output_type": "stream",
     "text": [
      "Epoch 1: Avg Loss/Batch 14.730691           \n"
     ]
    },
    {
     "name": "stderr",
     "output_type": "stream",
     "text": [
      "                                                   \r"
     ]
    },
    {
     "name": "stdout",
     "output_type": "stream",
     "text": [
      "HR@1: 0.07529162248144221\n",
      "HR@5: 0.2513255567338282\n",
      "HR@10: 0.3753976670201485\n",
      "NDCG@1: 0.07529162248144221\n",
      "NDCG@5: 0.16413535589558928\n",
      "NDCG@10: 0.20497390442219876\n"
     ]
    },
    {
     "name": "stderr",
     "output_type": "stream",
     "text": [
      "                                                                       \r"
     ]
    },
    {
     "name": "stdout",
     "output_type": "stream",
     "text": [
      "Epoch 2: Avg Loss/Batch 6.196596            \n"
     ]
    },
    {
     "name": "stderr",
     "output_type": "stream",
     "text": [
      "                                                   \r"
     ]
    },
    {
     "name": "stdout",
     "output_type": "stream",
     "text": [
      "HR@1: 0.13997879109225875\n",
      "HR@5: 0.39236479321314954\n",
      "HR@10: 0.5662778366914104\n",
      "NDCG@1: 0.13997879109225875\n",
      "NDCG@5: 0.26753838890829595\n",
      "NDCG@10: 0.3235394948426757\n"
     ]
    },
    {
     "name": "stderr",
     "output_type": "stream",
     "text": [
      "                                                                      \r"
     ]
    },
    {
     "name": "stdout",
     "output_type": "stream",
     "text": [
      "Epoch 3: Avg Loss/Batch 3.886213            \n"
     ]
    },
    {
     "name": "stderr",
     "output_type": "stream",
     "text": [
      "                                                   \r"
     ]
    },
    {
     "name": "stdout",
     "output_type": "stream",
     "text": [
      "HR@1: 0.19618239660657477\n",
      "HR@5: 0.5079533404029692\n",
      "HR@10: 0.6691410392364793\n",
      "NDCG@1: 0.19618239660657477\n",
      "NDCG@5: 0.35647060819366483\n",
      "NDCG@10: 0.4085733746831486\n"
     ]
    },
    {
     "name": "stderr",
     "output_type": "stream",
     "text": [
      "                                                                      \r"
     ]
    },
    {
     "name": "stdout",
     "output_type": "stream",
     "text": [
      "Epoch 4: Avg Loss/Batch 3.250696            \n"
     ]
    },
    {
     "name": "stderr",
     "output_type": "stream",
     "text": [
      "                                                   \r"
     ]
    },
    {
     "name": "stdout",
     "output_type": "stream",
     "text": [
      "HR@1: 0.23860021208907742\n",
      "HR@5: 0.5567338282078473\n",
      "HR@10: 0.7444326617179216\n",
      "NDCG@1: 0.23860021208907742\n",
      "NDCG@5: 0.404114267168876\n",
      "NDCG@10: 0.46498160354978735\n"
     ]
    },
    {
     "name": "stderr",
     "output_type": "stream",
     "text": [
      "                                                                      \r"
     ]
    },
    {
     "name": "stdout",
     "output_type": "stream",
     "text": [
      "Epoch 5: Avg Loss/Batch 2.969429            \n"
     ]
    },
    {
     "name": "stderr",
     "output_type": "stream",
     "text": [
      "                                                   \r"
     ]
    },
    {
     "name": "stdout",
     "output_type": "stream",
     "text": [
      "HR@1: 0.26299045599151644\n",
      "HR@5: 0.5949098621420997\n",
      "HR@10: 0.7667020148462355\n",
      "NDCG@1: 0.26299045599151644\n",
      "NDCG@5: 0.4331971134820213\n",
      "NDCG@10: 0.48908178597659935\n"
     ]
    },
    {
     "name": "stderr",
     "output_type": "stream",
     "text": [
      "                                                                      \r"
     ]
    },
    {
     "name": "stdout",
     "output_type": "stream",
     "text": [
      "Epoch 6: Avg Loss/Batch 2.793473            \n"
     ]
    },
    {
     "name": "stderr",
     "output_type": "stream",
     "text": [
      "                                                   \r"
     ]
    },
    {
     "name": "stdout",
     "output_type": "stream",
     "text": [
      "HR@1: 0.2788971367974549\n",
      "HR@5: 0.6129374337221634\n",
      "HR@10: 0.7857900318133616\n",
      "NDCG@1: 0.2788971367974549\n",
      "NDCG@5: 0.4498606593989456\n",
      "NDCG@10: 0.5055859408976854\n"
     ]
    },
    {
     "name": "stderr",
     "output_type": "stream",
     "text": [
      "                                                                      \r"
     ]
    },
    {
     "name": "stdout",
     "output_type": "stream",
     "text": [
      "Epoch 7: Avg Loss/Batch 2.665497            \n"
     ]
    },
    {
     "name": "stderr",
     "output_type": "stream",
     "text": [
      "                                                   \r"
     ]
    },
    {
     "name": "stdout",
     "output_type": "stream",
     "text": [
      "HR@1: 0.2926829268292683\n",
      "HR@5: 0.6224814422057264\n",
      "HR@10: 0.7910922587486744\n",
      "NDCG@1: 0.2926829268292683\n",
      "NDCG@5: 0.46063611655760445\n",
      "NDCG@10: 0.5150974211266615\n"
     ]
    },
    {
     "name": "stderr",
     "output_type": "stream",
     "text": [
      "                                                                      \r"
     ]
    },
    {
     "name": "stdout",
     "output_type": "stream",
     "text": [
      "Epoch 8: Avg Loss/Batch 2.566079            \n"
     ]
    },
    {
     "name": "stderr",
     "output_type": "stream",
     "text": [
      "                                                   \r"
     ]
    },
    {
     "name": "stdout",
     "output_type": "stream",
     "text": [
      "HR@1: 0.30010604453870626\n",
      "HR@5: 0.623541887592789\n",
      "HR@10: 0.7963944856839873\n",
      "NDCG@1: 0.30010604453870626\n",
      "NDCG@5: 0.46660437398498267\n",
      "NDCG@10: 0.5226120361559595\n"
     ]
    },
    {
     "name": "stderr",
     "output_type": "stream",
     "text": [
      "                                                                      \r"
     ]
    },
    {
     "name": "stdout",
     "output_type": "stream",
     "text": [
      "Epoch 9: Avg Loss/Batch 2.487267            \n"
     ]
    },
    {
     "name": "stderr",
     "output_type": "stream",
     "text": [
      "                                                   \r"
     ]
    },
    {
     "name": "stdout",
     "output_type": "stream",
     "text": [
      "HR@1: 0.2990455991516437\n",
      "HR@5: 0.630965005302227\n",
      "HR@10: 0.8038176033934252\n",
      "NDCG@1: 0.2990455991516437\n",
      "NDCG@5: 0.4702329214398446\n",
      "NDCG@10: 0.5260823563658648\n"
     ]
    },
    {
     "name": "stderr",
     "output_type": "stream",
     "text": [
      "                                                                       \r"
     ]
    },
    {
     "name": "stdout",
     "output_type": "stream",
     "text": [
      "Epoch 10: Avg Loss/Batch 2.423366            \n"
     ]
    },
    {
     "name": "stderr",
     "output_type": "stream",
     "text": [
      "                                                   \r"
     ]
    },
    {
     "name": "stdout",
     "output_type": "stream",
     "text": [
      "HR@1: 0.30858960763520676\n",
      "HR@5: 0.6394485683987274\n",
      "HR@10: 0.806998939554613\n",
      "NDCG@1: 0.30858960763520676\n",
      "NDCG@5: 0.477628395469891\n",
      "NDCG@10: 0.5315522641339968\n"
     ]
    },
    {
     "name": "stderr",
     "output_type": "stream",
     "text": [
      "                                                                       \r"
     ]
    },
    {
     "name": "stdout",
     "output_type": "stream",
     "text": [
      "Epoch 11: Avg Loss/Batch 2.370682            \n"
     ]
    },
    {
     "name": "stderr",
     "output_type": "stream",
     "text": [
      "                                                   \r"
     ]
    },
    {
     "name": "stdout",
     "output_type": "stream",
     "text": [
      "HR@1: 0.3117709437963945\n",
      "HR@5: 0.6405090137857901\n",
      "HR@10: 0.8038176033934252\n",
      "NDCG@1: 0.3117709437963945\n",
      "NDCG@5: 0.479549325196149\n",
      "NDCG@10: 0.5324387151834145\n"
     ]
    },
    {
     "name": "stderr",
     "output_type": "stream",
     "text": [
      "                                                                       \r"
     ]
    },
    {
     "name": "stdout",
     "output_type": "stream",
     "text": [
      "Epoch 12: Avg Loss/Batch 2.326468            \n"
     ]
    },
    {
     "name": "stderr",
     "output_type": "stream",
     "text": [
      "                                                   \r"
     ]
    },
    {
     "name": "stdout",
     "output_type": "stream",
     "text": [
      "HR@1: 0.3075291622481442\n",
      "HR@5: 0.6436903499469777\n",
      "HR@10: 0.8038176033934252\n",
      "NDCG@1: 0.3075291622481442\n",
      "NDCG@5: 0.48057969349875573\n",
      "NDCG@10: 0.5323774068446605\n"
     ]
    },
    {
     "name": "stderr",
     "output_type": "stream",
     "text": [
      "                                                                       \r"
     ]
    },
    {
     "name": "stdout",
     "output_type": "stream",
     "text": [
      "Epoch 13: Avg Loss/Batch 2.289120            \n"
     ]
    },
    {
     "name": "stderr",
     "output_type": "stream",
     "text": [
      "                                                   \r"
     ]
    },
    {
     "name": "stdout",
     "output_type": "stream",
     "text": [
      "HR@1: 0.30434782608695654\n",
      "HR@5: 0.6468716861081655\n",
      "HR@10: 0.8048780487804879\n",
      "NDCG@1: 0.30434782608695654\n",
      "NDCG@5: 0.48081090851074304\n",
      "NDCG@10: 0.5319359841521711\n"
     ]
    },
    {
     "name": "stderr",
     "output_type": "stream",
     "text": [
      "                                                                       \r"
     ]
    },
    {
     "name": "stdout",
     "output_type": "stream",
     "text": [
      "Epoch 14: Avg Loss/Batch 2.257349            \n"
     ]
    },
    {
     "name": "stderr",
     "output_type": "stream",
     "text": [
      "                                                   \r"
     ]
    },
    {
     "name": "stdout",
     "output_type": "stream",
     "text": [
      "HR@1: 0.30328738069989397\n",
      "HR@5: 0.6511134676564156\n",
      "HR@10: 0.8048780487804879\n",
      "NDCG@1: 0.30328738069989397\n",
      "NDCG@5: 0.4817915448888911\n",
      "NDCG@10: 0.5314859155528835\n"
     ]
    },
    {
     "name": "stderr",
     "output_type": "stream",
     "text": [
      "                                                                       \r"
     ]
    },
    {
     "name": "stdout",
     "output_type": "stream",
     "text": [
      "Epoch 15: Avg Loss/Batch 2.230203            \n"
     ]
    },
    {
     "name": "stderr",
     "output_type": "stream",
     "text": [
      "                                                   \r"
     ]
    },
    {
     "name": "stdout",
     "output_type": "stream",
     "text": [
      "HR@1: 0.3022269353128314\n",
      "HR@5: 0.6542948038176034\n",
      "HR@10: 0.8123011664899258\n",
      "NDCG@1: 0.3022269353128314\n",
      "NDCG@5: 0.4828049433514744\n",
      "NDCG@10: 0.5335856812428974\n"
     ]
    },
    {
     "name": "stderr",
     "output_type": "stream",
     "text": [
      "                                                                       \r"
     ]
    },
    {
     "name": "stdout",
     "output_type": "stream",
     "text": [
      "Epoch 16: Avg Loss/Batch 2.206875            \n"
     ]
    },
    {
     "name": "stderr",
     "output_type": "stream",
     "text": [
      "                                                   \r"
     ]
    },
    {
     "name": "stdout",
     "output_type": "stream",
     "text": [
      "HR@1: 0.3064687168610817\n",
      "HR@5: 0.6585365853658537\n",
      "HR@10: 0.8112407211028632\n",
      "NDCG@1: 0.3064687168610817\n",
      "NDCG@5: 0.4860384448421851\n",
      "NDCG@10: 0.535100790597066\n"
     ]
    },
    {
     "name": "stderr",
     "output_type": "stream",
     "text": [
      "                                                                       \r"
     ]
    },
    {
     "name": "stdout",
     "output_type": "stream",
     "text": [
      "Epoch 17: Avg Loss/Batch 2.186599            \n"
     ]
    },
    {
     "name": "stderr",
     "output_type": "stream",
     "text": [
      "                                                  \r"
     ]
    },
    {
     "name": "stdout",
     "output_type": "stream",
     "text": [
      "HR@1: 0.3075291622481442\n",
      "HR@5: 0.6564156945917285\n",
      "HR@10: 0.8123011664899258\n",
      "NDCG@1: 0.3075291622481442\n",
      "NDCG@5: 0.48574001139069956\n",
      "NDCG@10: 0.5360752563500992\n"
     ]
    },
    {
     "name": "stderr",
     "output_type": "stream",
     "text": [
      "                                                                       \r"
     ]
    },
    {
     "name": "stdout",
     "output_type": "stream",
     "text": [
      "Epoch 18: Avg Loss/Batch 2.168873            \n"
     ]
    },
    {
     "name": "stderr",
     "output_type": "stream",
     "text": [
      "                                                   \r"
     ]
    },
    {
     "name": "stdout",
     "output_type": "stream",
     "text": [
      "HR@1: 0.3107104984093319\n",
      "HR@5: 0.6564156945917285\n",
      "HR@10: 0.8144220572640509\n",
      "NDCG@1: 0.3107104984093319\n",
      "NDCG@5: 0.4870223120308232\n",
      "NDCG@10: 0.5380875584899648\n"
     ]
    },
    {
     "name": "stderr",
     "output_type": "stream",
     "text": [
      "                                                                       \r"
     ]
    },
    {
     "name": "stdout",
     "output_type": "stream",
     "text": [
      "Epoch 19: Avg Loss/Batch 2.153338            \n"
     ]
    },
    {
     "name": "stderr",
     "output_type": "stream",
     "text": [
      "                                                   \r"
     ]
    },
    {
     "name": "stdout",
     "output_type": "stream",
     "text": [
      "HR@1: 0.31283138918345704\n",
      "HR@5: 0.6574761399787911\n",
      "HR@10: 0.8144220572640509\n",
      "NDCG@1: 0.31283138918345704\n",
      "NDCG@5: 0.48877125562925644\n",
      "NDCG@10: 0.539622901131599\n"
     ]
    },
    {
     "name": "stderr",
     "output_type": "stream",
     "text": [
      "                                                                       \r"
     ]
    },
    {
     "name": "stdout",
     "output_type": "stream",
     "text": [
      "Epoch 20: Avg Loss/Batch 2.139672            \n"
     ]
    },
    {
     "name": "stderr",
     "output_type": "stream",
     "text": [
      "                                                   \r"
     ]
    },
    {
     "name": "stdout",
     "output_type": "stream",
     "text": [
      "HR@1: 0.31601272534464475\n",
      "HR@5: 0.6585365853658537\n",
      "HR@10: 0.8144220572640509\n",
      "NDCG@1: 0.31601272534464475\n",
      "NDCG@5: 0.4907155876810238\n",
      "NDCG@10: 0.541168375665005\n"
     ]
    },
    {
     "name": "stderr",
     "output_type": "stream",
     "text": [
      "                                                                       \r"
     ]
    },
    {
     "name": "stdout",
     "output_type": "stream",
     "text": [
      "Epoch 21: Avg Loss/Batch 2.127610            \n"
     ]
    },
    {
     "name": "stderr",
     "output_type": "stream",
     "text": [
      "                                                   \r"
     ]
    },
    {
     "name": "stdout",
     "output_type": "stream",
     "text": [
      "HR@1: 0.3170731707317073\n",
      "HR@5: 0.6585365853658537\n",
      "HR@10: 0.8144220572640509\n",
      "NDCG@1: 0.3170731707317073\n",
      "NDCG@5: 0.4915046406463864\n",
      "NDCG@10: 0.5419383119267721\n"
     ]
    },
    {
     "name": "stderr",
     "output_type": "stream",
     "text": [
      "                                                                       \r"
     ]
    },
    {
     "name": "stdout",
     "output_type": "stream",
     "text": [
      "Epoch 22: Avg Loss/Batch 2.116935            \n"
     ]
    },
    {
     "name": "stderr",
     "output_type": "stream",
     "text": [
      "                                                   \r"
     ]
    },
    {
     "name": "stdout",
     "output_type": "stream",
     "text": [
      "HR@1: 0.3170731707317073\n",
      "HR@5: 0.6595970307529162\n",
      "HR@10: 0.8112407211028632\n",
      "NDCG@1: 0.3170731707317073\n",
      "NDCG@5: 0.4923860647705322\n",
      "NDCG@10: 0.5416563561698551\n"
     ]
    },
    {
     "name": "stderr",
     "output_type": "stream",
     "text": [
      "                                                                       \r"
     ]
    },
    {
     "name": "stdout",
     "output_type": "stream",
     "text": [
      "Epoch 23: Avg Loss/Batch 2.107437            \n"
     ]
    },
    {
     "name": "stderr",
     "output_type": "stream",
     "text": [
      "                                                   \r"
     ]
    },
    {
     "name": "stdout",
     "output_type": "stream",
     "text": [
      "HR@1: 0.31283138918345704\n",
      "HR@5: 0.6606574761399788\n",
      "HR@10: 0.8123011664899258\n",
      "NDCG@1: 0.31283138918345704\n",
      "NDCG@5: 0.49185967482115023\n",
      "NDCG@10: 0.5410941416836722\n"
     ]
    },
    {
     "name": "stderr",
     "output_type": "stream",
     "text": [
      "                                                                       \r"
     ]
    },
    {
     "name": "stdout",
     "output_type": "stream",
     "text": [
      "Epoch 24: Avg Loss/Batch 2.098942            \n"
     ]
    },
    {
     "name": "stderr",
     "output_type": "stream",
     "text": [
      "                                                   \r"
     ]
    },
    {
     "name": "stdout",
     "output_type": "stream",
     "text": [
      "HR@1: 0.3138918345705196\n",
      "HR@5: 0.662778366914104\n",
      "HR@10: 0.8133616118769883\n",
      "NDCG@1: 0.3138918345705196\n",
      "NDCG@5: 0.49321855365969836\n",
      "NDCG@10: 0.5419507787795029\n"
     ]
    },
    {
     "name": "stderr",
     "output_type": "stream",
     "text": [
      "                                                                       \r"
     ]
    },
    {
     "name": "stdout",
     "output_type": "stream",
     "text": [
      "Epoch 25: Avg Loss/Batch 2.091308            \n"
     ]
    },
    {
     "name": "stderr",
     "output_type": "stream",
     "text": [
      "                                                   \r"
     ]
    },
    {
     "name": "stdout",
     "output_type": "stream",
     "text": [
      "HR@1: 0.31283138918345704\n",
      "HR@5: 0.6659597030752916\n",
      "HR@10: 0.8133616118769883\n",
      "NDCG@1: 0.31283138918345704\n",
      "NDCG@5: 0.493845526066673\n",
      "NDCG@10: 0.5415292095786765\n"
     ]
    },
    {
     "name": "stderr",
     "output_type": "stream",
     "text": [
      "                                                                       \r"
     ]
    },
    {
     "name": "stdout",
     "output_type": "stream",
     "text": [
      "Epoch 26: Avg Loss/Batch 2.084414            \n"
     ]
    },
    {
     "name": "stderr",
     "output_type": "stream",
     "text": [
      "                                                   \r"
     ]
    },
    {
     "name": "stdout",
     "output_type": "stream",
     "text": [
      "HR@1: 0.31601272534464475\n",
      "HR@5: 0.6691410392364793\n",
      "HR@10: 0.8123011664899258\n",
      "NDCG@1: 0.31601272534464475\n",
      "NDCG@5: 0.49674917452145245\n",
      "NDCG@10: 0.5429931057666033\n"
     ]
    },
    {
     "name": "stderr",
     "output_type": "stream",
     "text": [
      "                                                                       \r"
     ]
    },
    {
     "name": "stdout",
     "output_type": "stream",
     "text": [
      "Epoch 27: Avg Loss/Batch 2.078152            \n"
     ]
    },
    {
     "name": "stderr",
     "output_type": "stream",
     "text": [
      "                                                   \r"
     ]
    },
    {
     "name": "stdout",
     "output_type": "stream",
     "text": [
      "HR@1: 0.3149522799575822\n",
      "HR@5: 0.672322375397667\n",
      "HR@10: 0.8123011664899258\n",
      "NDCG@1: 0.3149522799575822\n",
      "NDCG@5: 0.4975803209106289\n",
      "NDCG@10: 0.5426820882809368\n"
     ]
    },
    {
     "name": "stderr",
     "output_type": "stream",
     "text": [
      "                                                                       \r"
     ]
    },
    {
     "name": "stdout",
     "output_type": "stream",
     "text": [
      "Epoch 28: Avg Loss/Batch 2.072426            \n"
     ]
    },
    {
     "name": "stderr",
     "output_type": "stream",
     "text": [
      "                                                   \r"
     ]
    },
    {
     "name": "stdout",
     "output_type": "stream",
     "text": [
      "HR@1: 0.3181336161187699\n",
      "HR@5: 0.672322375397667\n",
      "HR@10: 0.8112407211028632\n",
      "NDCG@1: 0.3181336161187699\n",
      "NDCG@5: 0.49872741640182494\n",
      "NDCG@10: 0.5435004623456209\n"
     ]
    },
    {
     "name": "stderr",
     "output_type": "stream",
     "text": [
      "                                                                       \r"
     ]
    },
    {
     "name": "stdout",
     "output_type": "stream",
     "text": [
      "Epoch 29: Avg Loss/Batch 2.067155            \n"
     ]
    },
    {
     "name": "stderr",
     "output_type": "stream",
     "text": [
      "                                                   \r"
     ]
    },
    {
     "name": "stdout",
     "output_type": "stream",
     "text": [
      "HR@1: 0.3181336161187699\n",
      "HR@5: 0.6712619300106044\n",
      "HR@10: 0.8133616118769883\n",
      "NDCG@1: 0.3181336161187699\n",
      "NDCG@5: 0.4985019224444875\n",
      "NDCG@10: 0.5442557821272538\n"
     ]
    },
    {
     "name": "stderr",
     "output_type": "stream",
     "text": [
      "                                                                       \r"
     ]
    },
    {
     "name": "stdout",
     "output_type": "stream",
     "text": [
      "Epoch 30: Avg Loss/Batch 2.062261            \n"
     ]
    },
    {
     "name": "stderr",
     "output_type": "stream",
     "text": [
      "                                                   \r"
     ]
    },
    {
     "name": "stdout",
     "output_type": "stream",
     "text": [
      "HR@1: 0.31919406150583246\n",
      "HR@5: 0.6765641569459173\n",
      "HR@10: 0.8133616118769883\n",
      "NDCG@1: 0.31919406150583246\n",
      "NDCG@5: 0.5006856523875038\n",
      "NDCG@10: 0.5445265642555144\n"
     ]
    },
    {
     "name": "stderr",
     "output_type": "stream",
     "text": [
      "                                                                       \r"
     ]
    },
    {
     "name": "stdout",
     "output_type": "stream",
     "text": [
      "Epoch 31: Avg Loss/Batch 2.057691            \n"
     ]
    },
    {
     "name": "stderr",
     "output_type": "stream",
     "text": [
      "                                                   \r"
     ]
    },
    {
     "name": "stdout",
     "output_type": "stream",
     "text": [
      "HR@1: 0.3213149522799576\n",
      "HR@5: 0.6765641569459173\n",
      "HR@10: 0.8123011664899258\n",
      "NDCG@1: 0.3213149522799576\n",
      "NDCG@5: 0.5013107087803773\n",
      "NDCG@10: 0.5448144683805604\n"
     ]
    },
    {
     "name": "stderr",
     "output_type": "stream",
     "text": [
      "                                                                       \r"
     ]
    },
    {
     "name": "stdout",
     "output_type": "stream",
     "text": [
      "Epoch 32: Avg Loss/Batch 2.053458            \n"
     ]
    },
    {
     "name": "stderr",
     "output_type": "stream",
     "text": [
      "                                                   \r"
     ]
    },
    {
     "name": "stdout",
     "output_type": "stream",
     "text": [
      "HR@1: 0.3213149522799576\n",
      "HR@5: 0.6744432661717922\n",
      "HR@10: 0.8133616118769883\n",
      "NDCG@1: 0.3213149522799576\n",
      "NDCG@5: 0.5005826073893523\n",
      "NDCG@10: 0.5451779454111002\n"
     ]
    },
    {
     "name": "stderr",
     "output_type": "stream",
     "text": [
      "                                                                       \r"
     ]
    },
    {
     "name": "stdout",
     "output_type": "stream",
     "text": [
      "Epoch 33: Avg Loss/Batch 2.049571            \n"
     ]
    },
    {
     "name": "stderr",
     "output_type": "stream",
     "text": [
      "                                                   \r"
     ]
    },
    {
     "name": "stdout",
     "output_type": "stream",
     "text": [
      "HR@1: 0.32025450689289503\n",
      "HR@5: 0.6733828207847296\n",
      "HR@10: 0.8133616118769883\n",
      "NDCG@1: 0.32025450689289503\n",
      "NDCG@5: 0.5000209651113755\n",
      "NDCG@10: 0.5450336052773489\n"
     ]
    },
    {
     "name": "stderr",
     "output_type": "stream",
     "text": [
      "                                                                       \r"
     ]
    },
    {
     "name": "stdout",
     "output_type": "stream",
     "text": [
      "Epoch 34: Avg Loss/Batch 2.045985            \n"
     ]
    },
    {
     "name": "stderr",
     "output_type": "stream",
     "text": [
      "                                                   \r"
     ]
    },
    {
     "name": "stdout",
     "output_type": "stream",
     "text": [
      "HR@1: 0.3213149522799576\n",
      "HR@5: 0.6712619300106044\n",
      "HR@10: 0.8144220572640509\n",
      "NDCG@1: 0.3213149522799576\n",
      "NDCG@5: 0.4996848167907361\n",
      "NDCG@10: 0.5457541630047548\n"
     ]
    },
    {
     "name": "stderr",
     "output_type": "stream",
     "text": [
      "                                                                       \r"
     ]
    },
    {
     "name": "stdout",
     "output_type": "stream",
     "text": [
      "Epoch 35: Avg Loss/Batch 2.042663            \n"
     ]
    },
    {
     "name": "stderr",
     "output_type": "stream",
     "text": [
      "                                                   \r"
     ]
    },
    {
     "name": "stdout",
     "output_type": "stream",
     "text": [
      "HR@1: 0.31919406150583246\n",
      "HR@5: 0.6702014846235419\n",
      "HR@10: 0.8154825026511134\n",
      "NDCG@1: 0.31919406150583246\n",
      "NDCG@5: 0.4987695105415859\n",
      "NDCG@10: 0.5455896417901206\n"
     ]
    },
    {
     "name": "stderr",
     "output_type": "stream",
     "text": [
      "                                                                       \r"
     ]
    },
    {
     "name": "stdout",
     "output_type": "stream",
     "text": [
      "Epoch 36: Avg Loss/Batch 2.039585            \n"
     ]
    },
    {
     "name": "stderr",
     "output_type": "stream",
     "text": [
      "                                                   \r"
     ]
    },
    {
     "name": "stdout",
     "output_type": "stream",
     "text": [
      "HR@1: 0.31919406150583246\n",
      "HR@5: 0.6702014846235419\n",
      "HR@10: 0.8154825026511134\n",
      "NDCG@1: 0.31919406150583246\n",
      "NDCG@5: 0.4983718364165505\n",
      "NDCG@10: 0.5452010149545021\n"
     ]
    },
    {
     "name": "stderr",
     "output_type": "stream",
     "text": [
      "                                                                       \r"
     ]
    },
    {
     "name": "stdout",
     "output_type": "stream",
     "text": [
      "Epoch 37: Avg Loss/Batch 2.036734            \n"
     ]
    },
    {
     "name": "stderr",
     "output_type": "stream",
     "text": [
      "                                                   \r"
     ]
    },
    {
     "name": "stdout",
     "output_type": "stream",
     "text": [
      "HR@1: 0.31919406150583246\n",
      "HR@5: 0.6733828207847296\n",
      "HR@10: 0.8165429480381761\n",
      "NDCG@1: 0.31919406150583246\n",
      "NDCG@5: 0.49978786178888773\n",
      "NDCG@10: 0.5457786966993716\n"
     ]
    },
    {
     "name": "stderr",
     "output_type": "stream",
     "text": [
      "                                                                       \r"
     ]
    },
    {
     "name": "stdout",
     "output_type": "stream",
     "text": [
      "Epoch 38: Avg Loss/Batch 2.034091            \n"
     ]
    },
    {
     "name": "stderr",
     "output_type": "stream",
     "text": [
      "                                                  \r"
     ]
    },
    {
     "name": "stdout",
     "output_type": "stream",
     "text": [
      "HR@1: 0.32237539766702017\n",
      "HR@5: 0.6765641569459173\n",
      "HR@10: 0.8165429480381761\n",
      "NDCG@1: 0.32237539766702017\n",
      "NDCG@5: 0.5019609178925357\n",
      "NDCG@10: 0.5467805709916781\n"
     ]
    },
    {
     "name": "stderr",
     "output_type": "stream",
     "text": [
      "                                                                       \r"
     ]
    },
    {
     "name": "stdout",
     "output_type": "stream",
     "text": [
      "Epoch 39: Avg Loss/Batch 2.031634            \n"
     ]
    },
    {
     "name": "stderr",
     "output_type": "stream",
     "text": [
      "                                                  \r"
     ]
    },
    {
     "name": "stdout",
     "output_type": "stream",
     "text": [
      "HR@1: 0.32343584305408274\n",
      "HR@5: 0.6755037115588547\n",
      "HR@10: 0.8165429480381761\n",
      "NDCG@1: 0.32343584305408274\n",
      "NDCG@5: 0.5017837849401194\n",
      "NDCG@10: 0.5470334285921257\n"
     ]
    },
    {
     "name": "stderr",
     "output_type": "stream",
     "text": [
      "                                                                       \r"
     ]
    },
    {
     "name": "stdout",
     "output_type": "stream",
     "text": [
      "Epoch 40: Avg Loss/Batch 2.029343            \n"
     ]
    },
    {
     "name": "stderr",
     "output_type": "stream",
     "text": [
      "                                                   \r"
     ]
    },
    {
     "name": "stdout",
     "output_type": "stream",
     "text": [
      "HR@1: 0.32343584305408274\n",
      "HR@5: 0.6755037115588547\n",
      "HR@10: 0.8165429480381761\n",
      "NDCG@1: 0.32343584305408274\n",
      "NDCG@5: 0.5019502440531675\n",
      "NDCG@10: 0.5471530415909127\n"
     ]
    },
    {
     "name": "stderr",
     "output_type": "stream",
     "text": [
      "                                                                       \r"
     ]
    },
    {
     "name": "stdout",
     "output_type": "stream",
     "text": [
      "Epoch 41: Avg Loss/Batch 2.027203            \n"
     ]
    },
    {
     "name": "stderr",
     "output_type": "stream",
     "text": [
      "                                                   \r"
     ]
    },
    {
     "name": "stdout",
     "output_type": "stream",
     "text": [
      "HR@1: 0.32343584305408274\n",
      "HR@5: 0.6744432661717922\n",
      "HR@10: 0.8165429480381761\n",
      "NDCG@1: 0.32343584305408274\n",
      "NDCG@5: 0.5015864804726843\n",
      "NDCG@10: 0.5471617083284368\n"
     ]
    },
    {
     "name": "stderr",
     "output_type": "stream",
     "text": [
      "                                                                       \r"
     ]
    },
    {
     "name": "stdout",
     "output_type": "stream",
     "text": [
      "Epoch 42: Avg Loss/Batch 2.025200            \n"
     ]
    },
    {
     "name": "stderr",
     "output_type": "stream",
     "text": [
      "                                                   \r"
     ]
    },
    {
     "name": "stdout",
     "output_type": "stream",
     "text": [
      "HR@1: 0.32237539766702017\n",
      "HR@5: 0.6733828207847296\n",
      "HR@10: 0.8165429480381761\n",
      "NDCG@1: 0.32237539766702017\n",
      "NDCG@5: 0.5006924941986698\n",
      "NDCG@10: 0.5467076138401888\n"
     ]
    },
    {
     "name": "stderr",
     "output_type": "stream",
     "text": [
      "                                                                       \r"
     ]
    },
    {
     "name": "stdout",
     "output_type": "stream",
     "text": [
      "Epoch 43: Avg Loss/Batch 2.023323            \n"
     ]
    },
    {
     "name": "stderr",
     "output_type": "stream",
     "text": [
      "                                                  \r"
     ]
    },
    {
     "name": "stdout",
     "output_type": "stream",
     "text": [
      "HR@1: 0.32237539766702017\n",
      "HR@5: 0.672322375397667\n",
      "HR@10: 0.8144220572640509\n",
      "NDCG@1: 0.32237539766702017\n",
      "NDCG@5: 0.5002822579237657\n",
      "NDCG@10: 0.5460773483135288\n"
     ]
    },
    {
     "name": "stderr",
     "output_type": "stream",
     "text": [
      "                                                                       \r"
     ]
    },
    {
     "name": "stdout",
     "output_type": "stream",
     "text": [
      "Epoch 44: Avg Loss/Batch 2.021562            \n"
     ]
    },
    {
     "name": "stderr",
     "output_type": "stream",
     "text": [
      "                                                   \r"
     ]
    },
    {
     "name": "stdout",
     "output_type": "stream",
     "text": [
      "HR@1: 0.32237539766702017\n",
      "HR@5: 0.672322375397667\n",
      "HR@10: 0.8165429480381761\n",
      "NDCG@1: 0.32237539766702017\n",
      "NDCG@5: 0.5001893125349239\n",
      "NDCG@10: 0.5466054047928085\n"
     ]
    },
    {
     "name": "stderr",
     "output_type": "stream",
     "text": [
      "                                                                       \r"
     ]
    },
    {
     "name": "stdout",
     "output_type": "stream",
     "text": [
      "Epoch 45: Avg Loss/Batch 2.019906            \n"
     ]
    },
    {
     "name": "stderr",
     "output_type": "stream",
     "text": [
      "                                                   \r"
     ]
    },
    {
     "name": "stdout",
     "output_type": "stream",
     "text": [
      "HR@1: 0.32237539766702017\n",
      "HR@5: 0.6691410392364793\n",
      "HR@10: 0.8144220572640509\n",
      "NDCG@1: 0.32237539766702017\n",
      "NDCG@5: 0.4992444750118286\n",
      "NDCG@10: 0.5461833261461331\n"
     ]
    },
    {
     "name": "stderr",
     "output_type": "stream",
     "text": [
      "                                                                       \r"
     ]
    },
    {
     "name": "stdout",
     "output_type": "stream",
     "text": [
      "Epoch 46: Avg Loss/Batch 2.018344            \n"
     ]
    },
    {
     "name": "stderr",
     "output_type": "stream",
     "text": [
      "                                                   \r"
     ]
    },
    {
     "name": "stdout",
     "output_type": "stream",
     "text": [
      "HR@1: 0.32237539766702017\n",
      "HR@5: 0.6691410392364793\n",
      "HR@10: 0.8154825026511134\n",
      "NDCG@1: 0.32237539766702017\n",
      "NDCG@5: 0.49956863541265767\n",
      "NDCG@10: 0.5468899862791481\n"
     ]
    },
    {
     "name": "stderr",
     "output_type": "stream",
     "text": [
      "                                                                       \r"
     ]
    },
    {
     "name": "stdout",
     "output_type": "stream",
     "text": [
      "Epoch 47: Avg Loss/Batch 2.016868            \n"
     ]
    },
    {
     "name": "stderr",
     "output_type": "stream",
     "text": [
      "                                                   \r"
     ]
    },
    {
     "name": "stdout",
     "output_type": "stream",
     "text": [
      "HR@1: 0.32025450689289503\n",
      "HR@5: 0.6702014846235419\n",
      "HR@10: 0.8133616118769883\n",
      "NDCG@1: 0.32025450689289503\n",
      "NDCG@5: 0.49956674710215715\n",
      "NDCG@10: 0.5459125921800769\n"
     ]
    },
    {
     "name": "stderr",
     "output_type": "stream",
     "text": [
      "                                                                       \r"
     ]
    },
    {
     "name": "stdout",
     "output_type": "stream",
     "text": [
      "Epoch 48: Avg Loss/Batch 2.015467            \n"
     ]
    },
    {
     "name": "stderr",
     "output_type": "stream",
     "text": [
      "                                                   \r"
     ]
    },
    {
     "name": "stdout",
     "output_type": "stream",
     "text": [
      "HR@1: 0.3213149522799576\n",
      "HR@5: 0.6702014846235419\n",
      "HR@10: 0.8133616118769883\n",
      "NDCG@1: 0.3213149522799576\n",
      "NDCG@5: 0.4997916668294362\n",
      "NDCG@10: 0.5461122333098749\n"
     ]
    },
    {
     "name": "stderr",
     "output_type": "stream",
     "text": [
      "                                                                       \r"
     ]
    },
    {
     "name": "stdout",
     "output_type": "stream",
     "text": [
      "Epoch 49: Avg Loss/Batch 2.014135            \n"
     ]
    },
    {
     "name": "stderr",
     "output_type": "stream",
     "text": [
      "                                                   \r"
     ]
    },
    {
     "name": "stdout",
     "output_type": "stream",
     "text": [
      "HR@1: 0.3213149522799576\n",
      "HR@5: 0.6702014846235419\n",
      "HR@10: 0.8123011664899258\n",
      "NDCG@1: 0.3213149522799576\n",
      "NDCG@5: 0.49979166682943627\n",
      "NDCG@10: 0.5458003878978441\n"
     ]
    }
   ],
   "source": [
    "trainer.train(evaluate=True)"
   ]
  },
  {
   "cell_type": "markdown",
   "metadata": {},
   "source": [
    "#### Epoch 49: Avg Loss/Batch 20.135686           \n",
    "lr=0.1, weight_decay=0.01, batch_size=256                                               \n",
    "                                                   \n",
    "- HR@1: 0.27465535524920465\n",
    "- HR@5: 0.6246023329798516\n",
    "- HR@10: 0.7762460233297985\n",
    "- NDCG@1: 0.27465535524920465\n",
    "- NDCG@5: 0.45567622373046285\n",
    "- NDCG@10: 0.5050744632837261\n",
    "\n",
    "#### Epoch 49: Avg Loss/Batch 2.268884            \n",
    "lr=0.1, weight_decay=0.001, batch_size=256                             \n",
    "\n",
    "- HR@1: 0.271474019088017\n",
    "- HR@5: 0.6521739130434783\n",
    "- HR@10: 0.8154825026511134\n",
    "- NDCG@1: 0.271474019088017\n",
    "- NDCG@5: 0.46938699909136805\n",
    "- NDCG@10: 0.5226068198556473\n",
    "\n",
    "#### Epoch 49: Avg Loss/Batch 1.926479            \n",
    "lr=0.1, weight_decay=0.001, batch_size=128                             \n",
    "\n",
    "- HR@1: 0.31919406150583246\n",
    "- HR@5: 0.7104984093319194\n",
    "- HR@10: 0.8504772004241782\n",
    "- NDCG@1: 0.31919406150583246\n",
    "- NDCG@5: 0.5225957334522389\n",
    "- NDCG@10: 0.5683831099482718\n",
    "\n",
    "#### Epoch 99: Avg Loss/Batch 1.799917            \n",
    "lr=0.1, weight_decay=0.001, batch_size=128        \n",
    "                                                   \n",
    "- HR@1: 0.3244962884411453\n",
    "- HR@5: 0.7232237539766702\n",
    "- HR@10: 0.8642629904559915\n",
    "- NDCG@1: 0.3244962884411453\n",
    "- NDCG@5: 0.5335037960184896\n",
    "- NDCG@10: 0.5796056642923276\n",
    "\n",
    "#### Epoch 143: Avg Loss/Batch 1.769505            \n",
    "lr=0.1, weight_decay=0.001, batch_size=128                                                   \n",
    "\n",
    "- HR@1: 0.3372216330858961\n",
    "- HR@5: 0.7253446447507953\n",
    "- HR@10: 0.8685047720042418\n",
    "- NDCG@1: 0.3372216330858961\n",
    "- NDCG@5: 0.5399725224060331\n",
    "- NDCG@10: 0.5865801610610061"
   ]
  },
  {
   "cell_type": "code",
   "execution_count": null,
   "metadata": {},
   "outputs": [],
   "source": [
    "torch.save(trainer.model.state_dict(), \"saved_models/mf.pt\")\n",
    "# trainer.model.load_state_dict(torch.load(\"saved_models/mfbpr.pt\"))"
   ]
  }
 ],
 "metadata": {
  "kernelspec": {
   "display_name": "v39",
   "language": "python",
   "name": "python3"
  },
  "language_info": {
   "codemirror_mode": {
    "name": "ipython",
    "version": 3
   },
   "file_extension": ".py",
   "mimetype": "text/x-python",
   "name": "python",
   "nbconvert_exporter": "python",
   "pygments_lexer": "ipython3",
   "version": "3.9.7"
  }
 },
 "nbformat": 4,
 "nbformat_minor": 2
}
