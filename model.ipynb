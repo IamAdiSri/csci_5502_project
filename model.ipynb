{
 "cells": [
  {
   "cell_type": "code",
   "execution_count": 1,
   "metadata": {},
   "outputs": [
    {
     "name": "stdout",
     "output_type": "stream",
     "text": [
      "device='cuda'\n"
     ]
    }
   ],
   "source": [
    "import numpy as np\n",
    "import random\n",
    "import torch\n",
    "from src.data import Dataset, PairwiseDataset\n",
    "from src.models import MatrixFactorizationModel, MatrixFactorizationBPRModel\n",
    "from src.trainer import Trainer, BPRTrainer\n",
    "from src.evaluation import hitratio, ndcg\n",
    "\n",
    "np.random.seed(42)\n",
    "random.seed(42)\n",
    "device = 'cuda' if torch.cuda.is_available() else 'cpu'\n",
    "# device = 'cpu'\n",
    "print(f\"{device=}\")"
   ]
  },
  {
   "cell_type": "code",
   "execution_count": 2,
   "metadata": {},
   "outputs": [],
   "source": [
    "class config:\n",
    "    data_dir = 'ml-100k'\n",
    "    neg_count = 16\n",
    "    epochs = 50\n",
    "    batch_size = 256\n",
    "    dim = 40\n",
    "    lr = 0.1"
   ]
  },
  {
   "cell_type": "code",
   "execution_count": 3,
   "metadata": {},
   "outputs": [],
   "source": [
    "# dataset = Dataset(config.data_dir)\n",
    "dataset = PairwiseDataset(config.data_dir)\n",
    "dataset.gen_adjacency()\n",
    "dataset.make_train_test()\n",
    "\n",
    "# model = MatrixFactorizationModel(dataset.user_count, dataset.item_count, config.dim)\n",
    "model = MatrixFactorizationBPRModel(dataset.user_count, dataset.item_count, config.dim)\n",
    "optimizer = torch.optim.SGD(model.parameters(), lr=config.lr, weight_decay=0.01)\n",
    "\n",
    "metrics = {\n",
    "    \"HR@1\": (hitratio, {\"top_n\": 1}),\n",
    "    \"HR@5\": (hitratio, {\"top_n\": 5}),\n",
    "    \"HR@10\": (hitratio, {\"top_n\": 10}),\n",
    "    \"NDCG@1\": (ndcg, {\"top_n\": 1}),\n",
    "    \"NDCG@5\": (ndcg, {\"top_n\": 5}),\n",
    "    \"NDCG@10\": (ndcg, {\"top_n\": 10}),\n",
    "}\n",
    "\n",
    "# trainer = Trainer(dataset, model, optimizer, metrics, \n",
    "#                   epochs=config.epochs, batch_size=config.batch_size,\n",
    "#                   device=device)\n",
    "trainer = BPRTrainer(dataset, model, optimizer, metrics, \n",
    "                     epochs=config.epochs, batch_size=config.batch_size,\n",
    "                     device=device)"
   ]
  },
  {
   "cell_type": "code",
   "execution_count": 4,
   "metadata": {},
   "outputs": [
    {
     "name": "stderr",
     "output_type": "stream",
     "text": [
      "                                                                      \r"
     ]
    },
    {
     "name": "stdout",
     "output_type": "stream",
     "text": [
      "Epoch 0: Avg Loss/Batch 110.081229          \n"
     ]
    },
    {
     "name": "stderr",
     "output_type": "stream",
     "text": [
      "                                                   \r"
     ]
    },
    {
     "name": "stdout",
     "output_type": "stream",
     "text": [
      "HR@1: 0.007423117709437964\n",
      "HR@5: 0.06468716861081654\n",
      "HR@10: 0.11983032873807\n",
      "NDCG@1: 0.007423117709437964\n",
      "NDCG@5: 0.0360929127205354\n",
      "NDCG@10: 0.05361513171912654\n"
     ]
    },
    {
     "name": "stderr",
     "output_type": "stream",
     "text": [
      "                                                                     \r"
     ]
    },
    {
     "name": "stdout",
     "output_type": "stream",
     "text": [
      "Epoch 1: Avg Loss/Batch 73.822857           \n"
     ]
    },
    {
     "name": "stderr",
     "output_type": "stream",
     "text": [
      "                                                   \r"
     ]
    },
    {
     "name": "stdout",
     "output_type": "stream",
     "text": [
      "HR@1: 0.032873806998939555\n",
      "HR@5: 0.12513255567338283\n",
      "HR@10: 0.19618239660657477\n",
      "NDCG@1: 0.032873806998939555\n",
      "NDCG@5: 0.07792015515288123\n",
      "NDCG@10: 0.10051049651197438\n"
     ]
    },
    {
     "name": "stderr",
     "output_type": "stream",
     "text": [
      "                                                                     \r"
     ]
    },
    {
     "name": "stdout",
     "output_type": "stream",
     "text": [
      "Epoch 2: Avg Loss/Batch 36.437239           \n"
     ]
    },
    {
     "name": "stderr",
     "output_type": "stream",
     "text": [
      "                                                   \r"
     ]
    },
    {
     "name": "stdout",
     "output_type": "stream",
     "text": [
      "HR@1: 0.10180275715800637\n",
      "HR@5: 0.3372216330858961\n",
      "HR@10: 0.4973488865323436\n",
      "NDCG@1: 0.10180275715800637\n",
      "NDCG@5: 0.21871046609919292\n",
      "NDCG@10: 0.27062460123812276\n"
     ]
    },
    {
     "name": "stderr",
     "output_type": "stream",
     "text": [
      "                                                                     \r"
     ]
    },
    {
     "name": "stdout",
     "output_type": "stream",
     "text": [
      "Epoch 3: Avg Loss/Batch 24.501098           \n"
     ]
    },
    {
     "name": "stderr",
     "output_type": "stream",
     "text": [
      "                                                   \r"
     ]
    },
    {
     "name": "stdout",
     "output_type": "stream",
     "text": [
      "HR@1: 0.1919406150583245\n",
      "HR@5: 0.5015906680805938\n",
      "HR@10: 0.672322375397667\n",
      "NDCG@1: 0.1919406150583245\n",
      "NDCG@5: 0.3510729456253505\n",
      "NDCG@10: 0.4065080625966442\n"
     ]
    },
    {
     "name": "stderr",
     "output_type": "stream",
     "text": [
      "                                                                     \r"
     ]
    },
    {
     "name": "stdout",
     "output_type": "stream",
     "text": [
      "Epoch 4: Avg Loss/Batch 22.280228           \n"
     ]
    },
    {
     "name": "stderr",
     "output_type": "stream",
     "text": [
      "                                                   \r"
     ]
    },
    {
     "name": "stdout",
     "output_type": "stream",
     "text": [
      "HR@1: 0.23647932131495228\n",
      "HR@5: 0.5800636267232238\n",
      "HR@10: 0.7232237539766702\n",
      "NDCG@1: 0.23647932131495228\n",
      "NDCG@5: 0.4162464390221339\n",
      "NDCG@10: 0.46280380032806595\n"
     ]
    },
    {
     "name": "stderr",
     "output_type": "stream",
     "text": [
      "                                                                     \r"
     ]
    },
    {
     "name": "stdout",
     "output_type": "stream",
     "text": [
      "Epoch 5: Avg Loss/Batch 21.488761           \n"
     ]
    },
    {
     "name": "stderr",
     "output_type": "stream",
     "text": [
      "                                                   \r"
     ]
    },
    {
     "name": "stdout",
     "output_type": "stream",
     "text": [
      "HR@1: 0.2598091198303287\n",
      "HR@5: 0.5874867444326617\n",
      "HR@10: 0.7338282078472959\n",
      "NDCG@1: 0.2598091198303287\n",
      "NDCG@5: 0.43059499208844054\n",
      "NDCG@10: 0.47857700984572665\n"
     ]
    },
    {
     "name": "stderr",
     "output_type": "stream",
     "text": [
      "                                                                     \r"
     ]
    },
    {
     "name": "stdout",
     "output_type": "stream",
     "text": [
      "Epoch 6: Avg Loss/Batch 21.071222           \n"
     ]
    },
    {
     "name": "stderr",
     "output_type": "stream",
     "text": [
      "                                                   \r"
     ]
    },
    {
     "name": "stdout",
     "output_type": "stream",
     "text": [
      "HR@1: 0.264050901378579\n",
      "HR@5: 0.6055143160127253\n",
      "HR@10: 0.7465535524920467\n",
      "NDCG@1: 0.264050901378579\n",
      "NDCG@5: 0.44102119153418684\n",
      "NDCG@10: 0.48688427701001097\n"
     ]
    },
    {
     "name": "stderr",
     "output_type": "stream",
     "text": [
      "                                                                     \r"
     ]
    },
    {
     "name": "stdout",
     "output_type": "stream",
     "text": [
      "Epoch 7: Avg Loss/Batch 20.828900           \n"
     ]
    },
    {
     "name": "stderr",
     "output_type": "stream",
     "text": [
      "                                                   \r"
     ]
    },
    {
     "name": "stdout",
     "output_type": "stream",
     "text": [
      "HR@1: 0.26617179215270415\n",
      "HR@5: 0.6076352067868505\n",
      "HR@10: 0.7560975609756098\n",
      "NDCG@1: 0.26617179215270415\n",
      "NDCG@5: 0.44324378552242055\n",
      "NDCG@10: 0.4914702268162411\n"
     ]
    },
    {
     "name": "stderr",
     "output_type": "stream",
     "text": [
      "                                                                     \r"
     ]
    },
    {
     "name": "stdout",
     "output_type": "stream",
     "text": [
      "Epoch 8: Avg Loss/Batch 20.677551           \n"
     ]
    },
    {
     "name": "stderr",
     "output_type": "stream",
     "text": [
      "                                                   \r"
     ]
    },
    {
     "name": "stdout",
     "output_type": "stream",
     "text": [
      "HR@1: 0.2672322375397667\n",
      "HR@5: 0.6055143160127253\n",
      "HR@10: 0.7592788971367974\n",
      "NDCG@1: 0.2672322375397667\n",
      "NDCG@5: 0.44272097887011364\n",
      "NDCG@10: 0.49291767638631195\n"
     ]
    },
    {
     "name": "stderr",
     "output_type": "stream",
     "text": [
      "                                                                     \r"
     ]
    },
    {
     "name": "stdout",
     "output_type": "stream",
     "text": [
      "Epoch 9: Avg Loss/Batch 20.573831           \n"
     ]
    },
    {
     "name": "stderr",
     "output_type": "stream",
     "text": [
      "                                                   \r"
     ]
    },
    {
     "name": "stdout",
     "output_type": "stream",
     "text": [
      "HR@1: 0.2704135737009544\n",
      "HR@5: 0.6097560975609756\n",
      "HR@10: 0.7624602332979852\n",
      "NDCG@1: 0.2704135737009544\n",
      "NDCG@5: 0.44553663472076993\n",
      "NDCG@10: 0.4952580359229108\n"
     ]
    },
    {
     "name": "stderr",
     "output_type": "stream",
     "text": [
      "                                                                      \r"
     ]
    },
    {
     "name": "stdout",
     "output_type": "stream",
     "text": [
      "Epoch 10: Avg Loss/Batch 20.496696           \n"
     ]
    },
    {
     "name": "stderr",
     "output_type": "stream",
     "text": [
      "                                                   \r"
     ]
    },
    {
     "name": "stdout",
     "output_type": "stream",
     "text": [
      "HR@1: 0.2757158006362672\n",
      "HR@5: 0.6139978791092259\n",
      "HR@10: 0.7656415694591728\n",
      "NDCG@1: 0.2757158006362672\n",
      "NDCG@5: 0.44895983131376554\n",
      "NDCG@10: 0.498202897198879\n"
     ]
    },
    {
     "name": "stderr",
     "output_type": "stream",
     "text": [
      "                                                                      \r"
     ]
    },
    {
     "name": "stdout",
     "output_type": "stream",
     "text": [
      "Epoch 11: Avg Loss/Batch 20.436227           \n"
     ]
    },
    {
     "name": "stderr",
     "output_type": "stream",
     "text": [
      "                                                   \r"
     ]
    },
    {
     "name": "stdout",
     "output_type": "stream",
     "text": [
      "HR@1: 0.2757158006362672\n",
      "HR@5: 0.6171792152704135\n",
      "HR@10: 0.7656415694591728\n",
      "NDCG@1: 0.2757158006362672\n",
      "NDCG@5: 0.45059582362866357\n",
      "NDCG@10: 0.49869543711310105\n"
     ]
    },
    {
     "name": "stderr",
     "output_type": "stream",
     "text": [
      "                                                                      \r"
     ]
    },
    {
     "name": "stdout",
     "output_type": "stream",
     "text": [
      "Epoch 12: Avg Loss/Batch 20.387533           \n"
     ]
    },
    {
     "name": "stderr",
     "output_type": "stream",
     "text": [
      "                                                   \r"
     ]
    },
    {
     "name": "stdout",
     "output_type": "stream",
     "text": [
      "HR@1: 0.2788971367974549\n",
      "HR@5: 0.616118769883351\n",
      "HR@10: 0.7667020148462355\n",
      "NDCG@1: 0.2788971367974549\n",
      "NDCG@5: 0.4521004158351824\n",
      "NDCG@10: 0.500999257338095\n"
     ]
    },
    {
     "name": "stderr",
     "output_type": "stream",
     "text": [
      "                                                                      \r"
     ]
    },
    {
     "name": "stdout",
     "output_type": "stream",
     "text": [
      "Epoch 13: Avg Loss/Batch 20.347859           \n"
     ]
    },
    {
     "name": "stderr",
     "output_type": "stream",
     "text": [
      "                                                   \r"
     ]
    },
    {
     "name": "stdout",
     "output_type": "stream",
     "text": [
      "HR@1: 0.2788971367974549\n",
      "HR@5: 0.6214209968186638\n",
      "HR@10: 0.7688229056203606\n",
      "NDCG@1: 0.2788971367974549\n",
      "NDCG@5: 0.45432566568790095\n",
      "NDCG@10: 0.5020479891707565\n"
     ]
    },
    {
     "name": "stderr",
     "output_type": "stream",
     "text": [
      "                                                                      \r"
     ]
    },
    {
     "name": "stdout",
     "output_type": "stream",
     "text": [
      "Epoch 14: Avg Loss/Batch 20.315368           \n"
     ]
    },
    {
     "name": "stderr",
     "output_type": "stream",
     "text": [
      "                                                   \r"
     ]
    },
    {
     "name": "stdout",
     "output_type": "stream",
     "text": [
      "HR@1: 0.2788971367974549\n",
      "HR@5: 0.6246023329798516\n",
      "HR@10: 0.7688229056203606\n",
      "NDCG@1: 0.2788971367974549\n",
      "NDCG@5: 0.4553527747604697\n",
      "NDCG@10: 0.5020332230732373\n"
     ]
    },
    {
     "name": "stderr",
     "output_type": "stream",
     "text": [
      "                                                                      \r"
     ]
    },
    {
     "name": "stdout",
     "output_type": "stream",
     "text": [
      "Epoch 15: Avg Loss/Batch 20.288670           \n"
     ]
    },
    {
     "name": "stderr",
     "output_type": "stream",
     "text": [
      "                                                   \r"
     ]
    },
    {
     "name": "stdout",
     "output_type": "stream",
     "text": [
      "HR@1: 0.28101802757158006\n",
      "HR@5: 0.623541887592789\n",
      "HR@10: 0.7698833510074231\n",
      "NDCG@1: 0.28101802757158006\n",
      "NDCG@5: 0.45573654423564663\n",
      "NDCG@10: 0.5031022904032139\n"
     ]
    },
    {
     "name": "stderr",
     "output_type": "stream",
     "text": [
      "                                                                      \r"
     ]
    },
    {
     "name": "stdout",
     "output_type": "stream",
     "text": [
      "Epoch 16: Avg Loss/Batch 20.266652           \n"
     ]
    },
    {
     "name": "stderr",
     "output_type": "stream",
     "text": [
      "                                                   \r"
     ]
    },
    {
     "name": "stdout",
     "output_type": "stream",
     "text": [
      "HR@1: 0.28207847295864263\n",
      "HR@5: 0.6246023329798516\n",
      "HR@10: 0.7720042417815483\n",
      "NDCG@1: 0.28207847295864263\n",
      "NDCG@5: 0.45676994859292364\n",
      "NDCG@10: 0.5043772915290267\n"
     ]
    },
    {
     "name": "stderr",
     "output_type": "stream",
     "text": [
      "                                                                      \r"
     ]
    },
    {
     "name": "stdout",
     "output_type": "stream",
     "text": [
      "Epoch 17: Avg Loss/Batch 20.248408           \n"
     ]
    },
    {
     "name": "stderr",
     "output_type": "stream",
     "text": [
      "                                                   \r"
     ]
    },
    {
     "name": "stdout",
     "output_type": "stream",
     "text": [
      "HR@1: 0.2788971367974549\n",
      "HR@5: 0.6246023329798516\n",
      "HR@10: 0.7720042417815483\n",
      "NDCG@1: 0.2788971367974549\n",
      "NDCG@5: 0.45538345449453155\n",
      "NDCG@10: 0.5030593092814709\n"
     ]
    },
    {
     "name": "stderr",
     "output_type": "stream",
     "text": [
      "                                                                      \r"
     ]
    },
    {
     "name": "stdout",
     "output_type": "stream",
     "text": [
      "Epoch 18: Avg Loss/Batch 20.233205           \n"
     ]
    },
    {
     "name": "stderr",
     "output_type": "stream",
     "text": [
      "                                                   \r"
     ]
    },
    {
     "name": "stdout",
     "output_type": "stream",
     "text": [
      "HR@1: 0.2788971367974549\n",
      "HR@5: 0.6203605514316013\n",
      "HR@10: 0.7730646871686108\n",
      "NDCG@1: 0.2788971367974549\n",
      "NDCG@5: 0.4538354547837569\n",
      "NDCG@10: 0.5033399199032118\n"
     ]
    },
    {
     "name": "stderr",
     "output_type": "stream",
     "text": [
      "                                                                      \r"
     ]
    },
    {
     "name": "stdout",
     "output_type": "stream",
     "text": [
      "Epoch 19: Avg Loss/Batch 20.220456           \n"
     ]
    },
    {
     "name": "stderr",
     "output_type": "stream",
     "text": [
      "                                                   \r"
     ]
    },
    {
     "name": "stdout",
     "output_type": "stream",
     "text": [
      "HR@1: 0.2767762460233298\n",
      "HR@5: 0.6203605514316013\n",
      "HR@10: 0.7741251325556734\n",
      "NDCG@1: 0.2767762460233298\n",
      "NDCG@5: 0.45368158624012533\n",
      "NDCG@10: 0.5035547423385704\n"
     ]
    },
    {
     "name": "stderr",
     "output_type": "stream",
     "text": [
      "                                                                      \r"
     ]
    },
    {
     "name": "stdout",
     "output_type": "stream",
     "text": [
      "Epoch 20: Avg Loss/Batch 20.209694           \n"
     ]
    },
    {
     "name": "stderr",
     "output_type": "stream",
     "text": [
      "                                                   \r"
     ]
    },
    {
     "name": "stdout",
     "output_type": "stream",
     "text": [
      "HR@1: 0.2767762460233298\n",
      "HR@5: 0.6214209968186638\n",
      "HR@10: 0.7730646871686108\n",
      "NDCG@1: 0.2767762460233298\n",
      "NDCG@5: 0.45409182251502944\n",
      "NDCG@10: 0.5033625195910126\n"
     ]
    },
    {
     "name": "stderr",
     "output_type": "stream",
     "text": [
      "                                                                      \r"
     ]
    },
    {
     "name": "stdout",
     "output_type": "stream",
     "text": [
      "Epoch 21: Avg Loss/Batch 20.200548           \n"
     ]
    },
    {
     "name": "stderr",
     "output_type": "stream",
     "text": [
      "                                                   \r"
     ]
    },
    {
     "name": "stdout",
     "output_type": "stream",
     "text": [
      "HR@1: 0.2767762460233298\n",
      "HR@5: 0.6214209968186638\n",
      "HR@10: 0.7741251325556734\n",
      "NDCG@1: 0.2767762460233298\n",
      "NDCG@5: 0.45406478148524393\n",
      "NDCG@10: 0.5036815798986761\n"
     ]
    },
    {
     "name": "stderr",
     "output_type": "stream",
     "text": [
      "                                                                      \r"
     ]
    },
    {
     "name": "stdout",
     "output_type": "stream",
     "text": [
      "Epoch 22: Avg Loss/Batch 20.192726           \n"
     ]
    },
    {
     "name": "stderr",
     "output_type": "stream",
     "text": [
      "                                                   \r"
     ]
    },
    {
     "name": "stdout",
     "output_type": "stream",
     "text": [
      "HR@1: 0.2757158006362672\n",
      "HR@5: 0.6214209968186638\n",
      "HR@10: 0.7741251325556734\n",
      "NDCG@1: 0.2757158006362672\n",
      "NDCG@5: 0.4537198753393376\n",
      "NDCG@10: 0.5034590064994454\n"
     ]
    },
    {
     "name": "stderr",
     "output_type": "stream",
     "text": [
      "                                                                      \r"
     ]
    },
    {
     "name": "stdout",
     "output_type": "stream",
     "text": [
      "Epoch 23: Avg Loss/Batch 20.185996           \n"
     ]
    },
    {
     "name": "stderr",
     "output_type": "stream",
     "text": [
      "                                                   \r"
     ]
    },
    {
     "name": "stdout",
     "output_type": "stream",
     "text": [
      "HR@1: 0.27465535524920465\n",
      "HR@5: 0.6214209968186638\n",
      "HR@10: 0.7741251325556734\n",
      "NDCG@1: 0.27465535524920465\n",
      "NDCG@5: 0.45344848291763756\n",
      "NDCG@10: 0.5032155116696866\n"
     ]
    },
    {
     "name": "stderr",
     "output_type": "stream",
     "text": [
      "                                                                      \r"
     ]
    },
    {
     "name": "stdout",
     "output_type": "stream",
     "text": [
      "Epoch 24: Avg Loss/Batch 20.180172           \n"
     ]
    },
    {
     "name": "stderr",
     "output_type": "stream",
     "text": [
      "                                                   \r"
     ]
    },
    {
     "name": "stdout",
     "output_type": "stream",
     "text": [
      "HR@1: 0.27465535524920465\n",
      "HR@5: 0.6214209968186638\n",
      "HR@10: 0.7730646871686108\n",
      "NDCG@1: 0.27465535524920465\n",
      "NDCG@5: 0.4535873267708417\n",
      "NDCG@10: 0.5030884040618395\n"
     ]
    },
    {
     "name": "stderr",
     "output_type": "stream",
     "text": [
      "                                                                      \r"
     ]
    },
    {
     "name": "stdout",
     "output_type": "stream",
     "text": [
      "Epoch 25: Avg Loss/Batch 20.175104           \n"
     ]
    },
    {
     "name": "stderr",
     "output_type": "stream",
     "text": [
      "                                                   \r"
     ]
    },
    {
     "name": "stdout",
     "output_type": "stream",
     "text": [
      "HR@1: 0.27465535524920465\n",
      "HR@5: 0.6214209968186638\n",
      "HR@10: 0.7741251325556734\n",
      "NDCG@1: 0.27465535524920465\n",
      "NDCG@5: 0.4535873267708417\n",
      "NDCG@10: 0.5034076299321089\n"
     ]
    },
    {
     "name": "stderr",
     "output_type": "stream",
     "text": [
      "                                                                      \r"
     ]
    },
    {
     "name": "stdout",
     "output_type": "stream",
     "text": [
      "Epoch 26: Avg Loss/Batch 20.170672           \n"
     ]
    },
    {
     "name": "stderr",
     "output_type": "stream",
     "text": [
      "                                                   \r"
     ]
    },
    {
     "name": "stdout",
     "output_type": "stream",
     "text": [
      "HR@1: 0.27465535524920465\n",
      "HR@5: 0.6214209968186638\n",
      "HR@10: 0.7751855779427359\n",
      "NDCG@1: 0.27465535524920465\n",
      "NDCG@5: 0.453660840495048\n",
      "NDCG@10: 0.503787681117946\n"
     ]
    },
    {
     "name": "stderr",
     "output_type": "stream",
     "text": [
      "                                                                      \r"
     ]
    },
    {
     "name": "stdout",
     "output_type": "stream",
     "text": [
      "Epoch 27: Avg Loss/Batch 20.166779           \n"
     ]
    },
    {
     "name": "stderr",
     "output_type": "stream",
     "text": [
      "                                                   \r"
     ]
    },
    {
     "name": "stdout",
     "output_type": "stream",
     "text": [
      "HR@1: 0.27465535524920465\n",
      "HR@5: 0.6214209968186638\n",
      "HR@10: 0.7741251325556734\n",
      "NDCG@1: 0.27465535524920465\n",
      "NDCG@5: 0.4537343542192544\n",
      "NDCG@10: 0.5035493494301216\n"
     ]
    },
    {
     "name": "stderr",
     "output_type": "stream",
     "text": [
      "                                                                      \r"
     ]
    },
    {
     "name": "stdout",
     "output_type": "stream",
     "text": [
      "Epoch 28: Avg Loss/Batch 20.163343           \n"
     ]
    },
    {
     "name": "stderr",
     "output_type": "stream",
     "text": [
      "                                                   \r"
     ]
    },
    {
     "name": "stdout",
     "output_type": "stream",
     "text": [
      "HR@1: 0.2757158006362672\n",
      "HR@5: 0.6224814422057264\n",
      "HR@10: 0.7741251325556734\n",
      "NDCG@1: 0.2757158006362672\n",
      "NDCG@5: 0.45453596933448565\n",
      "NDCG@10: 0.5039732262769457\n"
     ]
    },
    {
     "name": "stderr",
     "output_type": "stream",
     "text": [
      "                                                                      \r"
     ]
    },
    {
     "name": "stdout",
     "output_type": "stream",
     "text": [
      "Epoch 29: Avg Loss/Batch 20.160297           \n"
     ]
    },
    {
     "name": "stderr",
     "output_type": "stream",
     "text": [
      "                                                   \r"
     ]
    },
    {
     "name": "stdout",
     "output_type": "stream",
     "text": [
      "HR@1: 0.2757158006362672\n",
      "HR@5: 0.6224814422057264\n",
      "HR@10: 0.7741251325556734\n",
      "NDCG@1: 0.2757158006362672\n",
      "NDCG@5: 0.4548218406361024\n",
      "NDCG@10: 0.5042590975785626\n"
     ]
    },
    {
     "name": "stderr",
     "output_type": "stream",
     "text": [
      "                                                                      \r"
     ]
    },
    {
     "name": "stdout",
     "output_type": "stream",
     "text": [
      "Epoch 30: Avg Loss/Batch 20.157588           \n"
     ]
    },
    {
     "name": "stderr",
     "output_type": "stream",
     "text": [
      "                                                   \r"
     ]
    },
    {
     "name": "stdout",
     "output_type": "stream",
     "text": [
      "HR@1: 0.2757158006362672\n",
      "HR@5: 0.6224814422057264\n",
      "HR@10: 0.7741251325556734\n",
      "NDCG@1: 0.2757158006362672\n",
      "NDCG@5: 0.4548218406361024\n",
      "NDCG@10: 0.5042780461008824\n"
     ]
    },
    {
     "name": "stderr",
     "output_type": "stream",
     "text": [
      "                                                                      \r"
     ]
    },
    {
     "name": "stdout",
     "output_type": "stream",
     "text": [
      "Epoch 31: Avg Loss/Batch 20.155168           \n"
     ]
    },
    {
     "name": "stderr",
     "output_type": "stream",
     "text": [
      "                                                   \r"
     ]
    },
    {
     "name": "stdout",
     "output_type": "stream",
     "text": [
      "HR@1: 0.2757158006362672\n",
      "HR@5: 0.623541887592789\n",
      "HR@10: 0.7741251325556734\n",
      "NDCG@1: 0.2757158006362672\n",
      "NDCG@5: 0.4551856042165857\n",
      "NDCG@10: 0.5042640714129585\n"
     ]
    },
    {
     "name": "stderr",
     "output_type": "stream",
     "text": [
      "                                                                      \r"
     ]
    },
    {
     "name": "stdout",
     "output_type": "stream",
     "text": [
      "Epoch 32: Avg Loss/Batch 20.153000           \n"
     ]
    },
    {
     "name": "stderr",
     "output_type": "stream",
     "text": [
      "                                                   \r"
     ]
    },
    {
     "name": "stdout",
     "output_type": "stream",
     "text": [
      "HR@1: 0.2757158006362672\n",
      "HR@5: 0.623541887592789\n",
      "HR@10: 0.7741251325556734\n",
      "NDCG@1: 0.2757158006362672\n",
      "NDCG@5: 0.45530559063521286\n",
      "NDCG@10: 0.5044083143043053\n"
     ]
    },
    {
     "name": "stderr",
     "output_type": "stream",
     "text": [
      "                                                                      \r"
     ]
    },
    {
     "name": "stdout",
     "output_type": "stream",
     "text": [
      "Epoch 33: Avg Loss/Batch 20.151049           \n"
     ]
    },
    {
     "name": "stderr",
     "output_type": "stream",
     "text": [
      "                                                   \r"
     ]
    },
    {
     "name": "stdout",
     "output_type": "stream",
     "text": [
      "HR@1: 0.2757158006362672\n",
      "HR@5: 0.623541887592789\n",
      "HR@10: 0.7741251325556734\n",
      "NDCG@1: 0.2757158006362672\n",
      "NDCG@5: 0.45530559063521286\n",
      "NDCG@10: 0.5044083143043053\n"
     ]
    },
    {
     "name": "stderr",
     "output_type": "stream",
     "text": [
      "                                                                      \r"
     ]
    },
    {
     "name": "stdout",
     "output_type": "stream",
     "text": [
      "Epoch 34: Avg Loss/Batch 20.149290           \n"
     ]
    },
    {
     "name": "stderr",
     "output_type": "stream",
     "text": [
      "                                                   \r"
     ]
    },
    {
     "name": "stdout",
     "output_type": "stream",
     "text": [
      "HR@1: 0.2757158006362672\n",
      "HR@5: 0.623541887592789\n",
      "HR@10: 0.7751855779427359\n",
      "NDCG@1: 0.2757158006362672\n",
      "NDCG@5: 0.45530559063521286\n",
      "NDCG@10: 0.5047301591690345\n"
     ]
    },
    {
     "name": "stderr",
     "output_type": "stream",
     "text": [
      "                                                                      \r"
     ]
    },
    {
     "name": "stdout",
     "output_type": "stream",
     "text": [
      "Epoch 35: Avg Loss/Batch 20.147699           \n"
     ]
    },
    {
     "name": "stderr",
     "output_type": "stream",
     "text": [
      "                                                   \r"
     ]
    },
    {
     "name": "stdout",
     "output_type": "stream",
     "text": [
      "HR@1: 0.2757158006362672\n",
      "HR@5: 0.623541887592789\n",
      "HR@10: 0.7751855779427359\n",
      "NDCG@1: 0.2757158006362672\n",
      "NDCG@5: 0.4554255770538401\n",
      "NDCG@10: 0.5048744020603815\n"
     ]
    },
    {
     "name": "stderr",
     "output_type": "stream",
     "text": [
      "                                                                      \r"
     ]
    },
    {
     "name": "stdout",
     "output_type": "stream",
     "text": [
      "Epoch 36: Avg Loss/Batch 20.146256           \n"
     ]
    },
    {
     "name": "stderr",
     "output_type": "stream",
     "text": [
      "                                                   \r"
     ]
    },
    {
     "name": "stdout",
     "output_type": "stream",
     "text": [
      "HR@1: 0.2757158006362672\n",
      "HR@5: 0.623541887592789\n",
      "HR@10: 0.7751855779427359\n",
      "NDCG@1: 0.2757158006362672\n",
      "NDCG@5: 0.4554990907780465\n",
      "NDCG@10: 0.504928967262268\n"
     ]
    },
    {
     "name": "stderr",
     "output_type": "stream",
     "text": [
      "                                                                      \r"
     ]
    },
    {
     "name": "stdout",
     "output_type": "stream",
     "text": [
      "Epoch 37: Avg Loss/Batch 20.144945           \n"
     ]
    },
    {
     "name": "stderr",
     "output_type": "stream",
     "text": [
      "                                                   \r"
     ]
    },
    {
     "name": "stdout",
     "output_type": "stream",
     "text": [
      "HR@1: 0.2757158006362672\n",
      "HR@5: 0.623541887592789\n",
      "HR@10: 0.7751855779427359\n",
      "NDCG@1: 0.2757158006362672\n",
      "NDCG@5: 0.4555455634724674\n",
      "NDCG@10: 0.5049754399566888\n"
     ]
    },
    {
     "name": "stderr",
     "output_type": "stream",
     "text": [
      "                                                                      \r"
     ]
    },
    {
     "name": "stdout",
     "output_type": "stream",
     "text": [
      "Epoch 38: Avg Loss/Batch 20.143749           \n"
     ]
    },
    {
     "name": "stderr",
     "output_type": "stream",
     "text": [
      "                                                   \r"
     ]
    },
    {
     "name": "stdout",
     "output_type": "stream",
     "text": [
      "HR@1: 0.2757158006362672\n",
      "HR@5: 0.623541887592789\n",
      "HR@10: 0.7751855779427359\n",
      "NDCG@1: 0.2757158006362672\n",
      "NDCG@5: 0.4555185224426819\n",
      "NDCG@10: 0.5049637063300018\n"
     ]
    },
    {
     "name": "stderr",
     "output_type": "stream",
     "text": [
      "                                                                      \r"
     ]
    },
    {
     "name": "stdout",
     "output_type": "stream",
     "text": [
      "Epoch 39: Avg Loss/Batch 20.142659           \n"
     ]
    },
    {
     "name": "stderr",
     "output_type": "stream",
     "text": [
      "                                                   \r"
     ]
    },
    {
     "name": "stdout",
     "output_type": "stream",
     "text": [
      "HR@1: 0.2757158006362672\n",
      "HR@5: 0.623541887592789\n",
      "HR@10: 0.7751855779427359\n",
      "NDCG@1: 0.2757158006362672\n",
      "NDCG@5: 0.4554914814128963\n",
      "NDCG@10: 0.504964661111953\n"
     ]
    },
    {
     "name": "stderr",
     "output_type": "stream",
     "text": [
      "                                                                      \r"
     ]
    },
    {
     "name": "stdout",
     "output_type": "stream",
     "text": [
      "Epoch 40: Avg Loss/Batch 20.141661           \n"
     ]
    },
    {
     "name": "stderr",
     "output_type": "stream",
     "text": [
      "                                                   \r"
     ]
    },
    {
     "name": "stdout",
     "output_type": "stream",
     "text": [
      "HR@1: 0.2757158006362672\n",
      "HR@5: 0.623541887592789\n",
      "HR@10: 0.7751855779427359\n",
      "NDCG@1: 0.2757158006362672\n",
      "NDCG@5: 0.4554914814128963\n",
      "NDCG@10: 0.504964661111953\n"
     ]
    },
    {
     "name": "stderr",
     "output_type": "stream",
     "text": [
      "                                                                      \r"
     ]
    },
    {
     "name": "stdout",
     "output_type": "stream",
     "text": [
      "Epoch 41: Avg Loss/Batch 20.140748           \n"
     ]
    },
    {
     "name": "stderr",
     "output_type": "stream",
     "text": [
      "                                                   \r"
     ]
    },
    {
     "name": "stdout",
     "output_type": "stream",
     "text": [
      "HR@1: 0.2757158006362672\n",
      "HR@5: 0.623541887592789\n",
      "HR@10: 0.7751855779427359\n",
      "NDCG@1: 0.2757158006362672\n",
      "NDCG@5: 0.4554914814128963\n",
      "NDCG@10: 0.504964661111953\n"
     ]
    },
    {
     "name": "stderr",
     "output_type": "stream",
     "text": [
      "                                                                      \r"
     ]
    },
    {
     "name": "stdout",
     "output_type": "stream",
     "text": [
      "Epoch 42: Avg Loss/Batch 20.139912           \n"
     ]
    },
    {
     "name": "stderr",
     "output_type": "stream",
     "text": [
      "                                                   \r"
     ]
    },
    {
     "name": "stdout",
     "output_type": "stream",
     "text": [
      "HR@1: 0.27465535524920465\n",
      "HR@5: 0.623541887592789\n",
      "HR@10: 0.7751855779427359\n",
      "NDCG@1: 0.27465535524920465\n",
      "NDCG@5: 0.4551001025725691\n",
      "NDCG@10: 0.5045579748685275\n"
     ]
    },
    {
     "name": "stderr",
     "output_type": "stream",
     "text": [
      "                                                                      \r"
     ]
    },
    {
     "name": "stdout",
     "output_type": "stream",
     "text": [
      "Epoch 43: Avg Loss/Batch 20.139144           \n"
     ]
    },
    {
     "name": "stderr",
     "output_type": "stream",
     "text": [
      "                                                   \r"
     ]
    },
    {
     "name": "stdout",
     "output_type": "stream",
     "text": [
      "HR@1: 0.27465535524920465\n",
      "HR@5: 0.623541887592789\n",
      "HR@10: 0.7762460233297985\n",
      "NDCG@1: 0.27465535524920465\n",
      "NDCG@5: 0.45496125871936505\n",
      "NDCG@10: 0.5047499249496739\n"
     ]
    },
    {
     "name": "stderr",
     "output_type": "stream",
     "text": [
      "                                                                      \r"
     ]
    },
    {
     "name": "stdout",
     "output_type": "stream",
     "text": [
      "Epoch 44: Avg Loss/Batch 20.138439           \n"
     ]
    },
    {
     "name": "stderr",
     "output_type": "stream",
     "text": [
      "                                                   \r"
     ]
    },
    {
     "name": "stdout",
     "output_type": "stream",
     "text": [
      "HR@1: 0.27465535524920465\n",
      "HR@5: 0.623541887592789\n",
      "HR@10: 0.7762460233297985\n",
      "NDCG@1: 0.27465535524920465\n",
      "NDCG@5: 0.45496125871936505\n",
      "NDCG@10: 0.5047372365410354\n"
     ]
    },
    {
     "name": "stderr",
     "output_type": "stream",
     "text": [
      "                                                                      \r"
     ]
    },
    {
     "name": "stdout",
     "output_type": "stream",
     "text": [
      "Epoch 45: Avg Loss/Batch 20.137792           \n"
     ]
    },
    {
     "name": "stderr",
     "output_type": "stream",
     "text": [
      "                                                   \r"
     ]
    },
    {
     "name": "stdout",
     "output_type": "stream",
     "text": [
      "HR@1: 0.27465535524920465\n",
      "HR@5: 0.623541887592789\n",
      "HR@10: 0.7762460233297985\n",
      "NDCG@1: 0.27465535524920465\n",
      "NDCG@5: 0.45510010257256917\n",
      "NDCG@10: 0.5048760803942396\n"
     ]
    },
    {
     "name": "stderr",
     "output_type": "stream",
     "text": [
      "                                                                      \r"
     ]
    },
    {
     "name": "stdout",
     "output_type": "stream",
     "text": [
      "Epoch 46: Avg Loss/Batch 20.137197           \n"
     ]
    },
    {
     "name": "stderr",
     "output_type": "stream",
     "text": [
      "                                                   \r"
     ]
    },
    {
     "name": "stdout",
     "output_type": "stream",
     "text": [
      "HR@1: 0.27465535524920465\n",
      "HR@5: 0.623541887592789\n",
      "HR@10: 0.7762460233297985\n",
      "NDCG@1: 0.27465535524920465\n",
      "NDCG@5: 0.45510010257256917\n",
      "NDCG@10: 0.5048760803942396\n"
     ]
    },
    {
     "name": "stderr",
     "output_type": "stream",
     "text": [
      "                                                                      \r"
     ]
    },
    {
     "name": "stdout",
     "output_type": "stream",
     "text": [
      "Epoch 47: Avg Loss/Batch 20.136650           \n"
     ]
    },
    {
     "name": "stderr",
     "output_type": "stream",
     "text": [
      "                                                   \r"
     ]
    },
    {
     "name": "stdout",
     "output_type": "stream",
     "text": [
      "HR@1: 0.27465535524920465\n",
      "HR@5: 0.623541887592789\n",
      "HR@10: 0.7762460233297985\n",
      "NDCG@1: 0.27465535524920465\n",
      "NDCG@5: 0.4551271436023547\n",
      "NDCG@10: 0.504903121424025\n"
     ]
    },
    {
     "name": "stderr",
     "output_type": "stream",
     "text": [
      "                                                                      \r"
     ]
    },
    {
     "name": "stdout",
     "output_type": "stream",
     "text": [
      "Epoch 48: Avg Loss/Batch 20.136148           \n"
     ]
    },
    {
     "name": "stderr",
     "output_type": "stream",
     "text": [
      "                                                   \r"
     ]
    },
    {
     "name": "stdout",
     "output_type": "stream",
     "text": [
      "HR@1: 0.27465535524920465\n",
      "HR@5: 0.6246023329798516\n",
      "HR@10: 0.7762460233297985\n",
      "NDCG@1: 0.27465535524920465\n",
      "NDCG@5: 0.45553737987725873\n",
      "NDCG@10: 0.5049356194305219\n"
     ]
    },
    {
     "name": "stderr",
     "output_type": "stream",
     "text": [
      "                                                                      \r"
     ]
    },
    {
     "name": "stdout",
     "output_type": "stream",
     "text": [
      "Epoch 49: Avg Loss/Batch 20.135686           \n"
     ]
    },
    {
     "name": "stderr",
     "output_type": "stream",
     "text": [
      "                                                   \r"
     ]
    },
    {
     "name": "stdout",
     "output_type": "stream",
     "text": [
      "HR@1: 0.27465535524920465\n",
      "HR@5: 0.6246023329798516\n",
      "HR@10: 0.7762460233297985\n",
      "NDCG@1: 0.27465535524920465\n",
      "NDCG@5: 0.45567622373046285\n",
      "NDCG@10: 0.5050744632837261\n"
     ]
    }
   ],
   "source": [
    "trainer.train(evaluate=True)"
   ]
  },
  {
   "cell_type": "markdown",
   "metadata": {},
   "source": [
    "#### Epoch 19: Avg Loss/Batch 21.236540           \n",
    "lr=0.01, weight_decay=0.01                                               \n",
    "- HR@1: 0.271474019088017\n",
    "- HR@5: 0.6129374337221634\n",
    "- HR@10: 0.7698833510074231\n",
    "- NDCG@1: 0.271474019088017\n",
    "- NDCG@5: 0.4491453703208111\n",
    "- NDCG@10: 0.5000956103254153"
   ]
  },
  {
   "cell_type": "code",
   "execution_count": null,
   "metadata": {},
   "outputs": [],
   "source": [
    "# torch.save(trainer.model.state_dict(), \"saved_models/mf.pt\")\n",
    "trainer.model.load_state_dict(torch.load(\"saved_models/mfbpr.pt\"))"
   ]
  }
 ],
 "metadata": {
  "kernelspec": {
   "display_name": "v39",
   "language": "python",
   "name": "python3"
  },
  "language_info": {
   "codemirror_mode": {
    "name": "ipython",
    "version": 3
   },
   "file_extension": ".py",
   "mimetype": "text/x-python",
   "name": "python",
   "nbconvert_exporter": "python",
   "pygments_lexer": "ipython3",
   "version": "3.9.7"
  }
 },
 "nbformat": 4,
 "nbformat_minor": 2
}
