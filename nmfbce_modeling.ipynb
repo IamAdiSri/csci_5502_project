{
 "cells": [
  {
   "cell_type": "code",
   "execution_count": 1,
   "metadata": {},
   "outputs": [
    {
     "name": "stdout",
     "output_type": "stream",
     "text": [
      "device='cuda'\n"
     ]
    }
   ],
   "source": [
    "import numpy as np\n",
    "import random\n",
    "import torch\n",
    "from src.dataloaders import Dataset100k\n",
    "from src.models import GMFBCEModel, MLPBCEModel, NeuralMatrixFactorizationBCEModel\n",
    "from src.trainer import Trainer\n",
    "from src.metrics import hitratio, ndcg\n",
    "\n",
    "np.random.seed(42)\n",
    "random.seed(42)\n",
    "torch.manual_seed(42)\n",
    "\n",
    "device = 'cuda' if torch.cuda.is_available() else 'cpu'\n",
    "# device = 'cpu'\n",
    "print(f\"{device=}\")"
   ]
  },
  {
   "cell_type": "code",
   "execution_count": 2,
   "metadata": {},
   "outputs": [
    {
     "name": "stdout",
     "output_type": "stream",
     "text": [
      "dataset.train_size=198114, dataset.test_size=943\n"
     ]
    }
   ],
   "source": [
    "class config:\n",
    "    data_dir = 'ml-100k'\n",
    "    epochs = 40\n",
    "    batch_size = 2048\n",
    "    gmf_embed_size = 16\n",
    "    mlp_embed_size = 32\n",
    "    layers = [32, 16, 8]\n",
    "    lr = 0.001\n",
    "    b1 = 0.3\n",
    "    b2 = 0.6\n",
    "    weight_decay = 0.0001\n",
    "\n",
    "dataset = Dataset100k(config.data_dir)\n",
    "dataset.gen_adjacency()\n",
    "dataset.make_train_test()\n",
    "print(f\"{dataset.train_size=}, {dataset.test_size=}\")\n",
    "\n",
    "metrics = {\n",
    "    \"HR@1\": (hitratio, {\"top_n\": 1}),\n",
    "    \"HR@5\": (hitratio, {\"top_n\": 5}),\n",
    "    \"HR@10\": (hitratio, {\"top_n\": 10}),\n",
    "    \"NDCG@1\": (ndcg, {\"top_n\": 1}),\n",
    "    \"NDCG@5\": (ndcg, {\"top_n\": 5}),\n",
    "    \"NDCG@10\": (ndcg, {\"top_n\": 10}),\n",
    "}"
   ]
  },
  {
   "cell_type": "code",
   "execution_count": 3,
   "metadata": {},
   "outputs": [],
   "source": [
    "model = NeuralMatrixFactorizationBCEModel(dataset.user_count, dataset.item_count, gmf_embed_size=config.gmf_embed_size, mlp_embed_size=config.mlp_embed_size, layers=config.layers, alpha=0.5)\n",
    "\n",
    "gmf_model = GMFBCEModel(dataset.user_count, dataset.item_count, embed_size=config.gmf_embed_size)\n",
    "gmf_model.load_state_dict(torch.load(\"saved_models/gmfbce.pt\"))\n",
    "mlp_model = MLPBCEModel(dataset.user_count, dataset.item_count, embed_size=config.mlp_embed_size, layers=config.layers)\n",
    "mlp_model.load_state_dict(torch.load(\"saved_models/mlpbce.pt\"))\n",
    "\n",
    "model.load_pretrained_weights(gmf_model, mlp_model)\n",
    "del(gmf_model)\n",
    "del(mlp_model)\n",
    "\n",
    "# optimizer = torch.optim.SGD(model.parameters(), lr=config.lr, weight_decay=config.weight_decay)\n",
    "optimizer = torch.optim.Adam(model.parameters(), lr=config.lr, betas=(config.b1, config.b2), weight_decay=config.weight_decay)\n",
    "# optimizer = torch.optim.Adam(model.parameters(), lr=config.lr, weight_decay=config.weight_decay)\n",
    "\n",
    "trainer = Trainer(dataset, model, optimizer, metrics, \n",
    "                  epochs=config.epochs, batch_size=config.batch_size,\n",
    "                  device=device)"
   ]
  },
  {
   "cell_type": "code",
   "execution_count": 4,
   "metadata": {},
   "outputs": [
    {
     "name": "stderr",
     "output_type": "stream",
     "text": [
      "                                                                   \r"
     ]
    },
    {
     "name": "stdout",
     "output_type": "stream",
     "text": [
      "Epoch 0: Avg Loss/Batch 0.308001            \n"
     ]
    },
    {
     "name": "stderr",
     "output_type": "stream",
     "text": [
      "                                                   \r"
     ]
    },
    {
     "name": "stdout",
     "output_type": "stream",
     "text": [
      "HR@1: 0.2873806998939555\n",
      "HR@5: 0.6256627783669141\n",
      "HR@10: 0.7720042417815483\n",
      "NDCG@1: 0.2873806998939555\n",
      "NDCG@5: 0.4653906911234425\n",
      "NDCG@10: 0.5133117450220354\n"
     ]
    },
    {
     "name": "stderr",
     "output_type": "stream",
     "text": [
      "                                                                   \r"
     ]
    },
    {
     "name": "stdout",
     "output_type": "stream",
     "text": [
      "Epoch 1: Avg Loss/Batch 0.307314            \n"
     ]
    },
    {
     "name": "stderr",
     "output_type": "stream",
     "text": [
      "                                                   \r"
     ]
    },
    {
     "name": "stdout",
     "output_type": "stream",
     "text": [
      "HR@1: 0.28207847295864263\n",
      "HR@5: 0.6224814422057264\n",
      "HR@10: 0.7762460233297985\n",
      "NDCG@1: 0.28207847295864263\n",
      "NDCG@5: 0.4612976597137803\n",
      "NDCG@10: 0.5113373628812248\n"
     ]
    },
    {
     "name": "stderr",
     "output_type": "stream",
     "text": [
      "                                                                   \r"
     ]
    },
    {
     "name": "stdout",
     "output_type": "stream",
     "text": [
      "Epoch 2: Avg Loss/Batch 0.308059            \n"
     ]
    },
    {
     "name": "stderr",
     "output_type": "stream",
     "text": [
      "                                                   \r"
     ]
    },
    {
     "name": "stdout",
     "output_type": "stream",
     "text": [
      "HR@1: 0.2831389183457052\n",
      "HR@5: 0.6299045599151644\n",
      "HR@10: 0.7720042417815483\n",
      "NDCG@1: 0.2831389183457052\n",
      "NDCG@5: 0.4648077004507823\n",
      "NDCG@10: 0.5111191228855387\n"
     ]
    },
    {
     "name": "stderr",
     "output_type": "stream",
     "text": [
      "                                                                   \r"
     ]
    },
    {
     "name": "stdout",
     "output_type": "stream",
     "text": [
      "Epoch 3: Avg Loss/Batch 0.309015            \n"
     ]
    },
    {
     "name": "stderr",
     "output_type": "stream",
     "text": [
      "                                                   \r"
     ]
    },
    {
     "name": "stdout",
     "output_type": "stream",
     "text": [
      "HR@1: 0.28950159066808057\n",
      "HR@5: 0.6277836691410392\n",
      "HR@10: 0.7698833510074231\n",
      "NDCG@1: 0.28950159066808057\n",
      "NDCG@5: 0.46715846445285186\n",
      "NDCG@10: 0.5137269743885267\n"
     ]
    },
    {
     "name": "stderr",
     "output_type": "stream",
     "text": [
      "                                                                   \r"
     ]
    },
    {
     "name": "stdout",
     "output_type": "stream",
     "text": [
      "Epoch 4: Avg Loss/Batch 0.309796            \n"
     ]
    },
    {
     "name": "stderr",
     "output_type": "stream",
     "text": [
      "                                                   \r"
     ]
    },
    {
     "name": "stdout",
     "output_type": "stream",
     "text": [
      "HR@1: 0.28101802757158006\n",
      "HR@5: 0.6256627783669141\n",
      "HR@10: 0.7698833510074231\n",
      "NDCG@1: 0.28101802757158006\n",
      "NDCG@5: 0.4632722913094238\n",
      "NDCG@10: 0.5103316416414804\n"
     ]
    },
    {
     "name": "stderr",
     "output_type": "stream",
     "text": [
      "                                                                   \r"
     ]
    },
    {
     "name": "stdout",
     "output_type": "stream",
     "text": [
      "Epoch 5: Avg Loss/Batch 0.310136            \n"
     ]
    },
    {
     "name": "stderr",
     "output_type": "stream",
     "text": [
      "                                                   \r"
     ]
    },
    {
     "name": "stdout",
     "output_type": "stream",
     "text": [
      "HR@1: 0.28525980911983034\n",
      "HR@5: 0.6267232237539767\n",
      "HR@10: 0.7645811240721103\n",
      "NDCG@1: 0.28525980911983034\n",
      "NDCG@5: 0.46398399709048394\n",
      "NDCG@10: 0.5092502130433262\n"
     ]
    },
    {
     "name": "stderr",
     "output_type": "stream",
     "text": [
      "                                                                   \r"
     ]
    },
    {
     "name": "stdout",
     "output_type": "stream",
     "text": [
      "Epoch 6: Avg Loss/Batch 0.310052            \n"
     ]
    },
    {
     "name": "stderr",
     "output_type": "stream",
     "text": [
      "                                                   \r"
     ]
    },
    {
     "name": "stdout",
     "output_type": "stream",
     "text": [
      "HR@1: 0.2863202545068929\n",
      "HR@5: 0.6246023329798516\n",
      "HR@10: 0.7667020148462355\n",
      "NDCG@1: 0.2863202545068929\n",
      "NDCG@5: 0.46300029552217087\n",
      "NDCG@10: 0.5095025625544393\n"
     ]
    },
    {
     "name": "stderr",
     "output_type": "stream",
     "text": [
      "                                                                   \r"
     ]
    },
    {
     "name": "stdout",
     "output_type": "stream",
     "text": [
      "Epoch 7: Avg Loss/Batch 0.309697            \n"
     ]
    },
    {
     "name": "stderr",
     "output_type": "stream",
     "text": [
      "                                                   \r"
     ]
    },
    {
     "name": "stdout",
     "output_type": "stream",
     "text": [
      "HR@1: 0.28101802757158006\n",
      "HR@5: 0.6224814422057264\n",
      "HR@10: 0.7667020148462355\n",
      "NDCG@1: 0.28101802757158006\n",
      "NDCG@5: 0.46007226261803763\n",
      "NDCG@10: 0.5070789123988119\n"
     ]
    },
    {
     "name": "stderr",
     "output_type": "stream",
     "text": [
      "                                                                   \r"
     ]
    },
    {
     "name": "stdout",
     "output_type": "stream",
     "text": [
      "Epoch 8: Avg Loss/Batch 0.309248            \n"
     ]
    },
    {
     "name": "stderr",
     "output_type": "stream",
     "text": [
      "                                                   \r"
     ]
    },
    {
     "name": "stdout",
     "output_type": "stream",
     "text": [
      "HR@1: 0.27465535524920465\n",
      "HR@5: 0.6214209968186638\n",
      "HR@10: 0.7624602332979852\n",
      "NDCG@1: 0.27465535524920465\n",
      "NDCG@5: 0.45567318767579257\n",
      "NDCG@10: 0.5017712466491344\n"
     ]
    },
    {
     "name": "stderr",
     "output_type": "stream",
     "text": [
      "                                                                   \r"
     ]
    },
    {
     "name": "stdout",
     "output_type": "stream",
     "text": [
      "Epoch 9: Avg Loss/Batch 0.308751            \n"
     ]
    },
    {
     "name": "stderr",
     "output_type": "stream",
     "text": [
      "                                                   \r"
     ]
    },
    {
     "name": "stdout",
     "output_type": "stream",
     "text": [
      "HR@1: 0.26935312831389185\n",
      "HR@5: 0.6214209968186638\n",
      "HR@10: 0.7592788971367974\n",
      "NDCG@1: 0.26935312831389185\n",
      "NDCG@5: 0.45465560469842214\n",
      "NDCG@10: 0.49968905893717436\n"
     ]
    },
    {
     "name": "stderr",
     "output_type": "stream",
     "text": [
      "                                                                    \r"
     ]
    },
    {
     "name": "stdout",
     "output_type": "stream",
     "text": [
      "Epoch 10: Avg Loss/Batch 0.308159            \n"
     ]
    },
    {
     "name": "stderr",
     "output_type": "stream",
     "text": [
      "                                                   \r"
     ]
    },
    {
     "name": "stdout",
     "output_type": "stream",
     "text": [
      "HR@1: 0.264050901378579\n",
      "HR@5: 0.6214209968186638\n",
      "HR@10: 0.7582184517497349\n",
      "NDCG@1: 0.264050901378579\n",
      "NDCG@5: 0.4520943721453894\n",
      "NDCG@10: 0.4967338568076701\n"
     ]
    },
    {
     "name": "stderr",
     "output_type": "stream",
     "text": [
      "                                                                    \r"
     ]
    },
    {
     "name": "stdout",
     "output_type": "stream",
     "text": [
      "Epoch 11: Avg Loss/Batch 0.307522            \n"
     ]
    },
    {
     "name": "stderr",
     "output_type": "stream",
     "text": [
      "                                                   \r"
     ]
    },
    {
     "name": "stdout",
     "output_type": "stream",
     "text": [
      "HR@1: 0.2598091198303287\n",
      "HR@5: 0.616118769883351\n",
      "HR@10: 0.76033934252386\n",
      "NDCG@1: 0.2598091198303287\n",
      "NDCG@5: 0.4471206841655656\n",
      "NDCG@10: 0.4939382400679523\n"
     ]
    },
    {
     "name": "stderr",
     "output_type": "stream",
     "text": [
      "                                                                    \r"
     ]
    },
    {
     "name": "stdout",
     "output_type": "stream",
     "text": [
      "Epoch 12: Avg Loss/Batch 0.306744            \n"
     ]
    },
    {
     "name": "stderr",
     "output_type": "stream",
     "text": [
      "                                                   \r"
     ]
    },
    {
     "name": "stdout",
     "output_type": "stream",
     "text": [
      "HR@1: 0.26193001060445387\n",
      "HR@5: 0.6108165429480382\n",
      "HR@10: 0.7582184517497349\n",
      "NDCG@1: 0.26193001060445387\n",
      "NDCG@5: 0.44457754077717826\n",
      "NDCG@10: 0.4924287091896132\n"
     ]
    },
    {
     "name": "stderr",
     "output_type": "stream",
     "text": [
      "                                                                    \r"
     ]
    },
    {
     "name": "stdout",
     "output_type": "stream",
     "text": [
      "Epoch 13: Avg Loss/Batch 0.305860            \n"
     ]
    },
    {
     "name": "stderr",
     "output_type": "stream",
     "text": [
      "                                                   \r"
     ]
    },
    {
     "name": "stdout",
     "output_type": "stream",
     "text": [
      "HR@1: 0.26935312831389185\n",
      "HR@5: 0.6076352067868505\n",
      "HR@10: 0.7613997879109226\n",
      "NDCG@1: 0.26935312831389185\n",
      "NDCG@5: 0.445931272791135\n",
      "NDCG@10: 0.49557679414713696\n"
     ]
    },
    {
     "name": "stderr",
     "output_type": "stream",
     "text": [
      "                                                                    \r"
     ]
    },
    {
     "name": "stdout",
     "output_type": "stream",
     "text": [
      "Epoch 14: Avg Loss/Batch 0.304769            \n"
     ]
    },
    {
     "name": "stderr",
     "output_type": "stream",
     "text": [
      "                                                   \r"
     ]
    },
    {
     "name": "stdout",
     "output_type": "stream",
     "text": [
      "HR@1: 0.26193001060445387\n",
      "HR@5: 0.6055143160127253\n",
      "HR@10: 0.7624602332979852\n",
      "NDCG@1: 0.26193001060445387\n",
      "NDCG@5: 0.44133218856743484\n",
      "NDCG@10: 0.49212684857985817\n"
     ]
    },
    {
     "name": "stderr",
     "output_type": "stream",
     "text": [
      "                                                                    \r"
     ]
    },
    {
     "name": "stdout",
     "output_type": "stream",
     "text": [
      "Epoch 15: Avg Loss/Batch 0.303658            \n"
     ]
    },
    {
     "name": "stderr",
     "output_type": "stream",
     "text": [
      "                                                   \r"
     ]
    },
    {
     "name": "stdout",
     "output_type": "stream",
     "text": [
      "HR@1: 0.2576882290562036\n",
      "HR@5: 0.6065747613997879\n",
      "HR@10: 0.7635206786850477\n",
      "NDCG@1: 0.2576882290562036\n",
      "NDCG@5: 0.4397470752052187\n",
      "NDCG@10: 0.4904219932071109\n"
     ]
    },
    {
     "name": "stderr",
     "output_type": "stream",
     "text": [
      "                                                                    \r"
     ]
    },
    {
     "name": "stdout",
     "output_type": "stream",
     "text": [
      "Epoch 16: Avg Loss/Batch 0.302514            \n"
     ]
    },
    {
     "name": "stderr",
     "output_type": "stream",
     "text": [
      "                                                   \r"
     ]
    },
    {
     "name": "stdout",
     "output_type": "stream",
     "text": [
      "HR@1: 0.25556733828207845\n",
      "HR@5: 0.6033934252386002\n",
      "HR@10: 0.7613997879109226\n",
      "NDCG@1: 0.25556733828207845\n",
      "NDCG@5: 0.4381628687456052\n",
      "NDCG@10: 0.4891758346619752\n"
     ]
    },
    {
     "name": "stderr",
     "output_type": "stream",
     "text": [
      "                                                                    \r"
     ]
    },
    {
     "name": "stdout",
     "output_type": "stream",
     "text": [
      "Epoch 17: Avg Loss/Batch 0.301325            \n"
     ]
    },
    {
     "name": "stderr",
     "output_type": "stream",
     "text": [
      "                                                   \r"
     ]
    },
    {
     "name": "stdout",
     "output_type": "stream",
     "text": [
      "HR@1: 0.25556733828207845\n",
      "HR@5: 0.6033934252386002\n",
      "HR@10: 0.7613997879109226\n",
      "NDCG@1: 0.25556733828207845\n",
      "NDCG@5: 0.4372587821463339\n",
      "NDCG@10: 0.488236470012524\n"
     ]
    },
    {
     "name": "stderr",
     "output_type": "stream",
     "text": [
      "                                                                    \r"
     ]
    },
    {
     "name": "stdout",
     "output_type": "stream",
     "text": [
      "Epoch 18: Avg Loss/Batch 0.300174            \n"
     ]
    },
    {
     "name": "stderr",
     "output_type": "stream",
     "text": [
      "                                                   \r"
     ]
    },
    {
     "name": "stdout",
     "output_type": "stream",
     "text": [
      "HR@1: 0.2523860021208908\n",
      "HR@5: 0.601272534464475\n",
      "HR@10: 0.7635206786850477\n",
      "NDCG@1: 0.2523860021208908\n",
      "NDCG@5: 0.435090104597346\n",
      "NDCG@10: 0.4873528886431732\n"
     ]
    },
    {
     "name": "stderr",
     "output_type": "stream",
     "text": [
      "                                                                    \r"
     ]
    },
    {
     "name": "stdout",
     "output_type": "stream",
     "text": [
      "Epoch 19: Avg Loss/Batch 0.299078            \n"
     ]
    },
    {
     "name": "stderr",
     "output_type": "stream",
     "text": [
      "                                                   \r"
     ]
    },
    {
     "name": "stdout",
     "output_type": "stream",
     "text": [
      "HR@1: 0.2513255567338282\n",
      "HR@5: 0.6044538706256628\n",
      "HR@10: 0.7667020148462355\n",
      "NDCG@1: 0.2513255567338282\n",
      "NDCG@5: 0.4366952515578566\n",
      "NDCG@10: 0.48910601156870787\n"
     ]
    },
    {
     "name": "stderr",
     "output_type": "stream",
     "text": [
      "                                                                    \r"
     ]
    },
    {
     "name": "stdout",
     "output_type": "stream",
     "text": [
      "Epoch 20: Avg Loss/Batch 0.298003            \n"
     ]
    },
    {
     "name": "stderr",
     "output_type": "stream",
     "text": [
      "                                                   \r"
     ]
    },
    {
     "name": "stdout",
     "output_type": "stream",
     "text": [
      "HR@1: 0.2523860021208908\n",
      "HR@5: 0.6076352067868505\n",
      "HR@10: 0.7613997879109226\n",
      "NDCG@1: 0.2523860021208908\n",
      "NDCG@5: 0.43696910580416864\n",
      "NDCG@10: 0.48668988909467825\n"
     ]
    },
    {
     "name": "stderr",
     "output_type": "stream",
     "text": [
      "                                                                    \r"
     ]
    },
    {
     "name": "stdout",
     "output_type": "stream",
     "text": [
      "Epoch 21: Avg Loss/Batch 0.296840            \n"
     ]
    },
    {
     "name": "stderr",
     "output_type": "stream",
     "text": [
      "                                                   \r"
     ]
    },
    {
     "name": "stdout",
     "output_type": "stream",
     "text": [
      "HR@1: 0.24708377518557795\n",
      "HR@5: 0.6065747613997879\n",
      "HR@10: 0.7709437963944857\n",
      "NDCG@1: 0.24708377518557795\n",
      "NDCG@5: 0.43471186213694585\n",
      "NDCG@10: 0.48725988106516527\n"
     ]
    },
    {
     "name": "stderr",
     "output_type": "stream",
     "text": [
      "                                                                    \r"
     ]
    },
    {
     "name": "stdout",
     "output_type": "stream",
     "text": [
      "Epoch 22: Avg Loss/Batch 0.295787            \n"
     ]
    },
    {
     "name": "stderr",
     "output_type": "stream",
     "text": [
      "                                                   \r"
     ]
    },
    {
     "name": "stdout",
     "output_type": "stream",
     "text": [
      "HR@1: 0.2492046659597031\n",
      "HR@5: 0.6097560975609756\n",
      "HR@10: 0.76033934252386\n",
      "NDCG@1: 0.2492046659597031\n",
      "NDCG@5: 0.43512644854696214\n",
      "NDCG@10: 0.48356801600264065\n"
     ]
    },
    {
     "name": "stderr",
     "output_type": "stream",
     "text": [
      "                                                                    \r"
     ]
    },
    {
     "name": "stdout",
     "output_type": "stream",
     "text": [
      "Epoch 23: Avg Loss/Batch 0.294791            \n"
     ]
    },
    {
     "name": "stderr",
     "output_type": "stream",
     "text": [
      "                                                   \r"
     ]
    },
    {
     "name": "stdout",
     "output_type": "stream",
     "text": [
      "HR@1: 0.24814422057264052\n",
      "HR@5: 0.6097560975609756\n",
      "HR@10: 0.7497348886532343\n",
      "NDCG@1: 0.24814422057264052\n",
      "NDCG@5: 0.4349643687045212\n",
      "NDCG@10: 0.48030748247966143\n"
     ]
    },
    {
     "name": "stderr",
     "output_type": "stream",
     "text": [
      "                                                                    \r"
     ]
    },
    {
     "name": "stdout",
     "output_type": "stream",
     "text": [
      "Epoch 24: Avg Loss/Batch 0.293740            \n"
     ]
    },
    {
     "name": "stderr",
     "output_type": "stream",
     "text": [
      "                                                   \r"
     ]
    },
    {
     "name": "stdout",
     "output_type": "stream",
     "text": [
      "HR@1: 0.24284199363732767\n",
      "HR@5: 0.6033934252386002\n",
      "HR@10: 0.7582184517497349\n",
      "NDCG@1: 0.24284199363732767\n",
      "NDCG@5: 0.430822596099752\n",
      "NDCG@10: 0.4813130161908322\n"
     ]
    },
    {
     "name": "stderr",
     "output_type": "stream",
     "text": [
      "                                                                    \r"
     ]
    },
    {
     "name": "stdout",
     "output_type": "stream",
     "text": [
      "Epoch 25: Avg Loss/Batch 0.292733            \n"
     ]
    },
    {
     "name": "stderr",
     "output_type": "stream",
     "text": [
      "                                                   \r"
     ]
    },
    {
     "name": "stdout",
     "output_type": "stream",
     "text": [
      "HR@1: 0.2492046659597031\n",
      "HR@5: 0.6023329798515377\n",
      "HR@10: 0.7613997879109226\n",
      "NDCG@1: 0.2492046659597031\n",
      "NDCG@5: 0.4314318311127188\n",
      "NDCG@10: 0.4830442611022762\n"
     ]
    },
    {
     "name": "stderr",
     "output_type": "stream",
     "text": [
      "                                                                    \r"
     ]
    },
    {
     "name": "stdout",
     "output_type": "stream",
     "text": [
      "Epoch 26: Avg Loss/Batch 0.291819            \n"
     ]
    },
    {
     "name": "stderr",
     "output_type": "stream",
     "text": [
      "                                                   \r"
     ]
    },
    {
     "name": "stdout",
     "output_type": "stream",
     "text": [
      "HR@1: 0.2417815482502651\n",
      "HR@5: 0.601272534464475\n",
      "HR@10: 0.7571580063626723\n",
      "NDCG@1: 0.2417815482502651\n",
      "NDCG@5: 0.42858667169171816\n",
      "NDCG@10: 0.4795133707076591\n"
     ]
    },
    {
     "name": "stderr",
     "output_type": "stream",
     "text": [
      "                                                                    \r"
     ]
    },
    {
     "name": "stdout",
     "output_type": "stream",
     "text": [
      "Epoch 27: Avg Loss/Batch 0.290843            \n"
     ]
    },
    {
     "name": "stderr",
     "output_type": "stream",
     "text": [
      "                                                   \r"
     ]
    },
    {
     "name": "stdout",
     "output_type": "stream",
     "text": [
      "HR@1: 0.2449628844114528\n",
      "HR@5: 0.5980911983032874\n",
      "HR@10: 0.7582184517497349\n",
      "NDCG@1: 0.2449628844114528\n",
      "NDCG@5: 0.4278353058919086\n",
      "NDCG@10: 0.47970735726735575\n"
     ]
    },
    {
     "name": "stderr",
     "output_type": "stream",
     "text": [
      "                                                                    \r"
     ]
    },
    {
     "name": "stdout",
     "output_type": "stream",
     "text": [
      "Epoch 28: Avg Loss/Batch 0.289901            \n"
     ]
    },
    {
     "name": "stderr",
     "output_type": "stream",
     "text": [
      "                                                   \r"
     ]
    },
    {
     "name": "stdout",
     "output_type": "stream",
     "text": [
      "HR@1: 0.24602332979851538\n",
      "HR@5: 0.5991516436903499\n",
      "HR@10: 0.7529162248144221\n",
      "NDCG@1: 0.24602332979851538\n",
      "NDCG@5: 0.43042872701526524\n",
      "NDCG@10: 0.4802707789848953\n"
     ]
    },
    {
     "name": "stderr",
     "output_type": "stream",
     "text": [
      "                                                                    \r"
     ]
    },
    {
     "name": "stdout",
     "output_type": "stream",
     "text": [
      "Epoch 29: Avg Loss/Batch 0.289160            \n"
     ]
    },
    {
     "name": "stderr",
     "output_type": "stream",
     "text": [
      "                                                   \r"
     ]
    },
    {
     "name": "stdout",
     "output_type": "stream",
     "text": [
      "HR@1: 0.2417815482502651\n",
      "HR@5: 0.5949098621420997\n",
      "HR@10: 0.7613997879109226\n",
      "NDCG@1: 0.2417815482502651\n",
      "NDCG@5: 0.42728759668333804\n",
      "NDCG@10: 0.4812965600169047\n"
     ]
    },
    {
     "name": "stderr",
     "output_type": "stream",
     "text": [
      "                                                                    \r"
     ]
    },
    {
     "name": "stdout",
     "output_type": "stream",
     "text": [
      "Epoch 30: Avg Loss/Batch 0.288276            \n"
     ]
    },
    {
     "name": "stderr",
     "output_type": "stream",
     "text": [
      "                                                   \r"
     ]
    },
    {
     "name": "stdout",
     "output_type": "stream",
     "text": [
      "HR@1: 0.24284199363732767\n",
      "HR@5: 0.601272534464475\n",
      "HR@10: 0.7592788971367974\n",
      "NDCG@1: 0.24284199363732767\n",
      "NDCG@5: 0.4301270904568903\n",
      "NDCG@10: 0.48101811650576703\n"
     ]
    },
    {
     "name": "stderr",
     "output_type": "stream",
     "text": [
      "                                                                    \r"
     ]
    },
    {
     "name": "stdout",
     "output_type": "stream",
     "text": [
      "Epoch 31: Avg Loss/Batch 0.287408            \n"
     ]
    },
    {
     "name": "stderr",
     "output_type": "stream",
     "text": [
      "                                                   \r"
     ]
    },
    {
     "name": "stdout",
     "output_type": "stream",
     "text": [
      "HR@1: 0.2417815482502651\n",
      "HR@5: 0.6033934252386002\n",
      "HR@10: 0.7571580063626723\n",
      "NDCG@1: 0.2417815482502651\n",
      "NDCG@5: 0.43034210389878563\n",
      "NDCG@10: 0.4799277823880227\n"
     ]
    },
    {
     "name": "stderr",
     "output_type": "stream",
     "text": [
      "                                                                    \r"
     ]
    },
    {
     "name": "stdout",
     "output_type": "stream",
     "text": [
      "Epoch 32: Avg Loss/Batch 0.286746            \n"
     ]
    },
    {
     "name": "stderr",
     "output_type": "stream",
     "text": [
      "                                                   \r"
     ]
    },
    {
     "name": "stdout",
     "output_type": "stream",
     "text": [
      "HR@1: 0.23753976670201485\n",
      "HR@5: 0.6002120890774125\n",
      "HR@10: 0.7571580063626723\n",
      "NDCG@1: 0.23753976670201485\n",
      "NDCG@5: 0.4265204649108231\n",
      "NDCG@10: 0.47709790875501074\n"
     ]
    },
    {
     "name": "stderr",
     "output_type": "stream",
     "text": [
      "                                                                    \r"
     ]
    },
    {
     "name": "stdout",
     "output_type": "stream",
     "text": [
      "Epoch 33: Avg Loss/Batch 0.285868            \n"
     ]
    },
    {
     "name": "stderr",
     "output_type": "stream",
     "text": [
      "                                                   \r"
     ]
    },
    {
     "name": "stdout",
     "output_type": "stream",
     "text": [
      "HR@1: 0.24284199363732767\n",
      "HR@5: 0.5959703075291622\n",
      "HR@10: 0.7645811240721103\n",
      "NDCG@1: 0.24284199363732767\n",
      "NDCG@5: 0.42727998660224076\n",
      "NDCG@10: 0.4815969845838107\n"
     ]
    },
    {
     "name": "stderr",
     "output_type": "stream",
     "text": [
      "                                                                    \r"
     ]
    },
    {
     "name": "stdout",
     "output_type": "stream",
     "text": [
      "Epoch 34: Avg Loss/Batch 0.285125            \n"
     ]
    },
    {
     "name": "stderr",
     "output_type": "stream",
     "text": [
      "                                                   \r"
     ]
    },
    {
     "name": "stdout",
     "output_type": "stream",
     "text": [
      "HR@1: 0.23860021208907742\n",
      "HR@5: 0.5949098621420997\n",
      "HR@10: 0.7529162248144221\n",
      "NDCG@1: 0.23860021208907742\n",
      "NDCG@5: 0.42499189686468375\n",
      "NDCG@10: 0.4765133243978178\n"
     ]
    },
    {
     "name": "stderr",
     "output_type": "stream",
     "text": [
      "                                                                    \r"
     ]
    },
    {
     "name": "stdout",
     "output_type": "stream",
     "text": [
      "Epoch 35: Avg Loss/Batch 0.284349            \n"
     ]
    },
    {
     "name": "stderr",
     "output_type": "stream",
     "text": [
      "                                                   \r"
     ]
    },
    {
     "name": "stdout",
     "output_type": "stream",
     "text": [
      "HR@1: 0.23860021208907742\n",
      "HR@5: 0.5970307529162248\n",
      "HR@10: 0.7550371155885471\n",
      "NDCG@1: 0.23860021208907742\n",
      "NDCG@5: 0.42566476773602097\n",
      "NDCG@10: 0.4771447270667739\n"
     ]
    },
    {
     "name": "stderr",
     "output_type": "stream",
     "text": [
      "                                                                    \r"
     ]
    },
    {
     "name": "stdout",
     "output_type": "stream",
     "text": [
      "Epoch 36: Avg Loss/Batch 0.283736            \n"
     ]
    },
    {
     "name": "stderr",
     "output_type": "stream",
     "text": [
      "                                                   \r"
     ]
    },
    {
     "name": "stdout",
     "output_type": "stream",
     "text": [
      "HR@1: 0.23329798515376457\n",
      "HR@5: 0.5991516436903499\n",
      "HR@10: 0.7613997879109226\n",
      "NDCG@1: 0.23329798515376457\n",
      "NDCG@5: 0.4230835285723474\n",
      "NDCG@10: 0.4756477400325269\n"
     ]
    },
    {
     "name": "stderr",
     "output_type": "stream",
     "text": [
      "                                                                    \r"
     ]
    },
    {
     "name": "stdout",
     "output_type": "stream",
     "text": [
      "Epoch 37: Avg Loss/Batch 0.283152            \n"
     ]
    },
    {
     "name": "stderr",
     "output_type": "stream",
     "text": [
      "                                                   \r"
     ]
    },
    {
     "name": "stdout",
     "output_type": "stream",
     "text": [
      "HR@1: 0.23223753976670203\n",
      "HR@5: 0.5959703075291622\n",
      "HR@10: 0.7592788971367974\n",
      "NDCG@1: 0.23223753976670203\n",
      "NDCG@5: 0.4213991752525283\n",
      "NDCG@10: 0.474507502981838\n"
     ]
    },
    {
     "name": "stderr",
     "output_type": "stream",
     "text": [
      "                                                                    \r"
     ]
    },
    {
     "name": "stdout",
     "output_type": "stream",
     "text": [
      "Epoch 38: Avg Loss/Batch 0.282515            \n"
     ]
    },
    {
     "name": "stderr",
     "output_type": "stream",
     "text": [
      "                                                   \r"
     ]
    },
    {
     "name": "stdout",
     "output_type": "stream",
     "text": [
      "HR@1: 0.23117709437963946\n",
      "HR@5: 0.5896076352067868\n",
      "HR@10: 0.7539766702014846\n",
      "NDCG@1: 0.23117709437963946\n",
      "NDCG@5: 0.4183579977409337\n",
      "NDCG@10: 0.4719181918837519\n"
     ]
    },
    {
     "name": "stderr",
     "output_type": "stream",
     "text": [
      "                                                                    \r"
     ]
    },
    {
     "name": "stdout",
     "output_type": "stream",
     "text": [
      "Epoch 39: Avg Loss/Batch 0.281985            \n"
     ]
    },
    {
     "name": "stderr",
     "output_type": "stream",
     "text": [
      "                                                   \r"
     ]
    },
    {
     "name": "stdout",
     "output_type": "stream",
     "text": [
      "HR@1: 0.22799575821845175\n",
      "HR@5: 0.5938494167550371\n",
      "HR@10: 0.76033934252386\n",
      "NDCG@1: 0.22799575821845175\n",
      "NDCG@5: 0.4176683503534991\n",
      "NDCG@10: 0.47183542926737776\n"
     ]
    }
   ],
   "source": [
    "trainer.train(evaluate=True, verbose=True, progressbar=True)\n",
    "# trainer.test(verbose=False, pbar=False)"
   ]
  },
  {
   "cell_type": "code",
   "execution_count": null,
   "metadata": {},
   "outputs": [
    {
     "name": "stdout",
     "output_type": "stream",
     "text": [
      "22: {'HR@1': 0.2841993637327678, 'HR@5': 0.6224814422057264, 'HR@10': 0.7751855779427359, 'NDCG@1': 0.2841993637327678, 'NDCG@5': 0.4620285833055621, 'NDCG@10': 0.51180795041922}\n"
     ]
    }
   ],
   "source": [
    "best_epoch = np.argmax([r[\"NDCG@10\"] for r in trainer.test_log])\n",
    "print(f\"{best_epoch}: {trainer.test_log[best_epoch]}\")"
   ]
  },
  {
   "cell_type": "code",
   "execution_count": null,
   "metadata": {},
   "outputs": [
    {
     "name": "stdout",
     "output_type": "stream",
     "text": [
      "3: {'HR@1': 0.28950159066808057, 'HR@5': 0.6277836691410392, 'HR@10': 0.7698833510074231, 'NDCG@1': 0.28950159066808057, 'NDCG@5': 0.46715846445285186, 'NDCG@10': 0.5137269743885267}\n"
     ]
    }
   ],
   "source": [
    "best_epoch = np.argmax([r[\"NDCG@10\"] for r in trainer.test_log])\n",
    "print(f\"{best_epoch}: {trainer.test_log[best_epoch]}\")"
   ]
  },
  {
   "cell_type": "code",
   "execution_count": null,
   "metadata": {},
   "outputs": [],
   "source": [
    "torch.save(trainer.model.state_dict(), \"saved_models/nmfbce.pt\")\n",
    "# trainer.model.load_state_dict(torch.load(\"saved_models/nmfbce.pt\"))"
   ]
  }
 ],
 "metadata": {
  "kernelspec": {
   "display_name": "v39",
   "language": "python",
   "name": "python3"
  },
  "language_info": {
   "codemirror_mode": {
    "name": "ipython",
    "version": 3
   },
   "file_extension": ".py",
   "mimetype": "text/x-python",
   "name": "python",
   "nbconvert_exporter": "python",
   "pygments_lexer": "ipython3",
   "version": "3.9.7"
  }
 },
 "nbformat": 4,
 "nbformat_minor": 2
}
