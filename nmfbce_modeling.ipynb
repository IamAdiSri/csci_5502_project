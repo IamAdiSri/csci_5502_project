{
 "cells": [
  {
   "cell_type": "code",
   "execution_count": 1,
   "metadata": {},
   "outputs": [
    {
     "name": "stdout",
     "output_type": "stream",
     "text": [
      "device='cuda'\n"
     ]
    }
   ],
   "source": [
    "import numpy as np\n",
    "import random\n",
    "import torch\n",
    "from src.dataloaders import Dataset100k, Dataset1m\n",
    "from src.models import GMFBCEModel, MLPBCEModel, NeuralMatrixFactorizationBCEModel\n",
    "from src.trainer import Trainer\n",
    "from src.metrics import hitratio, ndcg\n",
    "\n",
    "np.random.seed(42)\n",
    "random.seed(42)\n",
    "torch.manual_seed(42)\n",
    "\n",
    "device = 'cuda' if torch.cuda.is_available() else 'cpu'\n",
    "# device = 'cpu'\n",
    "print(f\"{device=}\")"
   ]
  },
  {
   "cell_type": "code",
   "execution_count": 2,
   "metadata": {},
   "outputs": [
    {
     "name": "stdout",
     "output_type": "stream",
     "text": [
      "dataset.train_size=198114, dataset.test_size=943\n"
     ]
    }
   ],
   "source": [
    "class config:\n",
    "    data_dir = 'ml-100k'\n",
    "    # data_dir = 'ml-1m'\n",
    "    epochs = 40\n",
    "    batch_size = 2048\n",
    "    dim = 40\n",
    "    lr = 0.01\n",
    "    b1 = 0.9\n",
    "    b2 = 0.999\n",
    "    weight_decay = 0.0001\n",
    "\n",
    "dataset = Dataset100k(config.data_dir)\n",
    "# dataset = Dataset1m(config.data_dir)\n",
    "dataset.gen_adjacency()\n",
    "dataset.make_train_test()\n",
    "print(f\"{dataset.train_size=}, {dataset.test_size=}\")\n",
    "\n",
    "metrics = {\n",
    "    \"HR@1\": (hitratio, {\"top_n\": 1}),\n",
    "    \"HR@5\": (hitratio, {\"top_n\": 5}),\n",
    "    \"HR@10\": (hitratio, {\"top_n\": 10}),\n",
    "    \"NDCG@1\": (ndcg, {\"top_n\": 1}),\n",
    "    \"NDCG@5\": (ndcg, {\"top_n\": 5}),\n",
    "    \"NDCG@10\": (ndcg, {\"top_n\": 10}),\n",
    "}"
   ]
  },
  {
   "cell_type": "code",
   "execution_count": 3,
   "metadata": {},
   "outputs": [],
   "source": [
    "model = NeuralMatrixFactorizationBCEModel(dataset.user_count, dataset.item_count, gmf_embed_size=config.dim, mlp_embed_size=config.dim, layers=[20, 10, 5], alpha=0.5)\n",
    "gmf_model = GMFBCEModel(dataset.user_count, dataset.item_count, embed_size=config.dim)\n",
    "mlp_model = MLPBCEModel(dataset.user_count, dataset.item_count, embed_size=config.dim, layers=[20, 10, 5])\n",
    "\n",
    "model.load_pretrained_weights(gmf_model, mlp_model)\n",
    "\n",
    "# optimizer = torch.optim.Adam(model.parameters(), lr=config.lr, betas=(config.b1, config.b2), weight_decay=config.weight_decay)\n",
    "\n",
    "# trainer = Trainer(dataset, model, optimizer, metrics, \n",
    "#                   epochs=config.epochs, batch_size=config.batch_size,\n",
    "#                   device=device)"
   ]
  },
  {
   "cell_type": "code",
   "execution_count": null,
   "metadata": {},
   "outputs": [],
   "source": [
    "trainer.train(evaluate=True, verbose=True, progressbar=True)\n",
    "# trainer.test(verbose=False, pbar=False)"
   ]
  },
  {
   "cell_type": "code",
   "execution_count": null,
   "metadata": {},
   "outputs": [],
   "source": [
    "best_epoch = np.argmax([r[\"NDCG@10\"] for r in trainer.test_log])\n",
    "print(f\"{best_epoch}: {trainer.test_log[best_epoch]}\")"
   ]
  },
  {
   "cell_type": "code",
   "execution_count": null,
   "metadata": {},
   "outputs": [],
   "source": [
    "torch.save(trainer.model.state_dict(), \"saved_models/nmfbce.pt\")\n",
    "# trainer.model.load_state_dict(torch.load(\"saved_models/nmfbce.pt\"))"
   ]
  }
 ],
 "metadata": {
  "kernelspec": {
   "display_name": "v39",
   "language": "python",
   "name": "python3"
  },
  "language_info": {
   "codemirror_mode": {
    "name": "ipython",
    "version": 3
   },
   "file_extension": ".py",
   "mimetype": "text/x-python",
   "name": "python",
   "nbconvert_exporter": "python",
   "pygments_lexer": "ipython3",
   "version": "3.9.7"
  }
 },
 "nbformat": 4,
 "nbformat_minor": 2
}
