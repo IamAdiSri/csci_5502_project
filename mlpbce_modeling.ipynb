{
 "cells": [
  {
   "cell_type": "code",
   "execution_count": 1,
   "metadata": {},
   "outputs": [
    {
     "name": "stdout",
     "output_type": "stream",
     "text": [
      "device='cuda'\n"
     ]
    }
   ],
   "source": [
    "import numpy as np\n",
    "import random\n",
    "import torch\n",
    "from src.dataloaders import Dataset100k\n",
    "from src.models import MLPBCEModel\n",
    "from src.trainer import Trainer\n",
    "from src.metrics import hitratio, ndcg\n",
    "\n",
    "np.random.seed(42)\n",
    "random.seed(42)\n",
    "torch.manual_seed(42)\n",
    "\n",
    "device = 'cuda' if torch.cuda.is_available() else 'cpu'\n",
    "# device = 'cpu'\n",
    "print(f\"{device=}\")"
   ]
  },
  {
   "cell_type": "code",
   "execution_count": 2,
   "metadata": {},
   "outputs": [
    {
     "name": "stdout",
     "output_type": "stream",
     "text": [
      "dataset.train_size=198114, dataset.test_size=943\n"
     ]
    }
   ],
   "source": [
    "class config:\n",
    "    data_dir = 'ml-100k'\n",
    "    epochs = 40\n",
    "    batch_size = 2048\n",
    "    dim = 32\n",
    "    lr = 0.005\n",
    "    weight_decay = 0.0001\n",
    "\n",
    "dataset = Dataset100k(config.data_dir)\n",
    "dataset.gen_adjacency()\n",
    "dataset.make_train_test()\n",
    "print(f\"{dataset.train_size=}, {dataset.test_size=}\")\n",
    "\n",
    "metrics = {\n",
    "    \"HR@1\": (hitratio, {\"top_n\": 1}),\n",
    "    \"HR@5\": (hitratio, {\"top_n\": 5}),\n",
    "    \"HR@10\": (hitratio, {\"top_n\": 10}),\n",
    "    \"NDCG@1\": (ndcg, {\"top_n\": 1}),\n",
    "    \"NDCG@5\": (ndcg, {\"top_n\": 5}),\n",
    "    \"NDCG@10\": (ndcg, {\"top_n\": 10}),\n",
    "}"
   ]
  },
  {
   "cell_type": "code",
   "execution_count": 3,
   "metadata": {},
   "outputs": [],
   "source": [
    "model = MLPBCEModel(dataset.user_count, dataset.item_count, embed_size=config.dim, layers=[32, 16, 8])\n",
    "\n",
    "optimizer = torch.optim.Adam(model.parameters(), lr=config.lr, weight_decay=config.weight_decay)\n",
    "\n",
    "trainer = Trainer(dataset, model, optimizer, metrics, \n",
    "                  epochs=config.epochs, batch_size=config.batch_size,\n",
    "                  device=device)"
   ]
  },
  {
   "cell_type": "code",
   "execution_count": 12,
   "metadata": {},
   "outputs": [
    {
     "name": "stderr",
     "output_type": "stream",
     "text": [
      "                                                                   \r"
     ]
    },
    {
     "name": "stdout",
     "output_type": "stream",
     "text": [
      "Epoch 0: Avg Loss/Batch 0.292200            \n"
     ]
    },
    {
     "name": "stderr",
     "output_type": "stream",
     "text": [
      "                                                   \r"
     ]
    },
    {
     "name": "stdout",
     "output_type": "stream",
     "text": [
      "HR@1: 0.13149522799575822\n",
      "HR@5: 0.3828207847295864\n",
      "HR@10: 0.5471898197242842\n",
      "NDCG@1: 0.13149522799575822\n",
      "NDCG@5: 0.25693256483407984\n",
      "NDCG@10: 0.3106867825003414\n"
     ]
    },
    {
     "name": "stderr",
     "output_type": "stream",
     "text": [
      "                                                                   \r"
     ]
    },
    {
     "name": "stdout",
     "output_type": "stream",
     "text": [
      "Epoch 1: Avg Loss/Batch 0.291306            \n"
     ]
    },
    {
     "name": "stderr",
     "output_type": "stream",
     "text": [
      "                                                   \r"
     ]
    },
    {
     "name": "stdout",
     "output_type": "stream",
     "text": [
      "HR@1: 0.1325556733828208\n",
      "HR@5: 0.3828207847295864\n",
      "HR@10: 0.5471898197242842\n",
      "NDCG@1: 0.1325556733828208\n",
      "NDCG@5: 0.25732394367440703\n",
      "NDCG@10: 0.3111636191674662\n"
     ]
    },
    {
     "name": "stderr",
     "output_type": "stream",
     "text": [
      "                                                                   \r"
     ]
    },
    {
     "name": "stdout",
     "output_type": "stream",
     "text": [
      "Epoch 2: Avg Loss/Batch 0.290412            \n"
     ]
    },
    {
     "name": "stderr",
     "output_type": "stream",
     "text": [
      "                                                   \r"
     ]
    },
    {
     "name": "stdout",
     "output_type": "stream",
     "text": [
      "HR@1: 0.13043478260869565\n",
      "HR@5: 0.3870625662778367\n",
      "HR@10: 0.5482502651113468\n",
      "NDCG@1: 0.13043478260869565\n",
      "NDCG@5: 0.25803452941489774\n",
      "NDCG@10: 0.31035708847691207\n"
     ]
    },
    {
     "name": "stderr",
     "output_type": "stream",
     "text": [
      "                                                                   \r"
     ]
    },
    {
     "name": "stdout",
     "output_type": "stream",
     "text": [
      "Epoch 3: Avg Loss/Batch 0.289516            \n"
     ]
    },
    {
     "name": "stderr",
     "output_type": "stream",
     "text": [
      "                                                   \r"
     ]
    },
    {
     "name": "stdout",
     "output_type": "stream",
     "text": [
      "HR@1: 0.13043478260869565\n",
      "HR@5: 0.3860021208907741\n",
      "HR@10: 0.5440084835630965\n",
      "NDCG@1: 0.13043478260869565\n",
      "NDCG@5: 0.25785608238203944\n",
      "NDCG@10: 0.30952059793830866\n"
     ]
    },
    {
     "name": "stderr",
     "output_type": "stream",
     "text": [
      "                                                                   \r"
     ]
    },
    {
     "name": "stdout",
     "output_type": "stream",
     "text": [
      "Epoch 4: Avg Loss/Batch 0.288673            \n"
     ]
    },
    {
     "name": "stderr",
     "output_type": "stream",
     "text": [
      "                                                   \r"
     ]
    },
    {
     "name": "stdout",
     "output_type": "stream",
     "text": [
      "HR@1: 0.13043478260869565\n",
      "HR@5: 0.38812301166489926\n",
      "HR@10: 0.542948038176034\n",
      "NDCG@1: 0.13043478260869565\n",
      "NDCG@5: 0.2590088989278852\n",
      "NDCG@10: 0.309520536488716\n"
     ]
    },
    {
     "name": "stderr",
     "output_type": "stream",
     "text": [
      "                                                                   \r"
     ]
    },
    {
     "name": "stdout",
     "output_type": "stream",
     "text": [
      "Epoch 5: Avg Loss/Batch 0.287828            \n"
     ]
    },
    {
     "name": "stderr",
     "output_type": "stream",
     "text": [
      "                                                   \r"
     ]
    },
    {
     "name": "stdout",
     "output_type": "stream",
     "text": [
      "HR@1: 0.13149522799575822\n",
      "HR@5: 0.3828207847295864\n",
      "HR@10: 0.542948038176034\n",
      "NDCG@1: 0.13149522799575822\n",
      "NDCG@5: 0.25699028559792725\n",
      "NDCG@10: 0.3092258896467716\n"
     ]
    },
    {
     "name": "stderr",
     "output_type": "stream",
     "text": [
      "                                                                   \r"
     ]
    },
    {
     "name": "stdout",
     "output_type": "stream",
     "text": [
      "Epoch 6: Avg Loss/Batch 0.286979            \n"
     ]
    },
    {
     "name": "stderr",
     "output_type": "stream",
     "text": [
      "                                                   \r"
     ]
    },
    {
     "name": "stdout",
     "output_type": "stream",
     "text": [
      "HR@1: 0.13149522799575822\n",
      "HR@5: 0.38494167550371156\n",
      "HR@10: 0.5397667020148462\n",
      "NDCG@1: 0.13149522799575822\n",
      "NDCG@5: 0.2579966489254188\n",
      "NDCG@10: 0.30853995167552356\n"
     ]
    },
    {
     "name": "stderr",
     "output_type": "stream",
     "text": [
      "                                                                   \r"
     ]
    },
    {
     "name": "stdout",
     "output_type": "stream",
     "text": [
      "Epoch 7: Avg Loss/Batch 0.286111            \n"
     ]
    },
    {
     "name": "stderr",
     "output_type": "stream",
     "text": [
      "                                                   \r"
     ]
    },
    {
     "name": "stdout",
     "output_type": "stream",
     "text": [
      "HR@1: 0.12725344644750794\n",
      "HR@5: 0.38812301166489926\n",
      "HR@10: 0.5418875927889714\n",
      "NDCG@1: 0.12725344644750794\n",
      "NDCG@5: 0.2574765258411973\n",
      "NDCG@10: 0.3074417927593053\n"
     ]
    },
    {
     "name": "stderr",
     "output_type": "stream",
     "text": [
      "                                                                   \r"
     ]
    },
    {
     "name": "stdout",
     "output_type": "stream",
     "text": [
      "Epoch 8: Avg Loss/Batch 0.285315            \n"
     ]
    },
    {
     "name": "stderr",
     "output_type": "stream",
     "text": [
      "                                                   \r"
     ]
    },
    {
     "name": "stdout",
     "output_type": "stream",
     "text": [
      "HR@1: 0.12195121951219512\n",
      "HR@5: 0.38494167550371156\n",
      "HR@10: 0.542948038176034\n",
      "NDCG@1: 0.12195121951219512\n",
      "NDCG@5: 0.25436243653905544\n",
      "NDCG@10: 0.30575476731537754\n"
     ]
    },
    {
     "name": "stderr",
     "output_type": "stream",
     "text": [
      "                                                                   \r"
     ]
    },
    {
     "name": "stdout",
     "output_type": "stream",
     "text": [
      "Epoch 9: Avg Loss/Batch 0.284453            \n"
     ]
    },
    {
     "name": "stderr",
     "output_type": "stream",
     "text": [
      "                                                   \r"
     ]
    },
    {
     "name": "stdout",
     "output_type": "stream",
     "text": [
      "HR@1: 0.12407211028632026\n",
      "HR@5: 0.3902439024390244\n",
      "HR@10: 0.5418875927889714\n",
      "NDCG@1: 0.12407211028632026\n",
      "NDCG@5: 0.2574740633006383\n",
      "NDCG@10: 0.3067201821151889\n"
     ]
    },
    {
     "name": "stderr",
     "output_type": "stream",
     "text": [
      "                                                                    \r"
     ]
    },
    {
     "name": "stdout",
     "output_type": "stream",
     "text": [
      "Epoch 10: Avg Loss/Batch 0.283689            \n"
     ]
    },
    {
     "name": "stderr",
     "output_type": "stream",
     "text": [
      "                                                   \r"
     ]
    },
    {
     "name": "stdout",
     "output_type": "stream",
     "text": [
      "HR@1: 0.12407211028632026\n",
      "HR@5: 0.3870625662778367\n",
      "HR@10: 0.5440084835630965\n",
      "NDCG@1: 0.12407211028632026\n",
      "NDCG@5: 0.25709335901562635\n",
      "NDCG@10: 0.3079618105709713\n"
     ]
    },
    {
     "name": "stderr",
     "output_type": "stream",
     "text": [
      "                                                                    \r"
     ]
    },
    {
     "name": "stdout",
     "output_type": "stream",
     "text": [
      "Epoch 11: Avg Loss/Batch 0.282847            \n"
     ]
    },
    {
     "name": "stderr",
     "output_type": "stream",
     "text": [
      "                                                   \r"
     ]
    },
    {
     "name": "stdout",
     "output_type": "stream",
     "text": [
      "HR@1: 0.12513255567338283\n",
      "HR@5: 0.3870625662778367\n",
      "HR@10: 0.545068928950159\n",
      "NDCG@1: 0.12513255567338283\n",
      "NDCG@5: 0.25682004986387824\n",
      "NDCG@10: 0.30802143782289265\n"
     ]
    },
    {
     "name": "stderr",
     "output_type": "stream",
     "text": [
      "                                                                    \r"
     ]
    },
    {
     "name": "stdout",
     "output_type": "stream",
     "text": [
      "Epoch 12: Avg Loss/Batch 0.282078            \n"
     ]
    },
    {
     "name": "stderr",
     "output_type": "stream",
     "text": [
      "                                                   \r"
     ]
    },
    {
     "name": "stdout",
     "output_type": "stream",
     "text": [
      "HR@1: 0.12407211028632026\n",
      "HR@5: 0.38918345705196183\n",
      "HR@10: 0.5461293743372216\n",
      "NDCG@1: 0.12407211028632026\n",
      "NDCG@5: 0.25758909693454707\n",
      "NDCG@10: 0.3083287874482592\n"
     ]
    },
    {
     "name": "stderr",
     "output_type": "stream",
     "text": [
      "                                                                    \r"
     ]
    },
    {
     "name": "stdout",
     "output_type": "stream",
     "text": [
      "Epoch 13: Avg Loss/Batch 0.281246            \n"
     ]
    },
    {
     "name": "stderr",
     "output_type": "stream",
     "text": [
      "                                                   \r"
     ]
    },
    {
     "name": "stdout",
     "output_type": "stream",
     "text": [
      "HR@1: 0.12513255567338283\n",
      "HR@5: 0.3870625662778367\n",
      "HR@10: 0.5440084835630965\n",
      "NDCG@1: 0.12513255567338283\n",
      "NDCG@5: 0.2576311910743079\n",
      "NDCG@10: 0.30839027837716537\n"
     ]
    },
    {
     "name": "stderr",
     "output_type": "stream",
     "text": [
      "                                                                    \r"
     ]
    },
    {
     "name": "stdout",
     "output_type": "stream",
     "text": [
      "Epoch 14: Avg Loss/Batch 0.280471            \n"
     ]
    },
    {
     "name": "stderr",
     "output_type": "stream",
     "text": [
      "                                                   \r"
     ]
    },
    {
     "name": "stdout",
     "output_type": "stream",
     "text": [
      "HR@1: 0.12301166489925769\n",
      "HR@5: 0.383881230116649\n",
      "HR@10: 0.545068928950159\n",
      "NDCG@1: 0.12301166489925769\n",
      "NDCG@5: 0.2560348303586119\n",
      "NDCG@10: 0.30818158582514116\n"
     ]
    },
    {
     "name": "stderr",
     "output_type": "stream",
     "text": [
      "                                                                    \r"
     ]
    },
    {
     "name": "stdout",
     "output_type": "stream",
     "text": [
      "Epoch 15: Avg Loss/Batch 0.279739            \n"
     ]
    },
    {
     "name": "stderr",
     "output_type": "stream",
     "text": [
      "                                                   \r"
     ]
    },
    {
     "name": "stdout",
     "output_type": "stream",
     "text": [
      "HR@1: 0.1261930010604454\n",
      "HR@5: 0.383881230116649\n",
      "HR@10: 0.5471898197242842\n",
      "NDCG@1: 0.1261930010604454\n",
      "NDCG@5: 0.25744075612163925\n",
      "NDCG@10: 0.31035557831382576\n"
     ]
    },
    {
     "name": "stderr",
     "output_type": "stream",
     "text": [
      "                                                                    \r"
     ]
    },
    {
     "name": "stdout",
     "output_type": "stream",
     "text": [
      "Epoch 16: Avg Loss/Batch 0.278921            \n"
     ]
    },
    {
     "name": "stderr",
     "output_type": "stream",
     "text": [
      "                                                   \r"
     ]
    },
    {
     "name": "stdout",
     "output_type": "stream",
     "text": [
      "HR@1: 0.12513255567338283\n",
      "HR@5: 0.38494167550371156\n",
      "HR@10: 0.5471898197242842\n",
      "NDCG@1: 0.12513255567338283\n",
      "NDCG@5: 0.2572742970085913\n",
      "NDCG@10: 0.3098278786415063\n"
     ]
    },
    {
     "name": "stderr",
     "output_type": "stream",
     "text": [
      "                                                                    \r"
     ]
    },
    {
     "name": "stdout",
     "output_type": "stream",
     "text": [
      "Epoch 17: Avg Loss/Batch 0.278134            \n"
     ]
    },
    {
     "name": "stderr",
     "output_type": "stream",
     "text": [
      "                                                   \r"
     ]
    },
    {
     "name": "stdout",
     "output_type": "stream",
     "text": [
      "HR@1: 0.12937433722163308\n",
      "HR@5: 0.3828207847295864\n",
      "HR@10: 0.5493107104984093\n",
      "NDCG@1: 0.12937433722163308\n",
      "NDCG@5: 0.2577146110838982\n",
      "NDCG@10: 0.3117131829725854\n"
     ]
    },
    {
     "name": "stderr",
     "output_type": "stream",
     "text": [
      "                                                                    \r"
     ]
    },
    {
     "name": "stdout",
     "output_type": "stream",
     "text": [
      "Epoch 18: Avg Loss/Batch 0.277354            \n"
     ]
    },
    {
     "name": "stderr",
     "output_type": "stream",
     "text": [
      "                                                   \r"
     ]
    },
    {
     "name": "stdout",
     "output_type": "stream",
     "text": [
      "HR@1: 0.12725344644750794\n",
      "HR@5: 0.383881230116649\n",
      "HR@10: 0.5503711558854719\n",
      "NDCG@1: 0.12725344644750794\n",
      "NDCG@5: 0.2580614339598527\n",
      "NDCG@10: 0.31188579912275316\n"
     ]
    },
    {
     "name": "stderr",
     "output_type": "stream",
     "text": [
      "                                                                    \r"
     ]
    },
    {
     "name": "stdout",
     "output_type": "stream",
     "text": [
      "Epoch 19: Avg Loss/Batch 0.276585            \n"
     ]
    },
    {
     "name": "stderr",
     "output_type": "stream",
     "text": [
      "                                                   \r"
     ]
    },
    {
     "name": "stdout",
     "output_type": "stream",
     "text": [
      "HR@1: 0.1261930010604454\n",
      "HR@5: 0.3828207847295864\n",
      "HR@10: 0.5503711558854719\n",
      "NDCG@1: 0.1261930010604454\n",
      "NDCG@5: 0.25671511727117335\n",
      "NDCG@10: 0.310825670943278\n"
     ]
    },
    {
     "name": "stderr",
     "output_type": "stream",
     "text": [
      "                                                                    \r"
     ]
    },
    {
     "name": "stdout",
     "output_type": "stream",
     "text": [
      "Epoch 20: Avg Loss/Batch 0.275790            \n"
     ]
    },
    {
     "name": "stderr",
     "output_type": "stream",
     "text": [
      "                                                   \r"
     ]
    },
    {
     "name": "stdout",
     "output_type": "stream",
     "text": [
      "HR@1: 0.1261930010604454\n",
      "HR@5: 0.3828207847295864\n",
      "HR@10: 0.5461293743372216\n",
      "NDCG@1: 0.1261930010604454\n",
      "NDCG@5: 0.257262309088781\n",
      "NDCG@10: 0.31009193985524164\n"
     ]
    },
    {
     "name": "stderr",
     "output_type": "stream",
     "text": [
      "                                                                    \r"
     ]
    },
    {
     "name": "stdout",
     "output_type": "stream",
     "text": [
      "Epoch 21: Avg Loss/Batch 0.275079            \n"
     ]
    },
    {
     "name": "stderr",
     "output_type": "stream",
     "text": [
      "                                                   \r"
     ]
    },
    {
     "name": "stdout",
     "output_type": "stream",
     "text": [
      "HR@1: 0.1283138918345705\n",
      "HR@5: 0.3828207847295864\n",
      "HR@10: 0.5471898197242842\n",
      "NDCG@1: 0.1283138918345705\n",
      "NDCG@5: 0.2586550984718813\n",
      "NDCG@10: 0.3118576078231747\n"
     ]
    },
    {
     "name": "stderr",
     "output_type": "stream",
     "text": [
      "                                                                    \r"
     ]
    },
    {
     "name": "stdout",
     "output_type": "stream",
     "text": [
      "Epoch 22: Avg Loss/Batch 0.274341            \n"
     ]
    },
    {
     "name": "stderr",
     "output_type": "stream",
     "text": [
      "                                                   \r"
     ]
    },
    {
     "name": "stdout",
     "output_type": "stream",
     "text": [
      "HR@1: 0.1283138918345705\n",
      "HR@5: 0.383881230116649\n",
      "HR@10: 0.545068928950159\n",
      "NDCG@1: 0.1283138918345705\n",
      "NDCG@5: 0.25825112906213765\n",
      "NDCG@10: 0.3105046580450104\n"
     ]
    },
    {
     "name": "stderr",
     "output_type": "stream",
     "text": [
      "                                                                    \r"
     ]
    },
    {
     "name": "stdout",
     "output_type": "stream",
     "text": [
      "Epoch 23: Avg Loss/Batch 0.273555            \n"
     ]
    },
    {
     "name": "stderr",
     "output_type": "stream",
     "text": [
      "                                                   \r"
     ]
    },
    {
     "name": "stdout",
     "output_type": "stream",
     "text": [
      "HR@1: 0.12937433722163308\n",
      "HR@5: 0.3828207847295864\n",
      "HR@10: 0.545068928950159\n",
      "NDCG@1: 0.12937433722163308\n",
      "NDCG@5: 0.2583716897108233\n",
      "NDCG@10: 0.3109418255695054\n"
     ]
    },
    {
     "name": "stderr",
     "output_type": "stream",
     "text": [
      "                                                                    \r"
     ]
    },
    {
     "name": "stdout",
     "output_type": "stream",
     "text": [
      "Epoch 24: Avg Loss/Batch 0.272845            \n"
     ]
    },
    {
     "name": "stderr",
     "output_type": "stream",
     "text": [
      "                                                   \r"
     ]
    },
    {
     "name": "stdout",
     "output_type": "stream",
     "text": [
      "HR@1: 0.13043478260869565\n",
      "HR@5: 0.3828207847295864\n",
      "HR@10: 0.5461293743372216\n",
      "NDCG@1: 0.13043478260869565\n",
      "NDCG@5: 0.2587906838109945\n",
      "NDCG@10: 0.31162405391647224\n"
     ]
    },
    {
     "name": "stderr",
     "output_type": "stream",
     "text": [
      "                                                                    \r"
     ]
    },
    {
     "name": "stdout",
     "output_type": "stream",
     "text": [
      "Epoch 25: Avg Loss/Batch 0.272124            \n"
     ]
    },
    {
     "name": "stderr",
     "output_type": "stream",
     "text": [
      "                                                   \r"
     ]
    },
    {
     "name": "stdout",
     "output_type": "stream",
     "text": [
      "HR@1: 0.13043478260869565\n",
      "HR@5: 0.38494167550371156\n",
      "HR@10: 0.5471898197242842\n",
      "NDCG@1: 0.13043478260869565\n",
      "NDCG@5: 0.2594635546823315\n",
      "NDCG@10: 0.31182372923990587\n"
     ]
    },
    {
     "name": "stderr",
     "output_type": "stream",
     "text": [
      "                                                                    \r"
     ]
    },
    {
     "name": "stdout",
     "output_type": "stream",
     "text": [
      "Epoch 26: Avg Loss/Batch 0.271347            \n"
     ]
    },
    {
     "name": "stderr",
     "output_type": "stream",
     "text": [
      "                                                   \r"
     ]
    },
    {
     "name": "stdout",
     "output_type": "stream",
     "text": [
      "HR@1: 0.12725344644750794\n",
      "HR@5: 0.3796394485683987\n",
      "HR@10: 0.5461293743372216\n",
      "NDCG@1: 0.12725344644750794\n",
      "NDCG@5: 0.25718061248531304\n",
      "NDCG@10: 0.3110533087278991\n"
     ]
    },
    {
     "name": "stderr",
     "output_type": "stream",
     "text": [
      "                                                                    \r"
     ]
    },
    {
     "name": "stdout",
     "output_type": "stream",
     "text": [
      "Epoch 27: Avg Loss/Batch 0.270658            \n"
     ]
    },
    {
     "name": "stderr",
     "output_type": "stream",
     "text": [
      "                                                   \r"
     ]
    },
    {
     "name": "stdout",
     "output_type": "stream",
     "text": [
      "HR@1: 0.12937433722163308\n",
      "HR@5: 0.383881230116649\n",
      "HR@10: 0.5461293743372216\n",
      "NDCG@1: 0.12937433722163308\n",
      "NDCG@5: 0.25914131101155063\n",
      "NDCG@10: 0.31151941196668326\n"
     ]
    },
    {
     "name": "stderr",
     "output_type": "stream",
     "text": [
      "                                                                    \r"
     ]
    },
    {
     "name": "stdout",
     "output_type": "stream",
     "text": [
      "Epoch 28: Avg Loss/Batch 0.269936            \n"
     ]
    },
    {
     "name": "stderr",
     "output_type": "stream",
     "text": [
      "                                                   \r"
     ]
    },
    {
     "name": "stdout",
     "output_type": "stream",
     "text": [
      "HR@1: 0.13043478260869565\n",
      "HR@5: 0.3860021208907741\n",
      "HR@10: 0.545068928950159\n",
      "NDCG@1: 0.13043478260869565\n",
      "NDCG@5: 0.2605379047192525\n",
      "NDCG@10: 0.311801907572759\n"
     ]
    },
    {
     "name": "stderr",
     "output_type": "stream",
     "text": [
      "                                                                    \r"
     ]
    },
    {
     "name": "stdout",
     "output_type": "stream",
     "text": [
      "Epoch 29: Avg Loss/Batch 0.269258            \n"
     ]
    },
    {
     "name": "stderr",
     "output_type": "stream",
     "text": [
      "                                                   \r"
     ]
    },
    {
     "name": "stdout",
     "output_type": "stream",
     "text": [
      "HR@1: 0.13149522799575822\n",
      "HR@5: 0.3806998939554613\n",
      "HR@10: 0.5461293743372216\n",
      "NDCG@1: 0.13149522799575822\n",
      "NDCG@5: 0.25879334039142626\n",
      "NDCG@10: 0.31212350355010227\n"
     ]
    },
    {
     "name": "stderr",
     "output_type": "stream",
     "text": [
      "                                                                    \r"
     ]
    },
    {
     "name": "stdout",
     "output_type": "stream",
     "text": [
      "Epoch 30: Avg Loss/Batch 0.268542            \n"
     ]
    },
    {
     "name": "stderr",
     "output_type": "stream",
     "text": [
      "                                                   \r"
     ]
    },
    {
     "name": "stdout",
     "output_type": "stream",
     "text": [
      "HR@1: 0.1325556733828208\n",
      "HR@5: 0.3796394485683987\n",
      "HR@10: 0.5471898197242842\n",
      "NDCG@1: 0.1325556733828208\n",
      "NDCG@5: 0.25877448295684946\n",
      "NDCG@10: 0.31289294988933547\n"
     ]
    },
    {
     "name": "stderr",
     "output_type": "stream",
     "text": [
      "                                                                    \r"
     ]
    },
    {
     "name": "stdout",
     "output_type": "stream",
     "text": [
      "Epoch 31: Avg Loss/Batch 0.267835            \n"
     ]
    },
    {
     "name": "stderr",
     "output_type": "stream",
     "text": [
      "                                                   \r"
     ]
    },
    {
     "name": "stdout",
     "output_type": "stream",
     "text": [
      "HR@1: 0.13043478260869565\n",
      "HR@5: 0.3796394485683987\n",
      "HR@10: 0.5461293743372216\n",
      "NDCG@1: 0.13043478260869565\n",
      "NDCG@5: 0.25768642230994293\n",
      "NDCG@10: 0.3113724478763811\n"
     ]
    },
    {
     "name": "stderr",
     "output_type": "stream",
     "text": [
      "                                                                    \r"
     ]
    },
    {
     "name": "stdout",
     "output_type": "stream",
     "text": [
      "Epoch 32: Avg Loss/Batch 0.267148            \n"
     ]
    },
    {
     "name": "stderr",
     "output_type": "stream",
     "text": [
      "                                                   \r"
     ]
    },
    {
     "name": "stdout",
     "output_type": "stream",
     "text": [
      "HR@1: 0.13043478260869565\n",
      "HR@5: 0.3753976670201485\n",
      "HR@10: 0.5440084835630965\n",
      "NDCG@1: 0.13043478260869565\n",
      "NDCG@5: 0.25530727549404486\n",
      "NDCG@10: 0.31000830222692183\n"
     ]
    },
    {
     "name": "stderr",
     "output_type": "stream",
     "text": [
      "                                                                    \r"
     ]
    },
    {
     "name": "stdout",
     "output_type": "stream",
     "text": [
      "Epoch 33: Avg Loss/Batch 0.266467            \n"
     ]
    },
    {
     "name": "stderr",
     "output_type": "stream",
     "text": [
      "                                                   \r"
     ]
    },
    {
     "name": "stdout",
     "output_type": "stream",
     "text": [
      "HR@1: 0.12937433722163308\n",
      "HR@5: 0.37857900318133614\n",
      "HR@10: 0.5418875927889714\n",
      "NDCG@1: 0.12937433722163308\n",
      "NDCG@5: 0.2558689177720217\n",
      "NDCG@10: 0.30895860597024927\n"
     ]
    },
    {
     "name": "stderr",
     "output_type": "stream",
     "text": [
      "                                                                    \r"
     ]
    },
    {
     "name": "stdout",
     "output_type": "stream",
     "text": [
      "Epoch 34: Avg Loss/Batch 0.265782            \n"
     ]
    },
    {
     "name": "stderr",
     "output_type": "stream",
     "text": [
      "                                                   \r"
     ]
    },
    {
     "name": "stdout",
     "output_type": "stream",
     "text": [
      "HR@1: 0.13149522799575822\n",
      "HR@5: 0.37645811240721105\n",
      "HR@10: 0.5461293743372216\n",
      "NDCG@1: 0.13149522799575822\n",
      "NDCG@5: 0.25557237263103666\n",
      "NDCG@10: 0.31053489681805074\n"
     ]
    },
    {
     "name": "stderr",
     "output_type": "stream",
     "text": [
      "                                                                    \r"
     ]
    },
    {
     "name": "stdout",
     "output_type": "stream",
     "text": [
      "Epoch 35: Avg Loss/Batch 0.265104            \n"
     ]
    },
    {
     "name": "stderr",
     "output_type": "stream",
     "text": [
      "                                                   \r"
     ]
    },
    {
     "name": "stdout",
     "output_type": "stream",
     "text": [
      "HR@1: 0.13043478260869565\n",
      "HR@5: 0.37857900318133614\n",
      "HR@10: 0.5440084835630965\n",
      "NDCG@1: 0.13043478260869565\n",
      "NDCG@5: 0.25618678288814256\n",
      "NDCG@10: 0.30987631111437214\n"
     ]
    },
    {
     "name": "stderr",
     "output_type": "stream",
     "text": [
      "                                                                    \r"
     ]
    },
    {
     "name": "stdout",
     "output_type": "stream",
     "text": [
      "Epoch 36: Avg Loss/Batch 0.264477            \n"
     ]
    },
    {
     "name": "stderr",
     "output_type": "stream",
     "text": [
      "                                                   \r"
     ]
    },
    {
     "name": "stdout",
     "output_type": "stream",
     "text": [
      "HR@1: 0.12937433722163308\n",
      "HR@5: 0.3743372216330859\n",
      "HR@10: 0.5471898197242842\n",
      "NDCG@1: 0.12937433722163308\n",
      "NDCG@5: 0.25430148639661176\n",
      "NDCG@10: 0.3102290269495078\n"
     ]
    },
    {
     "name": "stderr",
     "output_type": "stream",
     "text": [
      "                                                                    \r"
     ]
    },
    {
     "name": "stdout",
     "output_type": "stream",
     "text": [
      "Epoch 37: Avg Loss/Batch 0.263854            \n"
     ]
    },
    {
     "name": "stderr",
     "output_type": "stream",
     "text": [
      "                                                   \r"
     ]
    },
    {
     "name": "stdout",
     "output_type": "stream",
     "text": [
      "HR@1: 0.12513255567338283\n",
      "HR@5: 0.37327677624602335\n",
      "HR@10: 0.545068928950159\n",
      "NDCG@1: 0.12513255567338283\n",
      "NDCG@5: 0.2524181059191822\n",
      "NDCG@10: 0.3083012243762159\n"
     ]
    },
    {
     "name": "stderr",
     "output_type": "stream",
     "text": [
      "                                                                    \r"
     ]
    },
    {
     "name": "stdout",
     "output_type": "stream",
     "text": [
      "Epoch 38: Avg Loss/Batch 0.263212            \n"
     ]
    },
    {
     "name": "stderr",
     "output_type": "stream",
     "text": [
      "                                                   \r"
     ]
    },
    {
     "name": "stdout",
     "output_type": "stream",
     "text": [
      "HR@1: 0.1261930010604454\n",
      "HR@5: 0.3753976670201485\n",
      "HR@10: 0.5482502651113468\n",
      "NDCG@1: 0.1261930010604454\n",
      "NDCG@5: 0.25313933779544046\n",
      "NDCG@10: 0.30887655197912994\n"
     ]
    },
    {
     "name": "stderr",
     "output_type": "stream",
     "text": [
      "                                                                    \r"
     ]
    },
    {
     "name": "stdout",
     "output_type": "stream",
     "text": [
      "Epoch 39: Avg Loss/Batch 0.262561            \n"
     ]
    },
    {
     "name": "stderr",
     "output_type": "stream",
     "text": [
      "                                                   "
     ]
    },
    {
     "name": "stdout",
     "output_type": "stream",
     "text": [
      "HR@1: 0.12513255567338283\n",
      "HR@5: 0.37327677624602335\n",
      "HR@10: 0.5471898197242842\n",
      "NDCG@1: 0.12513255567338283\n",
      "NDCG@5: 0.251788642552101\n",
      "NDCG@10: 0.3080984164361115\n"
     ]
    },
    {
     "name": "stderr",
     "output_type": "stream",
     "text": [
      "\r"
     ]
    }
   ],
   "source": [
    "trainer.train(evaluate=True, verbose=True, progressbar=True)\n",
    "# trainer.test(verbose=False, pbar=False)"
   ]
  },
  {
   "cell_type": "code",
   "execution_count": null,
   "metadata": {},
   "outputs": [
    {
     "name": "stdout",
     "output_type": "stream",
     "text": [
      "104: {'HR@1': 0.13679745493107104, 'HR@5': 0.3860021208907741, 'HR@10': 0.5535524920466596, 'NDCG@1': 0.13679745493107104, 'NDCG@5': 0.26183027654913826, 'NDCG@10': 0.3160622946925831}\n"
     ]
    }
   ],
   "source": [
    "best_epoch = np.argmax([r[\"NDCG@10\"] for r in trainer.test_log])\n",
    "print(f\"{best_epoch}: {trainer.test_log[best_epoch]}\")"
   ]
  },
  {
   "cell_type": "code",
   "execution_count": null,
   "metadata": {},
   "outputs": [
    {
     "name": "stdout",
     "output_type": "stream",
     "text": [
      "77: {'HR@1': 0.1357370095440085, 'HR@5': 0.37751855779427357, 'HR@10': 0.5556733828207847, 'NDCG@1': 0.1357370095440085, 'NDCG@5': 0.25860058009897624, 'NDCG@10': 0.3158008204897394}\n"
     ]
    }
   ],
   "source": [
    "best_epoch = np.argmax([r[\"NDCG@10\"] for r in trainer.test_log])\n",
    "print(f\"{best_epoch}: {trainer.test_log[best_epoch]}\")"
   ]
  },
  {
   "cell_type": "code",
   "execution_count": null,
   "metadata": {},
   "outputs": [
    {
     "name": "stdout",
     "output_type": "stream",
     "text": [
      "25: {'HR@1': 0.1357370095440085, 'HR@5': 0.34994697773064687, 'HR@10': 0.5471898197242842, 'NDCG@1': 0.1357370095440085, 'NDCG@5': 0.24658333238245064, 'NDCG@10': 0.30979900867095866}\n"
     ]
    }
   ],
   "source": [
    "best_epoch = np.argmax([r[\"NDCG@10\"] for r in trainer.test_log])\n",
    "print(f\"{best_epoch}: {trainer.test_log[best_epoch]}\")"
   ]
  },
  {
   "cell_type": "code",
   "execution_count": null,
   "metadata": {},
   "outputs": [],
   "source": [
    "torch.save(trainer.model.state_dict(), \"saved_models/nmfbce.pt\")\n",
    "# trainer.model.load_state_dict(torch.load(\"saved_models/nmfbce.pt\"))"
   ]
  }
 ],
 "metadata": {
  "kernelspec": {
   "display_name": "v39",
   "language": "python",
   "name": "python3"
  },
  "language_info": {
   "codemirror_mode": {
    "name": "ipython",
    "version": 3
   },
   "file_extension": ".py",
   "mimetype": "text/x-python",
   "name": "python",
   "nbconvert_exporter": "python",
   "pygments_lexer": "ipython3",
   "version": "3.9.7"
  }
 },
 "nbformat": 4,
 "nbformat_minor": 2
}
